{
 "cells": [
  {
   "cell_type": "code",
   "execution_count": 1,
   "metadata": {},
   "outputs": [
    {
     "data": {
      "text/plain": [
       "'/Users/dennis/repos/study/mt/mt_rdf'"
      ]
     },
     "execution_count": 1,
     "metadata": {},
     "output_type": "execute_result"
    }
   ],
   "source": [
    "import os\n",
    "os.chdir('../')\n",
    "os.getcwd()"
   ]
  },
  {
   "cell_type": "code",
   "execution_count": 5,
   "metadata": {},
   "outputs": [],
   "source": [
    "from SPARQLWrapper import SPARQLWrapper, JSON\n",
    "import time\n"
   ]
  },
  {
   "cell_type": "code",
   "execution_count": 2,
   "metadata": {},
   "outputs": [],
   "source": [
    "query = \"PREFIX :  <http://unics.cloud/ontology/> SELECT ?T1_total_cost WHERE { ?T1 a :projects . ?T1 :projects\\#total_cost ?T1_total_cost . ?T1 :projects\\#title ?T1_title . FILTER(?T1_title = 'Theseus') .        }\""
   ]
  },
  {
   "cell_type": "code",
   "execution_count": 23,
   "metadata": {},
   "outputs": [],
   "source": [
    "def execute_sparql(query, db_id):\n",
    "    \"\"\"This function executes the sparql query and returns the results\"\"\"\n",
    "    sparql = SPARQLWrapper(\"http://160.85.252.68:9999/sparql\")\n",
    "    sparql.setTimeout(300)\n",
    "    sparql.setReturnFormat(JSON)\n",
    "    # sparql.setQuery('PREFIX :  <http://unics.cloud/ontology/>\\nPREFIX onto: <http://www.ontotext.com/>' + query)\n",
    "    sparql.setQuery(query)\n",
    "    # the previous query as a literal string\n",
    "    try:\n",
    "        start_time = time.time()\n",
    "        results = sparql.query()\n",
    "        execution_time = time.time() - start_time\n",
    "\n",
    "        results = results.convert()\n",
    "        return results, execution_time\n",
    "    #     clean_results = []\n",
    "    #     for row in results['results']['bindings']:\n",
    "    #         interim_results=[]\n",
    "    #         for i in range(len(results['head']['vars'])):\n",
    "    #             if 'datatype' in row.get(results['head']['vars'][i]).keys():\n",
    "    #                 value = int(row.get(results['head']['vars'][i])['value'])\n",
    "    #                 interim_results.append(value)\n",
    "    #             else:\n",
    "    #                 value = row.get(results['head']['vars'][i])['value'] \n",
    "    #                 interim_results.append(value)\n",
    "    #         if len(interim_results) != 0:\n",
    "    #             clean_results.append(tuple(interim_results))\n",
    "    #     return clean_results, execution_time\n",
    "    except Exception as e:\n",
    "        print(e)\n",
    "    return None, 0"
   ]
  },
  {
   "cell_type": "code",
   "execution_count": 15,
   "metadata": {},
   "outputs": [
    {
     "data": {
      "text/plain": [
       "({'head': {'vars': ['T1_total_cost']},\n",
       "  'results': {'bindings': [{'T1_total_cost': {'datatype': 'http://www.w3.org/2001/XMLSchema#double',\n",
       "      'type': 'literal',\n",
       "      'value': '71429.0'}}]}},\n",
       " 1.47810697555542)"
      ]
     },
     "execution_count": 15,
     "metadata": {},
     "output_type": "execute_result"
    }
   ],
   "source": [
    "res = execute_sparql(query=query, db_id=None)\n",
    "# print(res[1])\n",
    "# res[0]\n",
    "res"
   ]
  },
  {
   "cell_type": "code",
   "execution_count": 16,
   "metadata": {},
   "outputs": [
    {
     "data": {
      "text/plain": [
       "\"SELECT count(p.full_name) FROM people as p JOIN projects as pro on p.unics_id = pro.unics_id JOIN fund_schemes as fs on fs.code = pro.code WHERE fs = ''\""
      ]
     },
     "execution_count": 16,
     "metadata": {},
     "output_type": "execute_result"
    }
   ],
   "source": [
    "\"SELECT count(p.full_name) FROM people as p JOIN projects as pro on p.unics_id = pro.unics_id JOIN fund_schemes as fs on fs.code = pro.code WHERE fs = ''\""
   ]
  },
  {
   "cell_type": "code",
   "execution_count": 21,
   "metadata": {},
   "outputs": [],
   "source": [
    "query_2 = \"PREFIX : <http://unics.cloud/ontology/> select distinct ?name where { ?people a :people . ?project a :projects .  ?people :people\\#full_name ?name . ?people :people\\#unics_id ?peo_id. ?project :projects\\#principal_investigator ?pro_id. ?project :projects\\#ec_fund_scheme ?pro_code . ?fs :funding_schemes\\#code ?fs_code . FILTER (?fs_code = ?pro_code && ?pro_id = ?peo_id)} limit 100 \""
   ]
  },
  {
   "cell_type": "code",
   "execution_count": null,
   "metadata": {},
   "outputs": [],
   "source": [
    "#?fs a :funding_schemes ."
   ]
  },
  {
   "cell_type": "code",
   "execution_count": 24,
   "metadata": {},
   "outputs": [],
   "source": [
    "res = execute_sparql(query=query_2, db_id=None)"
   ]
  },
  {
   "cell_type": "code",
   "execution_count": 25,
   "metadata": {},
   "outputs": [
    {
     "data": {
      "text/plain": [
       "({'head': {'vars': ['name']},\n",
       "  'results': {'bindings': [{'name': {'type': 'literal',\n",
       "      'value': 'Stephane Redon'}},\n",
       "    {'name': {'type': 'literal', 'value': 'Sven Bestmann'}},\n",
       "    {'name': {'type': 'literal', 'value': 'Stephan Wolfgang Grill'}},\n",
       "    {'name': {'type': 'literal', 'value': 'Ivan Laptev'}},\n",
       "    {'name': {'type': 'literal', 'value': 'Johan Meyers'}},\n",
       "    {'name': {'type': 'literal', 'value': 'Thomas Arno Klar'}},\n",
       "    {'name': {'type': 'literal', 'value': 'Lucia Michelutti'}},\n",
       "    {'name': {'type': 'literal', 'value': 'Thomas, Martin Jean Bataillon'}},\n",
       "    {'name': {'type': 'literal', 'value': 'Veit Hornung'}},\n",
       "    {'name': {'type': 'literal', 'value': 'Marco Fattori'}},\n",
       "    {'name': {'type': 'literal', 'value': 'Amy Marie Bogaard'}},\n",
       "    {'name': {'type': 'literal', 'value': 'Ann Heylighen'}},\n",
       "    {'name': {'type': 'literal', 'value': 'Emma Teeling'}},\n",
       "    {'name': {'type': 'literal', 'value': 'Thomas Wolbers'}},\n",
       "    {'name': {'type': 'literal', 'value': 'Alexei Maklakov'}},\n",
       "    {'name': {'type': 'literal', 'value': 'Jan Rudolf Van Ommen'}},\n",
       "    {'name': {'type': 'literal', 'value': 'Michal Feldman'}},\n",
       "    {'name': {'type': 'literal', 'value': 'Athina Markaki'}},\n",
       "    {'name': {'type': 'literal', 'value': 'Giovanna Rizzarelli'}},\n",
       "    {'name': {'type': 'literal', 'value': 'Eoin Casey'}},\n",
       "    {'name': {'type': 'literal', 'value': 'Toby Gee'}},\n",
       "    {'name': {'type': 'literal', 'value': 'Steven Bouillon'}},\n",
       "    {'name': {'type': 'literal', 'value': 'Thierry Edouard Bertrand Magin'}},\n",
       "    {'name': {'type': 'literal', 'value': 'Jens Henrik Mikael Fransson'}},\n",
       "    {'name': {'type': 'literal', 'value': 'Jarrett Zigon'}},\n",
       "    {'name': {'type': 'literal', 'value': 'Matthew Pudan Juniper'}},\n",
       "    {'name': {'type': 'literal', 'value': 'Bas Van Der Klaauw'}},\n",
       "    {'name': {'type': 'literal', 'value': 'Peter Lodahl'}},\n",
       "    {'name': {'type': 'literal', 'value': 'Enrico Maria Surace'}},\n",
       "    {'name': {'type': 'literal', 'value': 'Tim Julius Schulz'}},\n",
       "    {'name': {'type': 'literal', 'value': 'Shahar Mendelson'}},\n",
       "    {'name': {'type': 'literal', 'value': 'Anne Rebecca Britton'}},\n",
       "    {'name': {'type': 'literal', 'value': 'Hans Kristian Kamfjord Eriksen'}},\n",
       "    {'name': {'type': 'literal', 'value': 'Miguel Angel Otaduy Tristan'}},\n",
       "    {'name': {'type': 'literal', 'value': 'Graeme Matthew Day'}},\n",
       "    {'name': {'type': 'literal', 'value': 'Grazyna Ewa Ptak'}},\n",
       "    {'name': {'type': 'literal', 'value': 'Laurent Sanchez-Palencia'}},\n",
       "    {'name': {'type': 'literal', 'value': 'Feliciano Giustino'}},\n",
       "    {'name': {'type': 'literal', 'value': 'Christoph Koch'}},\n",
       "    {'name': {'type': 'literal', 'value': 'Michael Potente'}},\n",
       "    {'name': {'type': 'literal', 'value': 'Sara Evans'}},\n",
       "    {'name': {'type': 'literal', 'value': 'Yvon Jaillais'}},\n",
       "    {'name': {'type': 'literal', 'value': 'Gulnara Arzhantseva'}},\n",
       "    {'name': {'type': 'literal', 'value': 'Ayumu Tashiro'}},\n",
       "    {'name': {'type': 'literal', 'value': 'Thomas Anthopoulos'}},\n",
       "    {'name': {'type': 'literal', 'value': 'Sebastien Roger Louis Guenneau'}},\n",
       "    {'name': {'type': 'literal', 'value': 'Jonas Grethlein'}},\n",
       "    {'name': {'type': 'literal', 'value': 'Johannes Krause'}},\n",
       "    {'name': {'type': 'literal', 'value': 'Jorunn Indra Berit Bos'}},\n",
       "    {'name': {'type': 'literal', 'value': 'Deryk Osthus'}},\n",
       "    {'name': {'type': 'literal', 'value': 'Helen Marie Talbot'}},\n",
       "    {'name': {'type': 'literal', 'value': 'Oliver Trapp'}},\n",
       "    {'name': {'type': 'literal', 'value': 'Daniela Grunow'}},\n",
       "    {'name': {'type': 'literal', 'value': 'Ana Jes��s Garc��a S��ez'}},\n",
       "    {'name': {'type': 'literal', 'value': 'Tinne Tuytelaars'}},\n",
       "    {'name': {'type': 'literal', 'value': 'Jed Oliver Kaplan'}},\n",
       "    {'name': {'type': 'literal', 'value': 'Shina Caroline Lynn Kamerlin'}},\n",
       "    {'name': {'type': 'literal', 'value': 'Anat Levin'}},\n",
       "    {'name': {'type': 'literal', 'value': 'Wilfried Weber'}},\n",
       "    {'name': {'type': 'literal', 'value': 'Hugh Alexander Gervase Houghton'}},\n",
       "    {'name': {'type': 'literal', 'value': 'Eva Marie Carlen'}},\n",
       "    {'name': {'type': 'literal', 'value': 'Erik Dujardin'}},\n",
       "    {'name': {'type': 'literal', 'value': 'Sylvain Herv�� Gigan'}},\n",
       "    {'name': {'type': 'literal', 'value': 'Michael Christoph Gastpar'}},\n",
       "    {'name': {'type': 'literal', 'value': 'Alessandro Giuliani'}},\n",
       "    {'name': {'type': 'literal', 'value': 'Alexander Nesterov-Mueller'}},\n",
       "    {'name': {'type': 'literal', 'value': 'Amaelle Israel'}},\n",
       "    {'name': {'type': 'literal', 'value': 'Michael Bronstein'}},\n",
       "    {'name': {'type': 'literal',\n",
       "      'value': 'Santiago Ignacio Badia Rodr��guez'}},\n",
       "    {'name': {'type': 'literal', 'value': 'Alexander Bangs Edmonds'}},\n",
       "    {'name': {'type': 'literal', 'value': 'Rafal Klajn'}},\n",
       "    {'name': {'type': 'literal', 'value': 'James Wookey'}},\n",
       "    {'name': {'type': 'literal', 'value': 'Ilka Bischofs-Pfeifer'}},\n",
       "    {'name': {'type': 'literal', 'value': 'Nathan Mcclenaghan'}},\n",
       "    {'name': {'type': 'literal', 'value': 'Soeren Fournais'}},\n",
       "    {'name': {'type': 'literal', 'value': 'Stefano Bianchini'}},\n",
       "    {'name': {'type': 'literal', 'value': 'Sandra Hirche'}},\n",
       "    {'name': {'type': 'literal', 'value': 'Antoine Guy Bernard Jerusalem'}},\n",
       "    {'name': {'type': 'literal', 'value': 'Andreas Bausch'}},\n",
       "    {'name': {'type': 'literal',\n",
       "      'value': 'Christiane Helene Berger-Schaffitzel'}},\n",
       "    {'name': {'type': 'literal', 'value': 'Claudio Conti'}},\n",
       "    {'name': {'type': 'literal', 'value': 'Alberto Sanz Montero'}},\n",
       "    {'name': {'type': 'literal', 'value': 'Victor Michael Panaretos'}},\n",
       "    {'name': {'type': 'literal', 'value': 'Anne-Lise Mamessier'}},\n",
       "    {'name': {'type': 'literal', 'value': 'Anne-Clemence Corminboeuf'}},\n",
       "    {'name': {'type': 'literal', 'value': 'Daniel Cremers'}},\n",
       "    {'name': {'type': 'literal', 'value': 'Henk Wymeersch'}},\n",
       "    {'name': {'type': 'literal', 'value': 'Marco Baroni'}},\n",
       "    {'name': {'type': 'literal', 'value': 'Stefan Szeider'}},\n",
       "    {'name': {'type': 'literal', 'value': 'David Paul Melcher'}},\n",
       "    {'name': {'type': 'literal', 'value': 'Henrik Ronnow'}},\n",
       "    {'name': {'type': 'literal', 'value': 'Anneli Albi'}},\n",
       "    {'name': {'type': 'literal', 'value': 'Bleda Serge During'}},\n",
       "    {'name': {'type': 'literal', 'value': 'Anders Martin Fjell'}},\n",
       "    {'name': {'type': 'literal', 'value': 'Vernesa Smolcic'}},\n",
       "    {'name': {'type': 'literal', 'value': 'Ansgar Kahmen'}},\n",
       "    {'name': {'type': 'literal', 'value': 'Ulrike Seibt'}},\n",
       "    {'name': {'type': 'literal', 'value': 'Duncan Odom'}},\n",
       "    {'name': {'type': 'literal', 'value': 'Mangala Srinivas'}},\n",
       "    {'name': {'type': 'literal', 'value': 'Victor Borrell Franco'}}]}},\n",
       " 148.87336134910583)"
      ]
     },
     "execution_count": 25,
     "metadata": {},
     "output_type": "execute_result"
    }
   ],
   "source": [
    "res"
   ]
  },
  {
   "cell_type": "code",
   "execution_count": 26,
   "metadata": {},
   "outputs": [],
   "source": [
    "query_3 = \"PREFIX : <http://unics.cloud/ontology/> select distinct ?name where { ?people a :people . ?project a :projects .  ?people :people\\#full_name ?name . ?people :people\\#unics_id ?peo_id. ?project :projects\\#principal_investigator ?pro_id. ?project :projects\\#ec_fund_scheme ?pro_code . ?fs :funding_schemes\\#code ?fs_code . FILTER (?fs_code = ?pro_code && ?pro_id = ?peo_id && ?fs_title = 'Proof of Concept Grant')} limit 100 \""
   ]
  },
  {
   "cell_type": "code",
   "execution_count": 27,
   "metadata": {},
   "outputs": [
    {
     "name": "stdout",
     "output_type": "stream",
     "text": [
      "timed out\n"
     ]
    }
   ],
   "source": [
    "res = execute_sparql(query=query_3, db_id=None)"
   ]
  },
  {
   "cell_type": "code",
   "execution_count": 31,
   "metadata": {},
   "outputs": [],
   "source": [
    "query_4 = \"PREFIX : <http://unics.cloud/ontology/> SELECT * WHERE { hint:Query hint:optimizer 'None' . ?s ?p ?o . ?s a :institutions .} LIMIT 100\""
   ]
  },
  {
   "cell_type": "code",
   "execution_count": 32,
   "metadata": {},
   "outputs": [],
   "source": [
    "res = execute_sparql(query=query_4, db_id=None)"
   ]
  },
  {
   "cell_type": "code",
   "execution_count": 34,
   "metadata": {},
   "outputs": [
    {
     "data": {
      "text/plain": [
       "22.36212992668152"
      ]
     },
     "execution_count": 34,
     "metadata": {},
     "output_type": "execute_result"
    }
   ],
   "source": [
    "res[1]"
   ]
  },
  {
   "cell_type": "code",
   "execution_count": 35,
   "metadata": {},
   "outputs": [],
   "source": [
    "query_5 = \"PREFIX : <http://unics.cloud/ontology/> SELECT * WHERE { ?s ?p ?o . ?s a :institutions .} LIMIT 100\""
   ]
  },
  {
   "cell_type": "code",
   "execution_count": 36,
   "metadata": {},
   "outputs": [
    {
     "data": {
      "text/plain": [
       "18.631598234176636"
      ]
     },
     "execution_count": 36,
     "metadata": {},
     "output_type": "execute_result"
    }
   ],
   "source": [
    "res = execute_sparql(query=query_4, db_id=None)\n",
    "res[1]"
   ]
  },
  {
   "cell_type": "code",
   "execution_count": 37,
   "metadata": {},
   "outputs": [],
   "source": [
    "query_6 = \"PREFIX : <http://unics.cloud/ontology/> SELECT * WHERE { hint:Query hint:optimizer 'None' . ?s a :institutions . ?s ?p ?o .} LIMIT 100\""
   ]
  },
  {
   "cell_type": "code",
   "execution_count": 38,
   "metadata": {},
   "outputs": [
    {
     "data": {
      "text/plain": [
       "19.231168031692505"
      ]
     },
     "execution_count": 38,
     "metadata": {},
     "output_type": "execute_result"
    }
   ],
   "source": [
    "res = execute_sparql(query=query_4, db_id=None)\n",
    "res[1]"
   ]
  },
  {
   "cell_type": "code",
   "execution_count": null,
   "metadata": {},
   "outputs": [],
   "source": []
  }
 ],
 "metadata": {
  "kernelspec": {
   "display_name": "env",
   "language": "python",
   "name": "python3"
  },
  "language_info": {
   "codemirror_mode": {
    "name": "ipython",
    "version": 3
   },
   "file_extension": ".py",
   "mimetype": "text/x-python",
   "name": "python",
   "nbconvert_exporter": "python",
   "pygments_lexer": "ipython3",
   "version": "3.9.18"
  }
 },
 "nbformat": 4,
 "nbformat_minor": 2
}
