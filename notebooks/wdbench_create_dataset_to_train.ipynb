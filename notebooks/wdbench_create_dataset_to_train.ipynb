{
 "cells": [
  {
   "cell_type": "code",
   "execution_count": 1,
   "metadata": {},
   "outputs": [
    {
     "data": {
      "text/plain": [
       "'/Users/dennis/repos/study/mt/mt_rdf'"
      ]
     },
     "execution_count": 1,
     "metadata": {},
     "output_type": "execute_result"
    }
   ],
   "source": [
    "import os\n",
    "os.chdir('../')\n",
    "os.getcwd()"
   ]
  },
  {
   "cell_type": "code",
   "execution_count": 4,
   "metadata": {},
   "outputs": [],
   "source": [
    "import pandas as pd\n",
    "from tqdm import tqdm\n",
    "from functools import reduce\n",
    "from src.query.wdbench import WDBench\n",
    "from src.query.query_type import QueryType"
   ]
  },
  {
   "cell_type": "code",
   "execution_count": 5,
   "metadata": {},
   "outputs": [],
   "source": [
    "wdbench = WDBench()"
   ]
  },
  {
   "cell_type": "code",
   "execution_count": 7,
   "metadata": {},
   "outputs": [],
   "source": [
    "ds = wdbench.queries"
   ]
  },
  {
   "cell_type": "code",
   "execution_count": 8,
   "metadata": {},
   "outputs": [
    {
     "data": {
      "text/html": [
       "<div>\n",
       "<style scoped>\n",
       "    .dataframe tbody tr th:only-of-type {\n",
       "        vertical-align: middle;\n",
       "    }\n",
       "\n",
       "    .dataframe tbody tr th {\n",
       "        vertical-align: top;\n",
       "    }\n",
       "\n",
       "    .dataframe thead th {\n",
       "        text-align: right;\n",
       "    }\n",
       "</style>\n",
       "<table border=\"1\" class=\"dataframe\">\n",
       "  <thead>\n",
       "    <tr style=\"text-align: right;\">\n",
       "      <th></th>\n",
       "      <th>q_id</th>\n",
       "      <th>query_parts</th>\n",
       "      <th>q_type</th>\n",
       "      <th>n_entities</th>\n",
       "      <th>entities</th>\n",
       "    </tr>\n",
       "  </thead>\n",
       "  <tbody>\n",
       "    <tr>\n",
       "      <th>0</th>\n",
       "      <td>1</td>\n",
       "      <td>&lt;http://www.wikidata.org/entity/Q137109&gt; ?x1 ?...</td>\n",
       "      <td>opts</td>\n",
       "      <td>1</td>\n",
       "      <td>[&lt;http://www.wikidata.org/entity/Q137109&gt;]</td>\n",
       "    </tr>\n",
       "    <tr>\n",
       "      <th>1</th>\n",
       "      <td>2</td>\n",
       "      <td>?x1 &lt;http://www.wikidata.org/prop/direct/P016&gt;...</td>\n",
       "      <td>opts</td>\n",
       "      <td>1</td>\n",
       "      <td>[&lt;http://www.wikidata.org/entity/Q13414980&gt;]</td>\n",
       "    </tr>\n",
       "    <tr>\n",
       "      <th>2</th>\n",
       "      <td>3</td>\n",
       "      <td>?x1 &lt;http://www.wikidata.org/prop/direct/P102&gt;...</td>\n",
       "      <td>opts</td>\n",
       "      <td>1</td>\n",
       "      <td>[&lt;http://www.wikidata.org/entity/Q6721203&gt;]</td>\n",
       "    </tr>\n",
       "    <tr>\n",
       "      <th>3</th>\n",
       "      <td>4</td>\n",
       "      <td>?x1 &lt;http://www.wikidata.org/prop/direct/P106&gt;...</td>\n",
       "      <td>opts</td>\n",
       "      <td>4</td>\n",
       "      <td>[&lt;http://www.wikidata.org/entity/Q1028181&gt;, &lt;h...</td>\n",
       "    </tr>\n",
       "    <tr>\n",
       "      <th>4</th>\n",
       "      <td>5</td>\n",
       "      <td>?x1 &lt;http://www.wikidata.org/prop/direct/P106&gt;...</td>\n",
       "      <td>opts</td>\n",
       "      <td>3</td>\n",
       "      <td>[&lt;http://www.wikidata.org/entity/Q13382603&gt;, &lt;...</td>\n",
       "    </tr>\n",
       "    <tr>\n",
       "      <th>...</th>\n",
       "      <td>...</td>\n",
       "      <td>...</td>\n",
       "      <td>...</td>\n",
       "      <td>...</td>\n",
       "      <td>...</td>\n",
       "    </tr>\n",
       "    <tr>\n",
       "      <th>2653</th>\n",
       "      <td>677</td>\n",
       "      <td>?x1 ?x2 &lt;http://www.wikidata.org/entity/Q31&gt; ....</td>\n",
       "      <td>multiple_bgps</td>\n",
       "      <td>2</td>\n",
       "      <td>[&lt;http://www.wikidata.org/entity/Q31&gt;, &lt;http:/...</td>\n",
       "    </tr>\n",
       "    <tr>\n",
       "      <th>2654</th>\n",
       "      <td>678</td>\n",
       "      <td>?x1 ?x2 &lt;http://www.wikidata.org/entity/Q48487...</td>\n",
       "      <td>multiple_bgps</td>\n",
       "      <td>1</td>\n",
       "      <td>[&lt;http://www.wikidata.org/entity/Q484876&gt;]</td>\n",
       "    </tr>\n",
       "    <tr>\n",
       "      <th>2655</th>\n",
       "      <td>679</td>\n",
       "      <td>?x1 ?x2 &lt;http://www.wikidata.org/entity/Q5&gt; . ...</td>\n",
       "      <td>multiple_bgps</td>\n",
       "      <td>1</td>\n",
       "      <td>[&lt;http://www.wikidata.org/entity/Q5&gt;]</td>\n",
       "    </tr>\n",
       "    <tr>\n",
       "      <th>2656</th>\n",
       "      <td>680</td>\n",
       "      <td>?x1 ?x2 &lt;http://www.wikidata.org/entity/Q65364...</td>\n",
       "      <td>multiple_bgps</td>\n",
       "      <td>2</td>\n",
       "      <td>[&lt;http://www.wikidata.org/entity/Q653645&gt;, &lt;ht...</td>\n",
       "    </tr>\n",
       "    <tr>\n",
       "      <th>2657</th>\n",
       "      <td>681</td>\n",
       "      <td>?x1 ?x2 &lt;http://www.wikidata.org/entity/Q7075&gt;...</td>\n",
       "      <td>multiple_bgps</td>\n",
       "      <td>1</td>\n",
       "      <td>[&lt;http://www.wikidata.org/entity/Q7075&gt;]</td>\n",
       "    </tr>\n",
       "  </tbody>\n",
       "</table>\n",
       "<p>2658 rows × 5 columns</p>\n",
       "</div>"
      ],
      "text/plain": [
       "      q_id                                        query_parts         q_type  \\\n",
       "0        1  <http://www.wikidata.org/entity/Q137109> ?x1 ?...           opts   \n",
       "1        2  ?x1 <http://www.wikidata.org/prop/direct/P016>...           opts   \n",
       "2        3  ?x1 <http://www.wikidata.org/prop/direct/P102>...           opts   \n",
       "3        4  ?x1 <http://www.wikidata.org/prop/direct/P106>...           opts   \n",
       "4        5  ?x1 <http://www.wikidata.org/prop/direct/P106>...           opts   \n",
       "...    ...                                                ...            ...   \n",
       "2653   677  ?x1 ?x2 <http://www.wikidata.org/entity/Q31> ....  multiple_bgps   \n",
       "2654   678  ?x1 ?x2 <http://www.wikidata.org/entity/Q48487...  multiple_bgps   \n",
       "2655   679  ?x1 ?x2 <http://www.wikidata.org/entity/Q5> . ...  multiple_bgps   \n",
       "2656   680  ?x1 ?x2 <http://www.wikidata.org/entity/Q65364...  multiple_bgps   \n",
       "2657   681  ?x1 ?x2 <http://www.wikidata.org/entity/Q7075>...  multiple_bgps   \n",
       "\n",
       "      n_entities                                           entities  \n",
       "0              1         [<http://www.wikidata.org/entity/Q137109>]  \n",
       "1              1       [<http://www.wikidata.org/entity/Q13414980>]  \n",
       "2              1        [<http://www.wikidata.org/entity/Q6721203>]  \n",
       "3              4  [<http://www.wikidata.org/entity/Q1028181>, <h...  \n",
       "4              3  [<http://www.wikidata.org/entity/Q13382603>, <...  \n",
       "...          ...                                                ...  \n",
       "2653           2  [<http://www.wikidata.org/entity/Q31>, <http:/...  \n",
       "2654           1         [<http://www.wikidata.org/entity/Q484876>]  \n",
       "2655           1              [<http://www.wikidata.org/entity/Q5>]  \n",
       "2656           2  [<http://www.wikidata.org/entity/Q653645>, <ht...  \n",
       "2657           1           [<http://www.wikidata.org/entity/Q7075>]  \n",
       "\n",
       "[2658 rows x 5 columns]"
      ]
     },
     "execution_count": 8,
     "metadata": {},
     "output_type": "execute_result"
    }
   ],
   "source": [
    "ds"
   ]
  },
  {
   "cell_type": "code",
   "execution_count": 9,
   "metadata": {},
   "outputs": [],
   "source": [
    "ds.rename(columns={'query_parts': 'query'}, inplace=True)"
   ]
  },
  {
   "cell_type": "code",
   "execution_count": 10,
   "metadata": {},
   "outputs": [],
   "source": [
    "ds.rename(columns={'q_id': 'query_id'}, inplace=True)"
   ]
  },
  {
   "cell_type": "code",
   "execution_count": 12,
   "metadata": {},
   "outputs": [],
   "source": [
    "ds.rename(columns={'q_type': 'query_type'}, inplace=True)"
   ]
  },
  {
   "cell_type": "code",
   "execution_count": 13,
   "metadata": {},
   "outputs": [],
   "source": [
    "ds = ds[['query_id', 'query', 'query_type']]"
   ]
  },
  {
   "cell_type": "code",
   "execution_count": 14,
   "metadata": {},
   "outputs": [],
   "source": [
    "def add_query_to_df(df, nl=False):\n",
    "    ds_dict = {'query_id': [], 'query': [], 'query_type':[],  'label': []}\n",
    "    for index, row in tqdm(df.iterrows()):\n",
    "        filename = f'Q{row[\"query_id\"]}.sparql'\n",
    "\n",
    "        with open(os.path.join(f'data/raw/wdbench/full_wdbench/{row[\"query_type\"]}', filename), 'r') as file:\n",
    "            query = file.read()\n",
    "            query = query.split('NL-QUESTION:')[1 if nl else 0].strip()\n",
    "                # print(repr(query))\n",
    "            ds_dict['query'].append(query)\n",
    "            ds_dict['query_id'].append(row['query_id'])\n",
    "            ds_dict['query_type'].append(row['query_type'])\n",
    "            ds_dict['label'].append(-1)\n",
    "        \n",
    "    final_ds = pd.DataFrame(ds_dict)\n",
    "    return final_ds"
   ]
  },
  {
   "cell_type": "code",
   "execution_count": 15,
   "metadata": {},
   "outputs": [
    {
     "name": "stderr",
     "output_type": "stream",
     "text": [
      "0it [00:00, ?it/s]"
     ]
    },
    {
     "name": "stderr",
     "output_type": "stream",
     "text": [
      "2658it [00:00, 8812.32it/s]\n"
     ]
    }
   ],
   "source": [
    "nl_ds = add_query_to_df(ds, nl=True)"
   ]
  },
  {
   "cell_type": "code",
   "execution_count": 19,
   "metadata": {},
   "outputs": [
    {
     "data": {
      "text/html": [
       "<div>\n",
       "<style scoped>\n",
       "    .dataframe tbody tr th:only-of-type {\n",
       "        vertical-align: middle;\n",
       "    }\n",
       "\n",
       "    .dataframe tbody tr th {\n",
       "        vertical-align: top;\n",
       "    }\n",
       "\n",
       "    .dataframe thead th {\n",
       "        text-align: right;\n",
       "    }\n",
       "</style>\n",
       "<table border=\"1\" class=\"dataframe\">\n",
       "  <thead>\n",
       "    <tr style=\"text-align: right;\">\n",
       "      <th></th>\n",
       "      <th>query_id</th>\n",
       "      <th>query</th>\n",
       "      <th>query_type</th>\n",
       "      <th>label</th>\n",
       "    </tr>\n",
       "  </thead>\n",
       "  <tbody>\n",
       "    <tr>\n",
       "      <th>0</th>\n",
       "      <td>1</td>\n",
       "      <td>What information is available about the movie ...</td>\n",
       "      <td>opts</td>\n",
       "      <td>-1</td>\n",
       "    </tr>\n",
       "    <tr>\n",
       "      <th>1</th>\n",
       "      <td>2</td>\n",
       "      <td>What are the family name, date of birth, place...</td>\n",
       "      <td>opts</td>\n",
       "      <td>-1</td>\n",
       "    </tr>\n",
       "    <tr>\n",
       "      <th>2</th>\n",
       "      <td>3</td>\n",
       "      <td>What are the dates of birth, places of birth, ...</td>\n",
       "      <td>opts</td>\n",
       "      <td>-1</td>\n",
       "    </tr>\n",
       "    <tr>\n",
       "      <th>3</th>\n",
       "      <td>4</td>\n",
       "      <td>Which painters have a father who is also a pai...</td>\n",
       "      <td>opts</td>\n",
       "      <td>-1</td>\n",
       "    </tr>\n",
       "    <tr>\n",
       "      <th>4</th>\n",
       "      <td>5</td>\n",
       "      <td>What are the male ski jumpers from Poland and ...</td>\n",
       "      <td>opts</td>\n",
       "      <td>-1</td>\n",
       "    </tr>\n",
       "    <tr>\n",
       "      <th>...</th>\n",
       "      <td>...</td>\n",
       "      <td>...</td>\n",
       "      <td>...</td>\n",
       "      <td>...</td>\n",
       "    </tr>\n",
       "    <tr>\n",
       "      <th>2653</th>\n",
       "      <td>677</td>\n",
       "      <td>What are the coordinates of airports located i...</td>\n",
       "      <td>multiple_bgps</td>\n",
       "      <td>-1</td>\n",
       "    </tr>\n",
       "    <tr>\n",
       "      <th>2654</th>\n",
       "      <td>678</td>\n",
       "      <td>What is the image, spouse, and date of birth o...</td>\n",
       "      <td>multiple_bgps</td>\n",
       "      <td>-1</td>\n",
       "    </tr>\n",
       "    <tr>\n",
       "      <th>2655</th>\n",
       "      <td>679</td>\n",
       "      <td>Which humans have published in something?</td>\n",
       "      <td>multiple_bgps</td>\n",
       "      <td>-1</td>\n",
       "    </tr>\n",
       "    <tr>\n",
       "      <th>2656</th>\n",
       "      <td>680</td>\n",
       "      <td>What films are instances of Ari Folman?</td>\n",
       "      <td>multiple_bgps</td>\n",
       "      <td>-1</td>\n",
       "    </tr>\n",
       "    <tr>\n",
       "      <th>2657</th>\n",
       "      <td>681</td>\n",
       "      <td>What is the library's coordinate location?</td>\n",
       "      <td>multiple_bgps</td>\n",
       "      <td>-1</td>\n",
       "    </tr>\n",
       "  </tbody>\n",
       "</table>\n",
       "<p>2658 rows × 4 columns</p>\n",
       "</div>"
      ],
      "text/plain": [
       "      query_id                                              query  \\\n",
       "0            1  What information is available about the movie ...   \n",
       "1            2  What are the family name, date of birth, place...   \n",
       "2            3  What are the dates of birth, places of birth, ...   \n",
       "3            4  Which painters have a father who is also a pai...   \n",
       "4            5  What are the male ski jumpers from Poland and ...   \n",
       "...        ...                                                ...   \n",
       "2653       677  What are the coordinates of airports located i...   \n",
       "2654       678  What is the image, spouse, and date of birth o...   \n",
       "2655       679          Which humans have published in something?   \n",
       "2656       680            What films are instances of Ari Folman?   \n",
       "2657       681         What is the library's coordinate location?   \n",
       "\n",
       "         query_type  label  \n",
       "0              opts     -1  \n",
       "1              opts     -1  \n",
       "2              opts     -1  \n",
       "3              opts     -1  \n",
       "4              opts     -1  \n",
       "...             ...    ...  \n",
       "2653  multiple_bgps     -1  \n",
       "2654  multiple_bgps     -1  \n",
       "2655  multiple_bgps     -1  \n",
       "2656  multiple_bgps     -1  \n",
       "2657  multiple_bgps     -1  \n",
       "\n",
       "[2658 rows x 4 columns]"
      ]
     },
     "execution_count": 19,
     "metadata": {},
     "output_type": "execute_result"
    }
   ],
   "source": [
    "nl_ds"
   ]
  },
  {
   "cell_type": "code",
   "execution_count": 20,
   "metadata": {},
   "outputs": [],
   "source": [
    "nl_ds[['query_id', 'query', 'query_type', 'label']].to_csv('data/raw/wdbench_nl.csv', index=False)"
   ]
  },
  {
   "cell_type": "code",
   "execution_count": 21,
   "metadata": {},
   "outputs": [],
   "source": [
    "nl_ds['query_len'] = nl_ds.apply(lambda x: len(x['query']), axis=1)"
   ]
  },
  {
   "cell_type": "code",
   "execution_count": 22,
   "metadata": {},
   "outputs": [
    {
     "data": {
      "text/plain": [
       "count    2658.000000\n",
       "mean       74.571859\n",
       "std        32.258884\n",
       "min        24.000000\n",
       "25%        52.000000\n",
       "50%        68.000000\n",
       "75%        90.000000\n",
       "max       294.000000\n",
       "Name: query_len, dtype: float64"
      ]
     },
     "execution_count": 22,
     "metadata": {},
     "output_type": "execute_result"
    }
   ],
   "source": [
    "nl_ds['query_len'].describe()"
   ]
  },
  {
   "cell_type": "code",
   "execution_count": null,
   "metadata": {},
   "outputs": [],
   "source": []
  }
 ],
 "metadata": {
  "kernelspec": {
   "display_name": "env",
   "language": "python",
   "name": "python3"
  },
  "language_info": {
   "codemirror_mode": {
    "name": "ipython",
    "version": 3
   },
   "file_extension": ".py",
   "mimetype": "text/x-python",
   "name": "python",
   "nbconvert_exporter": "python",
   "pygments_lexer": "ipython3",
   "version": "3.9.18"
  }
 },
 "nbformat": 4,
 "nbformat_minor": 2
}
