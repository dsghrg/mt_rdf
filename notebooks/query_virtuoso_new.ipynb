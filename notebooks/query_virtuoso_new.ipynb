{
 "cells": [
  {
   "cell_type": "code",
   "execution_count": 2,
   "metadata": {},
   "outputs": [
    {
     "data": {
      "text/plain": [
       "'/Users/dennis/repos/study/mt/mt_rdf'"
      ]
     },
     "execution_count": 2,
     "metadata": {},
     "output_type": "execute_result"
    }
   ],
   "source": [
    "import os\n",
    "os.chdir('../')\n",
    "os.getcwd()"
   ]
  },
  {
   "cell_type": "code",
   "execution_count": 7,
   "metadata": {},
   "outputs": [],
   "source": [
    "from src.query.wdbench import WDBench\n",
    "from src.query.query_type import *\n",
    "from src.query.query_sparql import *\n",
    "from tqdm import tqdm\n",
    "import numpy as np"
   ]
  },
  {
   "cell_type": "code",
   "execution_count": 8,
   "metadata": {},
   "outputs": [],
   "source": [
    "sparql_query = Virtuoso()"
   ]
  },
  {
   "cell_type": "code",
   "execution_count": 9,
   "metadata": {},
   "outputs": [
    {
     "name": "stderr",
     "output_type": "stream",
     "text": [
      "  0%|          | 0/280 [00:00<?, ?it/s]\n"
     ]
    },
    {
     "name": "stdout",
     "output_type": "stream",
     "text": [
      "<urlopen error [Errno 61] Connection refused>\n",
      "900\n",
      "<urlopen error [Errno 61] Connection refused>\n",
      "900\n",
      "<urlopen error [Errno 61] Connection refused>\n",
      "900\n",
      "<urlopen error [Errno 61] Connection refused>\n",
      "900\n"
     ]
    },
    {
     "name": "stderr",
     "output_type": "stream",
     "text": [
      "  0%|          | 0/681 [00:00<?, ?it/s]\n"
     ]
    },
    {
     "name": "stdout",
     "output_type": "stream",
     "text": [
      "<urlopen error [Errno 61] Connection refused>\n",
      "900\n",
      "<urlopen error [Errno 61] Connection refused>\n",
      "900\n",
      "<urlopen error [Errno 61] Connection refused>\n",
      "900\n",
      "<urlopen error [Errno 61] Connection refused>\n",
      "900\n"
     ]
    },
    {
     "name": "stderr",
     "output_type": "stream",
     "text": [
      "  0%|          | 0/660 [00:00<?, ?it/s]\n"
     ]
    },
    {
     "name": "stdout",
     "output_type": "stream",
     "text": [
      "<urlopen error [Errno 61] Connection refused>\n",
      "900\n",
      "<urlopen error [Errno 61] Connection refused>\n",
      "900\n",
      "<urlopen error [Errno 61] Connection refused>\n",
      "900\n",
      "<urlopen error [Errno 61] Connection refused>\n",
      "900\n"
     ]
    },
    {
     "name": "stderr",
     "output_type": "stream",
     "text": [
      "  0%|          | 0/539 [00:00<?, ?it/s]\n"
     ]
    },
    {
     "name": "stdout",
     "output_type": "stream",
     "text": [
      "<urlopen error [Errno 61] Connection refused>\n",
      "900\n",
      "<urlopen error [Errno 61] Connection refused>\n",
      "900\n",
      "<urlopen error [Errno 61] Connection refused>\n",
      "900\n",
      "<urlopen error [Errno 61] Connection refused>\n",
      "900\n"
     ]
    },
    {
     "name": "stderr",
     "output_type": "stream",
     "text": [
      "  0%|          | 0/498 [00:00<?, ?it/s]"
     ]
    },
    {
     "name": "stdout",
     "output_type": "stream",
     "text": [
      "<urlopen error [Errno 61] Connection refused>\n",
      "900\n",
      "<urlopen error [Errno 61] Connection refused>\n",
      "900\n",
      "<urlopen error [Errno 61] Connection refused>\n",
      "900\n",
      "<urlopen error [Errno 61] Connection refused>\n",
      "900\n"
     ]
    },
    {
     "name": "stderr",
     "output_type": "stream",
     "text": [
      "\n"
     ]
    }
   ],
   "source": [
    "wdbench = WDBench()\n",
    "wdbench.queries['exec_n'] = 0\n",
    "wdbench.queries['exec_time'] = 900\n",
    "\n",
    "res_dict = {'query_id': [], 'q_type': [], 'exec_n': [], 'exec_time': []}\n",
    "for qtype in QueryType:\n",
    "    index = 0\n",
    "\n",
    "    query_df = wdbench.queries[wdbench.queries['q_type'] == qtype.value]\n",
    "    for j, row in tqdm(query_df.iterrows(), total=query_df.shape[0]):\n",
    "        for i in range(4):\n",
    "            query = wdbench.parse_to_sparql(row['query_parts'])\n",
    "            res, exec_time = sparql_query.execute_sparql(query=query, force_order=True, timeout=900)\n",
    "            # res_dict['query_id'].append(row['q_id'])\n",
    "            # res_dict['q_type'].append(qtype.value)\n",
    "            # res_dict['exec_n'].append(i)\n",
    "            # res_dict['exec_time'].append(exec_time)\n",
    "            print(res)\n",
    "            print(exec_time)\n",
    "        \n",
    "        break\n",
    "\n",
    "        # if index % 10 == 0:\n",
    "        #     res_to_logs(result=res_dict, forced=args.forced)\n",
    "\n",
    "        index += 1\n",
    "    # res_to_logs(res_dict, forced=args.forced)"
   ]
  },
  {
   "cell_type": "code",
   "execution_count": null,
   "metadata": {},
   "outputs": [],
   "source": []
  }
 ],
 "metadata": {
  "kernelspec": {
   "display_name": "env",
   "language": "python",
   "name": "python3"
  },
  "language_info": {
   "codemirror_mode": {
    "name": "ipython",
    "version": 3
   },
   "file_extension": ".py",
   "mimetype": "text/x-python",
   "name": "python",
   "nbconvert_exporter": "python",
   "pygments_lexer": "ipython3",
   "version": "3.9.18"
  }
 },
 "nbformat": 4,
 "nbformat_minor": 2
}
