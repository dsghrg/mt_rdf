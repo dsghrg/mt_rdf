{
 "cells": [
  {
   "cell_type": "code",
   "execution_count": 3,
   "metadata": {},
   "outputs": [
    {
     "data": {
      "text/plain": [
       "'/Users/dennis/repos/study/mt/mt_rdf'"
      ]
     },
     "execution_count": 3,
     "metadata": {},
     "output_type": "execute_result"
    }
   ],
   "source": [
    "import os\n",
    "os.chdir('../')\n",
    "os.getcwd()"
   ]
  },
  {
   "cell_type": "code",
   "execution_count": 4,
   "metadata": {},
   "outputs": [],
   "source": [
    "from dotenv import load_dotenv\n",
    "from src.query.query_sparql import execute_sparql\n",
    "from src.database.database_utils import query_db\n",
    "import pandas as pd"
   ]
  },
  {
   "cell_type": "code",
   "execution_count": 12,
   "metadata": {},
   "outputs": [],
   "source": [
    "res_dict = {}\n",
    "res_dict['sparql_query'] = []\n",
    "res_dict['sql_query'] = []\n",
    "res_dict['sparql_time'] = []\n",
    "res_dict['sql_time'] = []"
   ]
  },
  {
   "cell_type": "code",
   "execution_count": 16,
   "metadata": {},
   "outputs": [],
   "source": [
    "def execute_specific_queries(sql_query, sparql_query):\n",
    "    res_sparql, execution_time = execute_sparql(query=sparql_query, db_id='cordis_temporary')\n",
    "    # res_sql = query_db(f'EXPLAIN ANALYZE {sql_query}', db_name='cordis_temporary')\n",
    "    res_dict['sparql_query'].append(sparql_query)\n",
    "    res_dict['sparql_time'].append(execution_time * 1000)\n",
    "    res_dict['sql_query'].append(sql_query)\n",
    "    print(res_sparql)\n",
    "    print()\n",
    "    # res_dict['sql_time'].append(res_sql.iloc[4]['QUERY PLAN'])\n",
    "    res_dict['sql_time'].append('asdf')\n",
    "\n",
    "    # print(sparql_query)\n",
    "    # # print(res_sparql)\n",
    "    # print(execution_time)\n",
    "    # print(50 * '_')\n",
    "    # print(sql_query)\n",
    "    # print(res_sql)"
   ]
  },
  {
   "cell_type": "code",
   "execution_count": 17,
   "metadata": {},
   "outputs": [
    {
     "name": "stdout",
     "output_type": "stream",
     "text": [
      "QUERY#0\n",
      "[('PREFIX : <http://unics.cloud/ontology/>\\nPREFIX rdf: <http://www.w3.org/1999/02/22-rdf-syntax-ns#>\\n\\nSELECT ?T1_institutions_name\\n{\\n  \\n  { # ----- Begin optimization group 1 -----\\n    \\n    ?T2 :countries\\\\#country\\\\_name ?T2_country_name . # \\tCollection size: 251\\tPredicate collection size: 251\\tUnique subjects: 251\\tUnique objects: 251\\tCurrent complexity: 251\\n    FILTER (?T2_country_name != \"France\")\\n    ?T2 rdf:type :countries . # \\tCollection size: 251\\tPredicate collection size: 908,076\\tUnique subjects: 908,076\\tUnique objects: 30\\tCurrent complexity: 251\\n    ?T1 :institutions\\\\#ref\\\\-country\\\\_id ?T2 . # \\tCollection size: 61,434\\tPredicate collection size: 61,434\\tUnique subjects: 61,434\\tUnique objects: 195\\tCurrent complexity: 79,076.584615\\n    ?T1 :institutions\\\\#institutions\\\\_name ?T1_institutions_name . # \\tCollection size: 61,493\\tPredicate collection size: 61,493\\tUnique subjects: 61,493\\tUnique objects: 61,142\\tCurrent complexity: 79,076.584615\\n    ?T1 rdf:type :institutions . # \\tCollection size: 61,493\\tPredicate collection size: 908,076\\tUnique subjects: 908,076\\tUnique objects: 30\\tCurrent complexity: 79,076.584615\\n    \\n  } # ----- End optimization group 1 -----\\n  # ESTIMATED NUMBER OF ITERATIONS: 79,076.584615\\n  \\n}\\n\\n# NOTE: Optimization groups are evaluated one after another exactly in the given order.\\n# If there are too many optimization groups consisting of a single statement pattern,\\n# then one should try to relocate the following clauses by hand:\\n# VALUES, BIND, OPTIONAL, property paths with \\'*\\' and/or \\'+\\' (the latter can be also surrounded with brackets).\\n# Sub-SELECTs will always be evaluated first.',)]\n",
      "\n",
      "****************************************************************************************************\n"
     ]
    }
   ],
   "source": [
    "query_df = pd.read_csv('data/queries/cordis/cordis.csv')\n",
    "# print(query_df.columns)\n",
    "for i in range(1):\n",
    "    print(f'QUERY#{i}')\n",
    "    execute_specific_queries(query_df.iloc[i]['ground_truth'], \"SELECT ?T1_institutions_name from onto:explain WHERE { ?T1 a :institutions . ?T2 a :countries . ?T1 :institutions\\#ref-country_id ?T2 .  ?T1 :institutions\\#institutions_name ?T1_institutions_name . ?T2 :countries\\#country_name ?T2_country_name . FILTER(?T2_country_name != 'France') .        }\")\n",
    "    # execute_specific_queries(query_df.iloc[i]['ground_truth'], query_df.iloc[i]['predicted_sparql'])\n",
    "    print(100 * '*')\n",
    "\n",
    "res_df = pd.DataFrame(res_dict)"
   ]
  },
  {
   "cell_type": "code",
   "execution_count": 15,
   "metadata": {},
   "outputs": [
    {
     "data": {
      "text/html": [
       "<div>\n",
       "<style scoped>\n",
       "    .dataframe tbody tr th:only-of-type {\n",
       "        vertical-align: middle;\n",
       "    }\n",
       "\n",
       "    .dataframe tbody tr th {\n",
       "        vertical-align: top;\n",
       "    }\n",
       "\n",
       "    .dataframe thead th {\n",
       "        text-align: right;\n",
       "    }\n",
       "</style>\n",
       "<table border=\"1\" class=\"dataframe\">\n",
       "  <thead>\n",
       "    <tr style=\"text-align: right;\">\n",
       "      <th></th>\n",
       "      <th>sparql_query</th>\n",
       "      <th>sql_query</th>\n",
       "      <th>sparql_time</th>\n",
       "      <th>sql_time</th>\n",
       "    </tr>\n",
       "  </thead>\n",
       "  <tbody>\n",
       "    <tr>\n",
       "      <th>0</th>\n",
       "      <td>SELECT ?T1_institutions_name from onto:explain...</td>\n",
       "      <td>SELECT T1.total_cost FROM projects AS T1 WHERE...</td>\n",
       "      <td>63.832045</td>\n",
       "      <td>asdf</td>\n",
       "    </tr>\n",
       "  </tbody>\n",
       "</table>\n",
       "</div>"
      ],
      "text/plain": [
       "                                        sparql_query  \\\n",
       "0  SELECT ?T1_institutions_name from onto:explain...   \n",
       "\n",
       "                                           sql_query  sparql_time sql_time  \n",
       "0  SELECT T1.total_cost FROM projects AS T1 WHERE...    63.832045     asdf  "
      ]
     },
     "execution_count": 15,
     "metadata": {},
     "output_type": "execute_result"
    }
   ],
   "source": [
    "res_df"
   ]
  },
  {
   "cell_type": "code",
   "execution_count": null,
   "metadata": {},
   "outputs": [],
   "source": []
  }
 ],
 "metadata": {
  "kernelspec": {
   "display_name": "env",
   "language": "python",
   "name": "python3"
  },
  "language_info": {
   "codemirror_mode": {
    "name": "ipython",
    "version": 3
   },
   "file_extension": ".py",
   "mimetype": "text/x-python",
   "name": "python",
   "nbconvert_exporter": "python",
   "pygments_lexer": "ipython3",
   "version": "3.9.18"
  },
  "orig_nbformat": 4
 },
 "nbformat": 4,
 "nbformat_minor": 2
}
