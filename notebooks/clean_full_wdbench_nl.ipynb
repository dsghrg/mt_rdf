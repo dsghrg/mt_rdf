{
 "cells": [
  {
   "cell_type": "code",
   "execution_count": 2,
   "metadata": {},
   "outputs": [
    {
     "data": {
      "text/plain": [
       "'/Users/dennis/repos/study/mt/mt_rdf'"
      ]
     },
     "execution_count": 2,
     "metadata": {},
     "output_type": "execute_result"
    }
   ],
   "source": [
    "import os\n",
    "os.chdir('../')\n",
    "os.getcwd()"
   ]
  },
  {
   "cell_type": "code",
   "execution_count": 18,
   "metadata": {},
   "outputs": [],
   "source": [
    "from src.query.query_type import QueryType\n",
    "from src.query.wdbench import WDBench"
   ]
  },
  {
   "cell_type": "code",
   "execution_count": 5,
   "metadata": {},
   "outputs": [],
   "source": [
    "from tqdm import tqdm"
   ]
  },
  {
   "cell_type": "code",
   "execution_count": 3,
   "metadata": {},
   "outputs": [],
   "source": [
    "base_data_path = 'data/raw/wdbench/full_wdbench/'"
   ]
  },
  {
   "cell_type": "code",
   "execution_count": 19,
   "metadata": {},
   "outputs": [],
   "source": [
    "wdbench = WDBench()"
   ]
  },
  {
   "cell_type": "code",
   "execution_count": 12,
   "metadata": {},
   "outputs": [
    {
     "data": {
      "text/html": [
       "<div>\n",
       "<style scoped>\n",
       "    .dataframe tbody tr th:only-of-type {\n",
       "        vertical-align: middle;\n",
       "    }\n",
       "\n",
       "    .dataframe tbody tr th {\n",
       "        vertical-align: top;\n",
       "    }\n",
       "\n",
       "    .dataframe thead th {\n",
       "        text-align: right;\n",
       "    }\n",
       "</style>\n",
       "<table border=\"1\" class=\"dataframe\">\n",
       "  <thead>\n",
       "    <tr style=\"text-align: right;\">\n",
       "      <th></th>\n",
       "      <th>q_id</th>\n",
       "      <th>query_parts</th>\n",
       "      <th>q_type</th>\n",
       "      <th>n_entities</th>\n",
       "      <th>entities</th>\n",
       "    </tr>\n",
       "  </thead>\n",
       "  <tbody>\n",
       "    <tr>\n",
       "      <th>0</th>\n",
       "      <td>1</td>\n",
       "      <td>&lt;http://www.wikidata.org/entity/Q137109&gt; ?x1 ?...</td>\n",
       "      <td>opts</td>\n",
       "      <td>1</td>\n",
       "      <td>[&lt;http://www.wikidata.org/entity/Q137109&gt;]</td>\n",
       "    </tr>\n",
       "    <tr>\n",
       "      <th>1</th>\n",
       "      <td>2</td>\n",
       "      <td>?x1 &lt;http://www.wikidata.org/prop/direct/P016&gt;...</td>\n",
       "      <td>opts</td>\n",
       "      <td>1</td>\n",
       "      <td>[&lt;http://www.wikidata.org/entity/Q13414980&gt;]</td>\n",
       "    </tr>\n",
       "    <tr>\n",
       "      <th>2</th>\n",
       "      <td>3</td>\n",
       "      <td>?x1 &lt;http://www.wikidata.org/prop/direct/P102&gt;...</td>\n",
       "      <td>opts</td>\n",
       "      <td>1</td>\n",
       "      <td>[&lt;http://www.wikidata.org/entity/Q6721203&gt;]</td>\n",
       "    </tr>\n",
       "    <tr>\n",
       "      <th>3</th>\n",
       "      <td>4</td>\n",
       "      <td>?x1 &lt;http://www.wikidata.org/prop/direct/P106&gt;...</td>\n",
       "      <td>opts</td>\n",
       "      <td>4</td>\n",
       "      <td>[&lt;http://www.wikidata.org/entity/Q1028181&gt;, &lt;h...</td>\n",
       "    </tr>\n",
       "    <tr>\n",
       "      <th>4</th>\n",
       "      <td>5</td>\n",
       "      <td>?x1 &lt;http://www.wikidata.org/prop/direct/P106&gt;...</td>\n",
       "      <td>opts</td>\n",
       "      <td>3</td>\n",
       "      <td>[&lt;http://www.wikidata.org/entity/Q13382603&gt;, &lt;...</td>\n",
       "    </tr>\n",
       "    <tr>\n",
       "      <th>...</th>\n",
       "      <td>...</td>\n",
       "      <td>...</td>\n",
       "      <td>...</td>\n",
       "      <td>...</td>\n",
       "      <td>...</td>\n",
       "    </tr>\n",
       "    <tr>\n",
       "      <th>2653</th>\n",
       "      <td>677</td>\n",
       "      <td>?x1 ?x2 &lt;http://www.wikidata.org/entity/Q31&gt; ....</td>\n",
       "      <td>multiple_bgps</td>\n",
       "      <td>2</td>\n",
       "      <td>[&lt;http://www.wikidata.org/entity/Q31&gt;, &lt;http:/...</td>\n",
       "    </tr>\n",
       "    <tr>\n",
       "      <th>2654</th>\n",
       "      <td>678</td>\n",
       "      <td>?x1 ?x2 &lt;http://www.wikidata.org/entity/Q48487...</td>\n",
       "      <td>multiple_bgps</td>\n",
       "      <td>1</td>\n",
       "      <td>[&lt;http://www.wikidata.org/entity/Q484876&gt;]</td>\n",
       "    </tr>\n",
       "    <tr>\n",
       "      <th>2655</th>\n",
       "      <td>679</td>\n",
       "      <td>?x1 ?x2 &lt;http://www.wikidata.org/entity/Q5&gt; . ...</td>\n",
       "      <td>multiple_bgps</td>\n",
       "      <td>1</td>\n",
       "      <td>[&lt;http://www.wikidata.org/entity/Q5&gt;]</td>\n",
       "    </tr>\n",
       "    <tr>\n",
       "      <th>2656</th>\n",
       "      <td>680</td>\n",
       "      <td>?x1 ?x2 &lt;http://www.wikidata.org/entity/Q65364...</td>\n",
       "      <td>multiple_bgps</td>\n",
       "      <td>2</td>\n",
       "      <td>[&lt;http://www.wikidata.org/entity/Q653645&gt;, &lt;ht...</td>\n",
       "    </tr>\n",
       "    <tr>\n",
       "      <th>2657</th>\n",
       "      <td>681</td>\n",
       "      <td>?x1 ?x2 &lt;http://www.wikidata.org/entity/Q7075&gt;...</td>\n",
       "      <td>multiple_bgps</td>\n",
       "      <td>1</td>\n",
       "      <td>[&lt;http://www.wikidata.org/entity/Q7075&gt;]</td>\n",
       "    </tr>\n",
       "  </tbody>\n",
       "</table>\n",
       "<p>2658 rows × 5 columns</p>\n",
       "</div>"
      ],
      "text/plain": [
       "      q_id  ...                                           entities\n",
       "0        1  ...         [<http://www.wikidata.org/entity/Q137109>]\n",
       "1        2  ...       [<http://www.wikidata.org/entity/Q13414980>]\n",
       "2        3  ...        [<http://www.wikidata.org/entity/Q6721203>]\n",
       "3        4  ...  [<http://www.wikidata.org/entity/Q1028181>, <h...\n",
       "4        5  ...  [<http://www.wikidata.org/entity/Q13382603>, <...\n",
       "...    ...  ...                                                ...\n",
       "2653   677  ...  [<http://www.wikidata.org/entity/Q31>, <http:/...\n",
       "2654   678  ...         [<http://www.wikidata.org/entity/Q484876>]\n",
       "2655   679  ...              [<http://www.wikidata.org/entity/Q5>]\n",
       "2656   680  ...  [<http://www.wikidata.org/entity/Q653645>, <ht...\n",
       "2657   681  ...           [<http://www.wikidata.org/entity/Q7075>]\n",
       "\n",
       "[2658 rows x 5 columns]"
      ]
     },
     "execution_count": 12,
     "metadata": {},
     "output_type": "execute_result"
    }
   ],
   "source": [
    "wdbench.queries"
   ]
  },
  {
   "cell_type": "code",
   "execution_count": 26,
   "metadata": {},
   "outputs": [
    {
     "name": "stdout",
     "output_type": "stream",
     "text": [
      "QueryType.single_bgps\n"
     ]
    },
    {
     "name": "stderr",
     "output_type": "stream",
     "text": [
      "100%|██████████| 280/280 [00:00<00:00, 9420.26it/s]\n"
     ]
    },
    {
     "name": "stdout",
     "output_type": "stream",
     "text": [
      "QueryType.multiple_bgps\n"
     ]
    },
    {
     "name": "stderr",
     "output_type": "stream",
     "text": [
      "100%|██████████| 681/681 [00:00<00:00, 7722.33it/s]\n"
     ]
    },
    {
     "name": "stdout",
     "output_type": "stream",
     "text": [
      "multiple_bgps - Q195.sparql\n",
      "SELECT * WHERE { ?x1 <http://www.wikidata.org/prop/direct/P131> <http://www.wikidata.org/entity/Q220> . ?x1 <http://www.wikidata.org/prop/direct/P1705> ?x2 . ?x1 <http://www.wikidata.org/prop/direct/P31> <http://www.wikidata.org/entity/Q16970> .  }\n",
      "SELECT * WHERE { ?x1 <located in the administrative territorial entity> <Rome> . ?x1 <native label> ?x2 . ?x1 <instance of> <church building> .  }\n",
      "multiple_bgps - Q292.sparql\n",
      "SELECT * WHERE { ?x1 <http://www.wikidata.org/prop/direct/P1705> ?x2 . ?x3 <http://www.wikidata.org/prop/direct/P373> ?x4 .  }\n",
      "SELECT * WHERE { ?x1 <native label> ?x2 . ?x3 <Commons category> ?x4 .  }\n",
      "multiple_bgps - Q491.sparql\n",
      "SELECT * WHERE { ?x1 <http://www.wikidata.org/prop/direct/P279> <http://www.wikidata.org/entity/Q131419> . ?x1 <http://www.wikidata.org/prop/direct/P279> <http://www.wikidata.org/entity/Q722218> .  }\n",
      "SELECT * WHERE { ?x1 <subclass of> <sausage> . ?x1 <subclass of> <label> .  }\n",
      "multiple_bgps - Q291.sparql\n",
      "SELECT * WHERE { ?x1 <http://www.wikidata.org/prop/direct/P1705> ?x2 . ?x3 <http://www.wikidata.org/prop/direct/P31> <http://www.wikidata.org/entity/Q101352> .  }\n",
      "SELECT * WHERE { ?x1 <native label> ?x2 . ?x3 <instance of> <family name> .  }\n",
      "multiple_bgps - Q293.sparql\n",
      "SELECT * WHERE { ?x1 <http://www.wikidata.org/prop/direct/P1705> ?x2 . ?x3 <http://www.wikidata.org/prop/direct/P373> ?x4 . ?x5 <http://www.wikidata.org/prop/direct/P735> ?x1 .  }\n",
      "SELECT * WHERE { ?x1 <native label> ?x2 . ?x3 <Commons category> ?x4 . ?x5 <given name> ?x1 .  }\n",
      "QueryType.paths\n"
     ]
    },
    {
     "name": "stderr",
     "output_type": "stream",
     "text": [
      "100%|██████████| 660/660 [00:00<00:00, 9603.78it/s]\n"
     ]
    },
    {
     "name": "stdout",
     "output_type": "stream",
     "text": [
      "paths - Q496.sparql\n",
      "SELECT * WHERE { ?x1 (<http://www.wikidata.org/prop/direct/P31>/(<http://www.wikidata.org/prop/direct/P279>)*) <http://www.wikidata.org/entity/Q18127> }\n",
      "SELECT * WHERE { ?x1 (<instance of>/(<subclass of>)*) <record label> }\n",
      "QueryType.c2rpqs\n"
     ]
    },
    {
     "name": "stderr",
     "output_type": "stream",
     "text": [
      "  0%|          | 0/539 [00:00<?, ?it/s]"
     ]
    },
    {
     "name": "stdout",
     "output_type": "stream",
     "text": [
      "c2rpqs - Q67.sparql\n",
      "SELECT * WHERE { <http://www.wikidata.org/entity/Q490> <http://www.wikidata.org/prop/direct/P625> ?x1 . <http://www.wikidata.org/entity/Q6285> <http://www.wikidata.org/prop/direct/P625> ?x2 . ?x3 (<http://www.wikidata.org/prop/direct/P31>/(<http://www.wikidata.org/prop/direct/P279>)*) <http://www.wikidata.org/entity/Q18127> .  }\n",
      "SELECT * WHERE { <Milan> <coordinate location> ?x1 . <Varese> <coordinate location> ?x2 . ?x3 (<instance of>/(<subclass of>)*) <record label> .  }\n"
     ]
    },
    {
     "name": "stderr",
     "output_type": "stream",
     "text": [
      "100%|██████████| 539/539 [00:00<00:00, 9807.64it/s]\n"
     ]
    },
    {
     "name": "stdout",
     "output_type": "stream",
     "text": [
      "c2rpqs - Q61.sparql\n",
      "SELECT * WHERE { <http://www.wikidata.org/entity/Q40854> <http://www.wikidata.org/prop/direct/P625> ?x1 . <http://www.wikidata.org/entity/Q6285> <http://www.wikidata.org/prop/direct/P625> ?x2 . ?x3 (<http://www.wikidata.org/prop/direct/P31>/(<http://www.wikidata.org/prop/direct/P279>)*) <http://www.wikidata.org/entity/Q18127> .  }\n",
      "SELECT * WHERE { <Gallarate> <coordinate location> ?x1 . <Varese> <coordinate location> ?x2 . ?x3 (<instance of>/(<subclass of>)*) <record label> .  }\n",
      "c2rpqs - Q73.sparql\n",
      "SELECT * WHERE { <http://www.wikidata.org/entity/Q6285> <http://www.wikidata.org/prop/direct/P625> ?x1 . ?x2 (<http://www.wikidata.org/prop/direct/P31>/(<http://www.wikidata.org/prop/direct/P279>)*) <http://www.wikidata.org/entity/Q18127> .  }\n",
      "SELECT * WHERE { <Varese> <coordinate location> ?x1 . ?x2 (<instance of>/(<subclass of>)*) <record label> .  }\n",
      "QueryType.opts\n"
     ]
    },
    {
     "name": "stderr",
     "output_type": "stream",
     "text": [
      "100%|██████████| 498/498 [00:00<00:00, 9944.65it/s]"
     ]
    },
    {
     "name": "stdout",
     "output_type": "stream",
     "text": [
      "opts - Q263.sparql\n",
      "SELECT * WHERE { ?x1 <http://www.wikidata.org/prop/direct/P31> <http://www.wikidata.org/entity/Q101352> . OPTIONAL { ?x1 <http://www.wikidata.org/prop/direct/P1705> ?x2 . } OPTIONAL { ?x1 <http://www.wikidata.org/prop/direct/P407> ?x3 . }  }\n",
      "SELECT * WHERE { ?x1 <instance of> <family name> . OPTIONAL { ?x1 <native label> ?x2 . } OPTIONAL { ?x1 <language of work or name> ?x3 . }  }\n"
     ]
    },
    {
     "name": "stderr",
     "output_type": "stream",
     "text": [
      "\n"
     ]
    }
   ],
   "source": [
    "for q_type in QueryType:\n",
    "    print(q_type)\n",
    "    for filename in tqdm(os.listdir(f'{base_data_path}{q_type}/')):\n",
    "        with open(f'{base_data_path}{q_type}/{filename}', 'r+') as file:\n",
    "            # # here, position is initially at the beginning\n",
    "            sparql_query = file.read()\n",
    "            query = sparql_query.split('NL-QUESTION:')[0].strip()\n",
    "            q_id = filename.split('.')[0].replace('Q', '')\n",
    "            if \"label\" in query.lower():\n",
    "                print(f'{q_type} - {filename}')\n",
    "                print(wdbench.get_sparql_from_id_and_type(int(q_id), q_type))\n",
    "                print(query)\n",
    "        "
   ]
  },
  {
   "cell_type": "code",
   "execution_count": 25,
   "metadata": {},
   "outputs": [
    {
     "name": "stdout",
     "output_type": "stream",
     "text": [
      "QueryType.single_bgps\n"
     ]
    },
    {
     "name": "stderr",
     "output_type": "stream",
     "text": [
      "100%|██████████| 280/280 [00:00<00:00, 7948.70it/s]\n"
     ]
    },
    {
     "name": "stdout",
     "output_type": "stream",
     "text": [
      "single_bgps - Q89.sparql\n",
      "QueryType.multiple_bgps\n"
     ]
    },
    {
     "name": "stderr",
     "output_type": "stream",
     "text": [
      "100%|██████████| 681/681 [00:00<00:00, 8183.81it/s]\n"
     ]
    },
    {
     "name": "stdout",
     "output_type": "stream",
     "text": [
      "QueryType.paths\n"
     ]
    },
    {
     "name": "stderr",
     "output_type": "stream",
     "text": [
      "100%|██████████| 660/660 [00:00<00:00, 8771.14it/s]"
     ]
    },
    {
     "name": "stdout",
     "output_type": "stream",
     "text": [
      "QueryType.c2rpqs\n"
     ]
    },
    {
     "name": "stderr",
     "output_type": "stream",
     "text": [
      "\n",
      "100%|██████████| 539/539 [00:00<00:00, 9716.09it/s]\n"
     ]
    },
    {
     "name": "stdout",
     "output_type": "stream",
     "text": [
      "QueryType.opts\n"
     ]
    },
    {
     "name": "stderr",
     "output_type": "stream",
     "text": [
      "100%|██████████| 498/498 [00:00<00:00, 8365.83it/s]\n"
     ]
    }
   ],
   "source": [
    "for q_type in QueryType:\n",
    "    print(q_type)\n",
    "    for filename in tqdm(os.listdir(f'{base_data_path}{q_type}/')):\n",
    "        with open(f'{base_data_path}{q_type}/{filename}', 'r+') as file:\n",
    "            # here, position is initially at the beginning\n",
    "            sparql_query = file.read()\n",
    "            query = sparql_query.split('NL-QUESTION:')[1].strip()\n",
    "            if query.startswith('\"'):\n",
    "                print(f'{q_type} - {filename}')"
   ]
  },
  {
   "cell_type": "code",
   "execution_count": null,
   "metadata": {},
   "outputs": [],
   "source": []
  }
 ],
 "metadata": {
  "kernelspec": {
   "display_name": "env",
   "language": "python",
   "name": "python3"
  },
  "language_info": {
   "codemirror_mode": {
    "name": "ipython",
    "version": 3
   },
   "file_extension": ".py",
   "mimetype": "text/x-python",
   "name": "python",
   "nbconvert_exporter": "python",
   "pygments_lexer": "ipython3",
   "version": "3.9.18"
  }
 },
 "nbformat": 4,
 "nbformat_minor": 2
}
