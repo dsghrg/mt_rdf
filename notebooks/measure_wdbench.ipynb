{
 "cells": [
  {
   "cell_type": "code",
   "execution_count": 1,
   "metadata": {},
   "outputs": [
    {
     "data": {
      "text/plain": [
       "'/Users/dennis/repos/study/mt/mt_rdf'"
      ]
     },
     "execution_count": 1,
     "metadata": {},
     "output_type": "execute_result"
    }
   ],
   "source": [
    "import os\n",
    "os.chdir('../')\n",
    "os.getcwd()"
   ]
  },
  {
   "cell_type": "code",
   "execution_count": 2,
   "metadata": {},
   "outputs": [],
   "source": [
    "import pandas as pd\n",
    "from SPARQLWrapper import SPARQLWrapper, JSON\n",
    "import time"
   ]
  },
  {
   "cell_type": "code",
   "execution_count": 3,
   "metadata": {},
   "outputs": [],
   "source": [
    "LIMIT = False\n",
    "def parse_to_sparql(query):\n",
    "    if not LIMIT:\n",
    "        return f'SELECT * WHERE {{ {query} }}'\n",
    "    return f'SELECT * WHERE {{ {query} }} LIMIT {LIMIT}'"
   ]
  },
  {
   "cell_type": "code",
   "execution_count": 4,
   "metadata": {},
   "outputs": [],
   "source": [
    "def execute_sparql(query):\n",
    "    \"\"\"This function executes the sparql query and returns the results\"\"\"\n",
    "    sparql = SPARQLWrapper(\"https://query.wikidata.org/sparql\")\n",
    "    sparql.setTimeout(300)\n",
    "    sparql.setReturnFormat(JSON)\n",
    "    # sparql.setQuery('PREFIX :  <http://unics.cloud/ontology/>\\nPREFIX onto: <http://www.ontotext.com/>' + query)\n",
    "    sparql.setQuery(query)\n",
    "    # the previous query as a literal string\n",
    "    try:\n",
    "        start_time = time.time()\n",
    "        results = sparql.query()\n",
    "        execution_time = time.time() - start_time\n",
    "\n",
    "        results = results.convert()\n",
    "        return results, execution_time\n",
    "    #     clean_results = []\n",
    "    #     for row in results['results']['bindings']:\n",
    "    #         interim_results=[]\n",
    "    #         for i in range(len(results['head']['vars'])):\n",
    "    #             if 'datatype' in row.get(results['head']['vars'][i]).keys():\n",
    "    #                 value = int(row.get(results['head']['vars'][i])['value'])\n",
    "    #                 interim_results.append(value)\n",
    "    #             else:\n",
    "    #                 value = row.get(results['head']['vars'][i])['value'] \n",
    "    #                 interim_results.append(value)\n",
    "    #         if len(interim_results) != 0:\n",
    "    #             clean_results.append(tuple(interim_results))\n",
    "    #     return clean_results, execution_time\n",
    "    except Exception as e:\n",
    "        print(e)\n",
    "    return None, 0"
   ]
  },
  {
   "cell_type": "code",
   "execution_count": 5,
   "metadata": {},
   "outputs": [],
   "source": [
    "df_multiple_bgps = pd.read_csv('data/queries/wdbench/multiple_bgps.txt', header=None)\n",
    "df_multiple_bgps.rename(columns={0: 'id', 1: 'query_parts'}, inplace=True)"
   ]
  },
  {
   "cell_type": "code",
   "execution_count": 6,
   "metadata": {},
   "outputs": [
    {
     "data": {
      "text/html": [
       "<div>\n",
       "<style scoped>\n",
       "    .dataframe tbody tr th:only-of-type {\n",
       "        vertical-align: middle;\n",
       "    }\n",
       "\n",
       "    .dataframe tbody tr th {\n",
       "        vertical-align: top;\n",
       "    }\n",
       "\n",
       "    .dataframe thead th {\n",
       "        text-align: right;\n",
       "    }\n",
       "</style>\n",
       "<table border=\"1\" class=\"dataframe\">\n",
       "  <thead>\n",
       "    <tr style=\"text-align: right;\">\n",
       "      <th></th>\n",
       "      <th>id</th>\n",
       "      <th>query_parts</th>\n",
       "    </tr>\n",
       "  </thead>\n",
       "  <tbody>\n",
       "    <tr>\n",
       "      <th>0</th>\n",
       "      <td>1</td>\n",
       "      <td>&lt;http://www.wikidata.org/entity/Q8337&gt; &lt;http:/...</td>\n",
       "    </tr>\n",
       "    <tr>\n",
       "      <th>1</th>\n",
       "      <td>2</td>\n",
       "      <td>&lt;http://www.wikidata.org/entity/Q896916&gt; &lt;http...</td>\n",
       "    </tr>\n",
       "    <tr>\n",
       "      <th>2</th>\n",
       "      <td>3</td>\n",
       "      <td>?x1 &lt;http://www.wikidata.org/prop/direct/P1010...</td>\n",
       "    </tr>\n",
       "    <tr>\n",
       "      <th>3</th>\n",
       "      <td>4</td>\n",
       "      <td>?x1 &lt;http://www.wikidata.org/prop/direct/P1010...</td>\n",
       "    </tr>\n",
       "    <tr>\n",
       "      <th>4</th>\n",
       "      <td>5</td>\n",
       "      <td>?x1 &lt;http://www.wikidata.org/prop/direct/P1015...</td>\n",
       "    </tr>\n",
       "    <tr>\n",
       "      <th>...</th>\n",
       "      <td>...</td>\n",
       "      <td>...</td>\n",
       "    </tr>\n",
       "    <tr>\n",
       "      <th>676</th>\n",
       "      <td>677</td>\n",
       "      <td>?x1 ?x2 &lt;http://www.wikidata.org/entity/Q31&gt; ....</td>\n",
       "    </tr>\n",
       "    <tr>\n",
       "      <th>677</th>\n",
       "      <td>678</td>\n",
       "      <td>?x1 ?x2 &lt;http://www.wikidata.org/entity/Q48487...</td>\n",
       "    </tr>\n",
       "    <tr>\n",
       "      <th>678</th>\n",
       "      <td>679</td>\n",
       "      <td>?x1 ?x2 &lt;http://www.wikidata.org/entity/Q5&gt; . ...</td>\n",
       "    </tr>\n",
       "    <tr>\n",
       "      <th>679</th>\n",
       "      <td>680</td>\n",
       "      <td>?x1 ?x2 &lt;http://www.wikidata.org/entity/Q65364...</td>\n",
       "    </tr>\n",
       "    <tr>\n",
       "      <th>680</th>\n",
       "      <td>681</td>\n",
       "      <td>?x1 ?x2 &lt;http://www.wikidata.org/entity/Q7075&gt;...</td>\n",
       "    </tr>\n",
       "  </tbody>\n",
       "</table>\n",
       "<p>681 rows × 2 columns</p>\n",
       "</div>"
      ],
      "text/plain": [
       "      id                                        query_parts\n",
       "0      1  <http://www.wikidata.org/entity/Q8337> <http:/...\n",
       "1      2  <http://www.wikidata.org/entity/Q896916> <http...\n",
       "2      3  ?x1 <http://www.wikidata.org/prop/direct/P1010...\n",
       "3      4  ?x1 <http://www.wikidata.org/prop/direct/P1010...\n",
       "4      5  ?x1 <http://www.wikidata.org/prop/direct/P1015...\n",
       "..   ...                                                ...\n",
       "676  677  ?x1 ?x2 <http://www.wikidata.org/entity/Q31> ....\n",
       "677  678  ?x1 ?x2 <http://www.wikidata.org/entity/Q48487...\n",
       "678  679  ?x1 ?x2 <http://www.wikidata.org/entity/Q5> . ...\n",
       "679  680  ?x1 ?x2 <http://www.wikidata.org/entity/Q65364...\n",
       "680  681  ?x1 ?x2 <http://www.wikidata.org/entity/Q7075>...\n",
       "\n",
       "[681 rows x 2 columns]"
      ]
     },
     "execution_count": 6,
     "metadata": {},
     "output_type": "execute_result"
    }
   ],
   "source": [
    "df_multiple_bgps"
   ]
  },
  {
   "cell_type": "code",
   "execution_count": 7,
   "metadata": {},
   "outputs": [
    {
     "data": {
      "text/plain": [
       "'<http://www.wikidata.org/entity/Q8337> <http://www.wikidata.org/prop/direct/P50> ?x1 . <http://www.wikidata.org/entity/Q8337> <http://www.wikidata.org/prop/direct/P674> ?x2 . '"
      ]
     },
     "execution_count": 7,
     "metadata": {},
     "output_type": "execute_result"
    }
   ],
   "source": [
    "df_multiple_bgps.iloc[0]['query_parts']"
   ]
  },
  {
   "cell_type": "code",
   "execution_count": 8,
   "metadata": {},
   "outputs": [
    {
     "data": {
      "text/plain": [
       "'SELECT * WHERE { <http://www.wikidata.org/entity/Q8337> <http://www.wikidata.org/prop/direct/P50> ?x1 . <http://www.wikidata.org/entity/Q8337> <http://www.wikidata.org/prop/direct/P674> ?x2 .  }'"
      ]
     },
     "execution_count": 8,
     "metadata": {},
     "output_type": "execute_result"
    }
   ],
   "source": [
    "parse_to_sparql(df_multiple_bgps.iloc[0]['query_parts'])"
   ]
  },
  {
   "cell_type": "code",
   "execution_count": 9,
   "metadata": {},
   "outputs": [
    {
     "data": {
      "text/plain": [
       "({'head': {'vars': ['x1', 'x2']},\n",
       "  'results': {'bindings': [{'x1': {'type': 'uri',\n",
       "      'value': 'http://www.wikidata.org/entity/Q34660'},\n",
       "     'x2': {'type': 'uri', 'value': 'http://www.wikidata.org/entity/Q173998'}},\n",
       "    {'x1': {'type': 'uri', 'value': 'http://www.wikidata.org/entity/Q34660'},\n",
       "     'x2': {'type': 'uri', 'value': 'http://www.wikidata.org/entity/Q174009'}},\n",
       "    {'x1': {'type': 'uri', 'value': 'http://www.wikidata.org/entity/Q34660'},\n",
       "     'x2': {'type': 'uri', 'value': 'http://www.wikidata.org/entity/Q176132'}},\n",
       "    {'x1': {'type': 'uri', 'value': 'http://www.wikidata.org/entity/Q34660'},\n",
       "     'x2': {'type': 'uri', 'value': 'http://www.wikidata.org/entity/Q176772'}},\n",
       "    {'x1': {'type': 'uri', 'value': 'http://www.wikidata.org/entity/Q34660'},\n",
       "     'x2': {'type': 'uri', 'value': 'http://www.wikidata.org/entity/Q187923'}},\n",
       "    {'x1': {'type': 'uri', 'value': 'http://www.wikidata.org/entity/Q34660'},\n",
       "     'x2': {'type': 'uri', 'value': 'http://www.wikidata.org/entity/Q192179'}},\n",
       "    {'x1': {'type': 'uri', 'value': 'http://www.wikidata.org/entity/Q34660'},\n",
       "     'x2': {'type': 'uri', 'value': 'http://www.wikidata.org/entity/Q712548'}},\n",
       "    {'x1': {'type': 'uri', 'value': 'http://www.wikidata.org/entity/Q34660'},\n",
       "     'x2': {'type': 'uri', 'value': 'http://www.wikidata.org/entity/Q717594'}},\n",
       "    {'x1': {'type': 'uri', 'value': 'http://www.wikidata.org/entity/Q34660'},\n",
       "     'x2': {'type': 'uri', 'value': 'http://www.wikidata.org/entity/Q754837'}},\n",
       "    {'x1': {'type': 'uri', 'value': 'http://www.wikidata.org/entity/Q34660'},\n",
       "     'x2': {'type': 'uri',\n",
       "      'value': 'http://www.wikidata.org/entity/Q3244512'}},\n",
       "    {'x1': {'type': 'uri', 'value': 'http://www.wikidata.org/entity/Q34660'},\n",
       "     'x2': {'type': 'uri',\n",
       "      'value': 'http://www.wikidata.org/entity/Q13359612'}},\n",
       "    {'x1': {'type': 'uri', 'value': 'http://www.wikidata.org/entity/Q34660'},\n",
       "     'x2': {'type': 'uri',\n",
       "      'value': 'http://www.wikidata.org/entity/Q13359613'}}]}},\n",
       " 0.19336175918579102)"
      ]
     },
     "execution_count": 9,
     "metadata": {},
     "output_type": "execute_result"
    }
   ],
   "source": [
    "execute_sparql(parse_to_sparql(df_multiple_bgps.iloc[0]['query_parts']))"
   ]
  },
  {
   "cell_type": "code",
   "execution_count": 10,
   "metadata": {},
   "outputs": [],
   "source": [
    "results = pd.DataFrame(columns=['query_id', 'exec_time_in_s'])"
   ]
  },
  {
   "cell_type": "code",
   "execution_count": 14,
   "metadata": {},
   "outputs": [],
   "source": [
    "path = 'results/wdbench/'\n",
    "def res_to_logs(result: dict):\n",
    "    res_df = pd.DataFrame(result)\n",
    "    print(res_df)\n",
    "    res_df.to_csv(path + 'multiple_bgps_results.csv')\n",
    "\n"
   ]
  },
  {
   "cell_type": "code",
   "execution_count": 16,
   "metadata": {},
   "outputs": [
    {
     "name": "stdout",
     "output_type": "stream",
     "text": [
      "0\n",
      "   query_id  exec_time\n",
      "0         1   0.075071\n",
      "1\n",
      "   query_id  exec_time\n",
      "0         1   0.075071\n",
      "1         2   0.431131\n",
      "2\n",
      "   query_id  exec_time\n",
      "0         1   0.075071\n",
      "1         2   0.431131\n",
      "2         3   0.607868\n"
     ]
    },
    {
     "ename": "KeyboardInterrupt",
     "evalue": "",
     "output_type": "error",
     "traceback": [
      "\u001b[0;31m---------------------------------------------------------------------------\u001b[0m",
      "\u001b[0;31mKeyboardInterrupt\u001b[0m                         Traceback (most recent call last)",
      "\u001b[1;32m/Users/dennis/repos/study/mt/mt_rdf/notebooks/measure_wdbench.ipynb Cell 12\u001b[0m line \u001b[0;36m4\n\u001b[1;32m      <a href='vscode-notebook-cell:/Users/dennis/repos/study/mt/mt_rdf/notebooks/measure_wdbench.ipynb#X12sZmlsZQ%3D%3D?line=1'>2</a>\u001b[0m \u001b[39mfor\u001b[39;00m index, row \u001b[39min\u001b[39;00m df_multiple_bgps\u001b[39m.\u001b[39miterrows():\n\u001b[1;32m      <a href='vscode-notebook-cell:/Users/dennis/repos/study/mt/mt_rdf/notebooks/measure_wdbench.ipynb#X12sZmlsZQ%3D%3D?line=2'>3</a>\u001b[0m     query \u001b[39m=\u001b[39m parse_to_sparql(row[\u001b[39m'\u001b[39m\u001b[39mquery_parts\u001b[39m\u001b[39m'\u001b[39m])\n\u001b[0;32m----> <a href='vscode-notebook-cell:/Users/dennis/repos/study/mt/mt_rdf/notebooks/measure_wdbench.ipynb#X12sZmlsZQ%3D%3D?line=3'>4</a>\u001b[0m     _, time_s \u001b[39m=\u001b[39m execute_sparql(query\u001b[39m=\u001b[39;49mquery)\n\u001b[1;32m      <a href='vscode-notebook-cell:/Users/dennis/repos/study/mt/mt_rdf/notebooks/measure_wdbench.ipynb#X12sZmlsZQ%3D%3D?line=4'>5</a>\u001b[0m     res_dict[\u001b[39m'\u001b[39m\u001b[39mquery_id\u001b[39m\u001b[39m'\u001b[39m]\u001b[39m.\u001b[39mappend(row[\u001b[39m'\u001b[39m\u001b[39mid\u001b[39m\u001b[39m'\u001b[39m])\n\u001b[1;32m      <a href='vscode-notebook-cell:/Users/dennis/repos/study/mt/mt_rdf/notebooks/measure_wdbench.ipynb#X12sZmlsZQ%3D%3D?line=5'>6</a>\u001b[0m     res_dict[\u001b[39m'\u001b[39m\u001b[39mexec_time\u001b[39m\u001b[39m'\u001b[39m]\u001b[39m.\u001b[39mappend(time_s)\n",
      "\u001b[1;32m/Users/dennis/repos/study/mt/mt_rdf/notebooks/measure_wdbench.ipynb Cell 12\u001b[0m line \u001b[0;36m1\n\u001b[1;32m     <a href='vscode-notebook-cell:/Users/dennis/repos/study/mt/mt_rdf/notebooks/measure_wdbench.ipynb#X12sZmlsZQ%3D%3D?line=10'>11</a>\u001b[0m     results \u001b[39m=\u001b[39m sparql\u001b[39m.\u001b[39mquery()\n\u001b[1;32m     <a href='vscode-notebook-cell:/Users/dennis/repos/study/mt/mt_rdf/notebooks/measure_wdbench.ipynb#X12sZmlsZQ%3D%3D?line=11'>12</a>\u001b[0m     execution_time \u001b[39m=\u001b[39m time\u001b[39m.\u001b[39mtime() \u001b[39m-\u001b[39m start_time\n\u001b[0;32m---> <a href='vscode-notebook-cell:/Users/dennis/repos/study/mt/mt_rdf/notebooks/measure_wdbench.ipynb#X12sZmlsZQ%3D%3D?line=13'>14</a>\u001b[0m     results \u001b[39m=\u001b[39m results\u001b[39m.\u001b[39;49mconvert()\n\u001b[1;32m     <a href='vscode-notebook-cell:/Users/dennis/repos/study/mt/mt_rdf/notebooks/measure_wdbench.ipynb#X12sZmlsZQ%3D%3D?line=14'>15</a>\u001b[0m     \u001b[39mreturn\u001b[39;00m results, execution_time\n\u001b[1;32m     <a href='vscode-notebook-cell:/Users/dennis/repos/study/mt/mt_rdf/notebooks/measure_wdbench.ipynb#X12sZmlsZQ%3D%3D?line=15'>16</a>\u001b[0m \u001b[39m#     clean_results = []\u001b[39;00m\n\u001b[1;32m     <a href='vscode-notebook-cell:/Users/dennis/repos/study/mt/mt_rdf/notebooks/measure_wdbench.ipynb#X12sZmlsZQ%3D%3D?line=16'>17</a>\u001b[0m \u001b[39m#     for row in results['results']['bindings']:\u001b[39;00m\n\u001b[1;32m     <a href='vscode-notebook-cell:/Users/dennis/repos/study/mt/mt_rdf/notebooks/measure_wdbench.ipynb#X12sZmlsZQ%3D%3D?line=17'>18</a>\u001b[0m \u001b[39m#         interim_results=[]\u001b[39;00m\n\u001b[0;32m   (...)\u001b[0m\n\u001b[1;32m     <a href='vscode-notebook-cell:/Users/dennis/repos/study/mt/mt_rdf/notebooks/measure_wdbench.ipynb#X12sZmlsZQ%3D%3D?line=26'>27</a>\u001b[0m \u001b[39m#             clean_results.append(tuple(interim_results))\u001b[39;00m\n\u001b[1;32m     <a href='vscode-notebook-cell:/Users/dennis/repos/study/mt/mt_rdf/notebooks/measure_wdbench.ipynb#X12sZmlsZQ%3D%3D?line=27'>28</a>\u001b[0m \u001b[39m#     return clean_results, execution_time\u001b[39;00m\n",
      "File \u001b[0;32m~/repos/study/mt/mt_rdf/env/lib/python3.9/site-packages/SPARQLWrapper/Wrapper.py:1196\u001b[0m, in \u001b[0;36mQueryResult.convert\u001b[0;34m(self)\u001b[0m\n\u001b[1;32m   1194\u001b[0m \u001b[39melif\u001b[39;00m _content_type_in_list(ct, _SPARQL_JSON):\n\u001b[1;32m   1195\u001b[0m     _validate_format(\u001b[39m\"\u001b[39m\u001b[39mJSON\u001b[39m\u001b[39m\"\u001b[39m, [JSON], ct, \u001b[39mself\u001b[39m\u001b[39m.\u001b[39mrequestedFormat)\n\u001b[0;32m-> 1196\u001b[0m     \u001b[39mreturn\u001b[39;00m \u001b[39mself\u001b[39;49m\u001b[39m.\u001b[39;49m_convertJSON()\n\u001b[1;32m   1197\u001b[0m \u001b[39melif\u001b[39;00m _content_type_in_list(ct, _RDF_XML):\n\u001b[1;32m   1198\u001b[0m     _validate_format(\n\u001b[1;32m   1199\u001b[0m         \u001b[39m\"\u001b[39m\u001b[39mRDF/XML\u001b[39m\u001b[39m\"\u001b[39m, [RDF, XML, RDFXML], ct, \u001b[39mself\u001b[39m\u001b[39m.\u001b[39mrequestedFormat\n\u001b[1;32m   1200\u001b[0m     )\n",
      "File \u001b[0;32m~/repos/study/mt/mt_rdf/env/lib/python3.9/site-packages/SPARQLWrapper/Wrapper.py:1059\u001b[0m, in \u001b[0;36mQueryResult._convertJSON\u001b[0;34m(self)\u001b[0m\n\u001b[1;32m   1051\u001b[0m \u001b[39mdef\u001b[39;00m \u001b[39m_convertJSON\u001b[39m(\u001b[39mself\u001b[39m) \u001b[39m-\u001b[39m\u001b[39m>\u001b[39m Dict[Any, Any]:\n\u001b[1;32m   1052\u001b[0m \u001b[39m    \u001b[39m\u001b[39m\"\"\"\u001b[39;00m\n\u001b[1;32m   1053\u001b[0m \u001b[39m    Convert a JSON result into a Python dict. This method can be overwritten in a subclass\u001b[39;00m\n\u001b[1;32m   1054\u001b[0m \u001b[39m    for a different conversion method.\u001b[39;00m\n\u001b[0;32m   (...)\u001b[0m\n\u001b[1;32m   1057\u001b[0m \u001b[39m    :rtype: dict\u001b[39;00m\n\u001b[1;32m   1058\u001b[0m \u001b[39m    \"\"\"\u001b[39;00m\n\u001b[0;32m-> 1059\u001b[0m     json_str \u001b[39m=\u001b[39m json\u001b[39m.\u001b[39mloads(\u001b[39mself\u001b[39;49m\u001b[39m.\u001b[39;49mresponse\u001b[39m.\u001b[39;49mread()\u001b[39m.\u001b[39mdecode(\u001b[39m\"\u001b[39m\u001b[39mutf-8\u001b[39m\u001b[39m\"\u001b[39m))\n\u001b[1;32m   1060\u001b[0m     \u001b[39mif\u001b[39;00m \u001b[39misinstance\u001b[39m(json_str, \u001b[39mdict\u001b[39m):\n\u001b[1;32m   1061\u001b[0m         \u001b[39mreturn\u001b[39;00m json_str\n",
      "File \u001b[0;32m/opt/homebrew/Cellar/python@3.9/3.9.18/Frameworks/Python.framework/Versions/3.9/lib/python3.9/http/client.py:470\u001b[0m, in \u001b[0;36mHTTPResponse.read\u001b[0;34m(self, amt)\u001b[0m\n\u001b[1;32m    465\u001b[0m \u001b[39melse\u001b[39;00m:\n\u001b[1;32m    466\u001b[0m     \u001b[39m# Amount is not given (unbounded read) so we must check self.length\u001b[39;00m\n\u001b[1;32m    467\u001b[0m     \u001b[39m# and self.chunked\u001b[39;00m\n\u001b[1;32m    469\u001b[0m     \u001b[39mif\u001b[39;00m \u001b[39mself\u001b[39m\u001b[39m.\u001b[39mchunked:\n\u001b[0;32m--> 470\u001b[0m         \u001b[39mreturn\u001b[39;00m \u001b[39mself\u001b[39;49m\u001b[39m.\u001b[39;49m_readall_chunked()\n\u001b[1;32m    472\u001b[0m     \u001b[39mif\u001b[39;00m \u001b[39mself\u001b[39m\u001b[39m.\u001b[39mlength \u001b[39mis\u001b[39;00m \u001b[39mNone\u001b[39;00m:\n\u001b[1;32m    473\u001b[0m         s \u001b[39m=\u001b[39m \u001b[39mself\u001b[39m\u001b[39m.\u001b[39mfp\u001b[39m.\u001b[39mread()\n",
      "File \u001b[0;32m/opt/homebrew/Cellar/python@3.9/3.9.18/Frameworks/Python.framework/Versions/3.9/lib/python3.9/http/client.py:577\u001b[0m, in \u001b[0;36mHTTPResponse._readall_chunked\u001b[0;34m(self)\u001b[0m\n\u001b[1;32m    575\u001b[0m \u001b[39mtry\u001b[39;00m:\n\u001b[1;32m    576\u001b[0m     \u001b[39mwhile\u001b[39;00m \u001b[39mTrue\u001b[39;00m:\n\u001b[0;32m--> 577\u001b[0m         chunk_left \u001b[39m=\u001b[39m \u001b[39mself\u001b[39;49m\u001b[39m.\u001b[39;49m_get_chunk_left()\n\u001b[1;32m    578\u001b[0m         \u001b[39mif\u001b[39;00m chunk_left \u001b[39mis\u001b[39;00m \u001b[39mNone\u001b[39;00m:\n\u001b[1;32m    579\u001b[0m             \u001b[39mbreak\u001b[39;00m\n",
      "File \u001b[0;32m/opt/homebrew/Cellar/python@3.9/3.9.18/Frameworks/Python.framework/Versions/3.9/lib/python3.9/http/client.py:560\u001b[0m, in \u001b[0;36mHTTPResponse._get_chunk_left\u001b[0;34m(self)\u001b[0m\n\u001b[1;32m    558\u001b[0m     \u001b[39mself\u001b[39m\u001b[39m.\u001b[39m_safe_read(\u001b[39m2\u001b[39m)  \u001b[39m# toss the CRLF at the end of the chunk\u001b[39;00m\n\u001b[1;32m    559\u001b[0m \u001b[39mtry\u001b[39;00m:\n\u001b[0;32m--> 560\u001b[0m     chunk_left \u001b[39m=\u001b[39m \u001b[39mself\u001b[39;49m\u001b[39m.\u001b[39;49m_read_next_chunk_size()\n\u001b[1;32m    561\u001b[0m \u001b[39mexcept\u001b[39;00m \u001b[39mValueError\u001b[39;00m:\n\u001b[1;32m    562\u001b[0m     \u001b[39mraise\u001b[39;00m IncompleteRead(\u001b[39mb\u001b[39m\u001b[39m'\u001b[39m\u001b[39m'\u001b[39m)\n",
      "File \u001b[0;32m/opt/homebrew/Cellar/python@3.9/3.9.18/Frameworks/Python.framework/Versions/3.9/lib/python3.9/http/client.py:520\u001b[0m, in \u001b[0;36mHTTPResponse._read_next_chunk_size\u001b[0;34m(self)\u001b[0m\n\u001b[1;32m    518\u001b[0m \u001b[39mdef\u001b[39;00m \u001b[39m_read_next_chunk_size\u001b[39m(\u001b[39mself\u001b[39m):\n\u001b[1;32m    519\u001b[0m     \u001b[39m# Read the next chunk size from the file\u001b[39;00m\n\u001b[0;32m--> 520\u001b[0m     line \u001b[39m=\u001b[39m \u001b[39mself\u001b[39;49m\u001b[39m.\u001b[39;49mfp\u001b[39m.\u001b[39;49mreadline(_MAXLINE \u001b[39m+\u001b[39;49m \u001b[39m1\u001b[39;49m)\n\u001b[1;32m    521\u001b[0m     \u001b[39mif\u001b[39;00m \u001b[39mlen\u001b[39m(line) \u001b[39m>\u001b[39m _MAXLINE:\n\u001b[1;32m    522\u001b[0m         \u001b[39mraise\u001b[39;00m LineTooLong(\u001b[39m\"\u001b[39m\u001b[39mchunk size\u001b[39m\u001b[39m\"\u001b[39m)\n",
      "File \u001b[0;32m/opt/homebrew/Cellar/python@3.9/3.9.18/Frameworks/Python.framework/Versions/3.9/lib/python3.9/socket.py:698\u001b[0m, in \u001b[0;36mSocketIO.readinto\u001b[0;34m(self, b)\u001b[0m\n\u001b[1;32m    690\u001b[0m \u001b[39mdef\u001b[39;00m \u001b[39mreadinto\u001b[39m(\u001b[39mself\u001b[39m, b):\n\u001b[1;32m    691\u001b[0m \u001b[39m    \u001b[39m\u001b[39m\"\"\"Read up to len(b) bytes into the writable buffer *b* and return\u001b[39;00m\n\u001b[1;32m    692\u001b[0m \u001b[39m    the number of bytes read.  If the socket is non-blocking and no bytes\u001b[39;00m\n\u001b[1;32m    693\u001b[0m \u001b[39m    are available, None is returned.\u001b[39;00m\n\u001b[0;32m   (...)\u001b[0m\n\u001b[1;32m    696\u001b[0m \u001b[39m    was shutdown at the other end.\u001b[39;00m\n\u001b[1;32m    697\u001b[0m \u001b[39m    \"\"\"\u001b[39;00m\n\u001b[0;32m--> 698\u001b[0m     \u001b[39mself\u001b[39;49m\u001b[39m.\u001b[39;49m_checkClosed()\n\u001b[1;32m    699\u001b[0m     \u001b[39mself\u001b[39m\u001b[39m.\u001b[39m_checkReadable()\n\u001b[1;32m    700\u001b[0m     \u001b[39mif\u001b[39;00m \u001b[39mself\u001b[39m\u001b[39m.\u001b[39m_timeout_occurred:\n",
      "\u001b[0;31mKeyboardInterrupt\u001b[0m: "
     ]
    }
   ],
   "source": [
    "res_dict = {'query_id': [], 'exec_time': []}\n",
    "for index, row in df_multiple_bgps.iterrows():\n",
    "    query = parse_to_sparql(row['query_parts'])\n",
    "    _, time_s = execute_sparql(query=query)\n",
    "    res_dict['query_id'].append(row['id'])\n",
    "    res_dict['exec_time'].append(time_s)\n",
    "    print(index)\n",
    "    # if index % 13 == 0:\n",
    "    res_to_logs(result=res_dict)"
   ]
  },
  {
   "cell_type": "code",
   "execution_count": null,
   "metadata": {},
   "outputs": [],
   "source": []
  }
 ],
 "metadata": {
  "kernelspec": {
   "display_name": "env",
   "language": "python",
   "name": "python3"
  },
  "language_info": {
   "codemirror_mode": {
    "name": "ipython",
    "version": 3
   },
   "file_extension": ".py",
   "mimetype": "text/x-python",
   "name": "python",
   "nbconvert_exporter": "python",
   "pygments_lexer": "ipython3",
   "version": "3.9.18"
  }
 },
 "nbformat": 4,
 "nbformat_minor": 2
}
