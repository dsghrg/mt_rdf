{
 "cells": [
  {
   "cell_type": "code",
   "execution_count": 2,
   "metadata": {},
   "outputs": [
    {
     "data": {
      "text/plain": [
       "'/home/gehd/repos/mt_rdf'"
      ]
     },
     "execution_count": 2,
     "metadata": {},
     "output_type": "execute_result"
    }
   ],
   "source": [
    "import os\n",
    "os.chdir('../')\n",
    "os.getcwd()"
   ]
  },
  {
   "cell_type": "code",
   "execution_count": 9,
   "metadata": {},
   "outputs": [],
   "source": [
    "from src.query.wdbench import WDBench\n",
    "from src.query.query_type import *\n",
    "from src.query.query_sparql import *\n",
    "from tqdm import tqdm\n",
    "import numpy as np\n",
    "import re\n",
    "from src.query.basic_query_opt import QueryOpt\n",
    "from src.query.wdbench import WDBench"
   ]
  },
  {
   "cell_type": "code",
   "execution_count": 4,
   "metadata": {},
   "outputs": [],
   "source": [
    "sparql_query = Virtuoso()"
   ]
  },
  {
   "cell_type": "code",
   "execution_count": null,
   "metadata": {},
   "outputs": [],
   "source": [
    "wdbench = WDBench()\n",
    "wdbench.queries['exec_n'] = 0\n",
    "wdbench.queries['exec_time'] = 900\n",
    "\n",
    "res_dict = {'query_id': [], 'q_type': [], 'exec_n': [], 'exec_time': []}\n",
    "for qtype in QueryType:\n",
    "    index = 0\n",
    "\n",
    "    query_df = wdbench.queries[wdbench.queries['q_type'] == qtype.value]\n",
    "    for j, row in tqdm(query_df.iterrows(), total=query_df.shape[0]):\n",
    "        for i in range(4):\n",
    "            query = wdbench.parse_to_sparql(row['query_parts'])\n",
    "            res, exec_time = sparql_query.execute_sparql(query=query, force_order=True, timeout=900)\n",
    "            # res_dict['query_id'].append(row['q_id'])\n",
    "            # res_dict['q_type'].append(qtype.value)\n",
    "            # res_dict['exec_n'].append(i)\n",
    "            # res_dict['exec_time'].append(exec_time)\n",
    "            print(res)\n",
    "            print(exec_time)\n",
    "        \n",
    "        break\n",
    "\n",
    "        # if index % 10 == 0:\n",
    "        #     res_to_logs(result=res_dict, forced=args.forced)\n",
    "\n",
    "        index += 1\n",
    "    # res_to_logs(res_dict, forced=args.forced)"
   ]
  },
  {
   "cell_type": "code",
   "execution_count": 8,
   "metadata": {},
   "outputs": [
    {
     "name": "stderr",
     "output_type": "stream",
     "text": [
      "Loading Counts: 100%|██████████| 4.21G/4.21G [02:01<00:00, 34.7MB/s]\n",
      "Loading Counts: 100%|██████████| 414k/414k [00:00<00:00, 45.0MB/s]\n",
      "Loading Counts: 100%|██████████| 6.60G/6.60G [04:40<00:00, 23.5MB/s]\n"
     ]
    }
   ],
   "source": [
    "q_opt = QueryOpt()"
   ]
  },
  {
   "cell_type": "code",
   "execution_count": 10,
   "metadata": {},
   "outputs": [],
   "source": [
    "wdbench = WDBench()"
   ]
  },
  {
   "cell_type": "code",
   "execution_count": 12,
   "metadata": {},
   "outputs": [],
   "source": [
    "query = wdbench.get_sparql_from_id_and_type(17, QueryType.multiple_bgps)"
   ]
  },
  {
   "cell_type": "code",
   "execution_count": 2,
   "metadata": {},
   "outputs": [
    {
     "ename": "NameError",
     "evalue": "name 'q_opt' is not defined",
     "output_type": "error",
     "traceback": [
      "\u001b[0;31m---------------------------------------------------------------------------\u001b[0m",
      "\u001b[0;31mNameError\u001b[0m                                 Traceback (most recent call last)",
      "Cell \u001b[0;32mIn[2], line 1\u001b[0m\n\u001b[0;32m----> 1\u001b[0m \u001b[43mq_opt\u001b[49m\u001b[38;5;241m.\u001b[39moptimize_query(query)\n",
      "\u001b[0;31mNameError\u001b[0m: name 'q_opt' is not defined"
     ]
    }
   ],
   "source": [
    "q_opt.optimize_query(query)"
   ]
  },
  {
   "cell_type": "code",
   "execution_count": null,
   "metadata": {},
   "outputs": [],
   "source": []
  }
 ],
 "metadata": {
  "kernelspec": {
   "display_name": "env",
   "language": "python",
   "name": "python3"
  },
  "language_info": {
   "codemirror_mode": {
    "name": "ipython",
    "version": 3
   },
   "file_extension": ".py",
   "mimetype": "text/x-python",
   "name": "python",
   "nbconvert_exporter": "python",
   "pygments_lexer": "ipython3",
   "version": "3.10.14"
  }
 },
 "nbformat": 4,
 "nbformat_minor": 2
}
