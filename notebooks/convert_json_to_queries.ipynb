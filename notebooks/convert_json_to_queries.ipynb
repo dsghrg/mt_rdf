{
 "cells": [
  {
   "cell_type": "code",
   "execution_count": 1,
   "metadata": {},
   "outputs": [
    {
     "data": {
      "text/plain": [
       "'/Users/dennis/repos/study/mt/mt_rdf'"
      ]
     },
     "execution_count": 1,
     "metadata": {},
     "output_type": "execute_result"
    }
   ],
   "source": [
    "import os\n",
    "os.chdir('../')\n",
    "os.getcwd()"
   ]
  },
  {
   "cell_type": "code",
   "execution_count": 12,
   "metadata": {},
   "outputs": [],
   "source": [
    "import pandas as pd"
   ]
  },
  {
   "cell_type": "code",
   "execution_count": 13,
   "metadata": {},
   "outputs": [],
   "source": [
    "query_df = pd.read_csv('data/queries/cordis/cordis.csv')"
   ]
  },
  {
   "cell_type": "code",
   "execution_count": 16,
   "metadata": {},
   "outputs": [
    {
     "data": {
      "text/plain": [
       "[\"SELECT ?T1_total_cost WHERE { ?T1 a :projects . ?T1 :projects\\\\#total_cost ?T1_total_cost . ?T1 :projects\\\\#title ?T1_title . FILTER(?T1_title = 'Theseus') .        }\",\n",
       " \"SELECT ?T1_total_cost WHERE { ?T1 a :projects . ?T1 :projects\\\\#total_cost ?T1_total_cost . ?T1 :projects\\\\#title ?T1_title . FILTER(?T1_title = 'Theseus') .        }\",\n",
       " 'SELECT ?T1_acronym WHERE { ?T1 a :projects . ?T1 :projects\\\\#acronym ?T1_acronym . ?T1 :projects\\\\#start_year ?T1_start_year . FILTER(?T1_start_year = 2018) .        }',\n",
       " 'SELECT ?T1_acronym WHERE { ?T1 a :projects . ?T1 :projects\\\\#acronym ?T1_acronym . ?T1 :projects\\\\#start_year ?T1_start_year . FILTER(?T1_start_year = 2018) .        }',\n",
       " 'SELECT ?T1_title WHERE { ?T1 a :projects . ?T1 :projects\\\\#title ?T1_title . ?T1 :projects\\\\#start_year ?T1_start_year . FILTER(?T1_start_year < 2016) .        }',\n",
       " 'SELECT ?T1_title WHERE { ?T1 a :projects . ?T1 :projects\\\\#title ?T1_title . ?T1 :projects\\\\#start_year ?T1_start_year . FILTER(?T1_start_year < 2016) .        }',\n",
       " \"SELECT ?T1_institutions_name WHERE { ?T1 a :institutions . ?T2 a :eu_territorial_units . ?T1 :institutions\\\\#ref-geocode_regions_3 ?T2 .  ?T1 :institutions\\\\#institutions_name ?T1_institutions_name . ?T2 :eu_territorial_units\\\\#description ?T2_description . FILTER(?T2_description = 'Nordjylland') .        }\",\n",
       " \"SELECT ?T1_institutions_name WHERE { ?T1 a :institutions . ?T2 a :eu_territorial_units . ?T1 :institutions\\\\#ref-geocode_regions_3 ?T2 .  ?T1 :institutions\\\\#institutions_name ?T1_institutions_name . ?T2 :eu_territorial_units\\\\#description ?T2_description . FILTER(?T2_description = 'Nordjylland') .        }\",\n",
       " 'SELECT ?T1_full_name WHERE { ?T1 a :people . ?T2 a :projects . ?T2 :projects\\\\#ref-principal_investigator ?T1 .  ?T1 :people\\\\#full_name ?T1_full_name . ?T2 :projects\\\\#start_year ?T2_start_year . FILTER(?T2_start_year = 2014) .        }',\n",
       " 'SELECT ?T1_full_name WHERE { ?T1 a :people . ?T2 a :projects . ?T2 :projects\\\\#ref-principal_investigator ?T1 .  ?T1 :people\\\\#full_name ?T1_full_name . ?T2 :projects\\\\#start_year ?T2_start_year . FILTER(?T2_start_year = 2014) .        }',\n",
       " \"SELECT ?T1_title WHERE { ?T1 a :projects . ?T13 a :project_subject_areas . ?T13 :project_subject_areas\\\\#ref-project ?T1 .  ?T1 :projects\\\\#title ?T1_title . ?T2 :subject_areas\\\\#title ?T2_title . ?T2 a :subject_areas . ?T13 :project_subject_areas\\\\#ref-subject_area ?T2 .  ?T1 :projects\\\\#title ?T1_title . ?T2 :subject_areas\\\\#title ?T2_title . FILTER(?T2_title = 'Mathematics && Statistics') .        }\",\n",
       " \"SELECT ?T1_acronym ?T2_description WHERE { ?T1 a :projects . ?T13 a :project_subject_areas . ?T13 :project_subject_areas\\\\#ref-project ?T1 .  ?T1 :projects\\\\#acronym ?T1_acronym . ?T2 :subject_areas\\\\#description ?T2_description . ?T2 :subject_areas\\\\#title ?T2_title . ?T2 a :subject_areas . ?T13 :project_subject_areas\\\\#ref-subject_area ?T2 .  ?T1 :projects\\\\#acronym ?T1_acronym . ?T2 :subject_areas\\\\#description ?T2_description . ?T2 :subject_areas\\\\#title ?T2_title . FILTER(?T2_title = 'Mathematics && Statistics') .        }\",\n",
       " 'SELECT DISTINCT ?T1_title WHERE { ?T1 a :topics . ?T13 a :project_topics . ?T13 :project_topics\\\\#ref-topic ?T1 .  ?T1 :topics\\\\#title ?T1_title . ?T2 :projects\\\\#end_year ?T2_end_year . ?T2 a :projects . ?T13 :project_topics\\\\#ref-project ?T2 .  ?T1 :topics\\\\#title ?T1_title . ?T2 :projects\\\\#end_year ?T2_end_year . FILTER(?T2_end_year = 2014) .        }',\n",
       " 'SELECT DISTINCT ?T1_title WHERE { ?T1 a :topics . ?T13 a :project_topics . ?T13 :project_topics\\\\#ref-topic ?T1 .  ?T1 :topics\\\\#title ?T1_title . ?T2 :projects\\\\#end_year ?T2_end_year . ?T2 a :projects . ?T13 :project_topics\\\\#ref-project ?T2 .  ?T1 :topics\\\\#title ?T1_title . ?T2 :projects\\\\#end_year ?T2_end_year . FILTER(?T2_end_year = 2014) .        }',\n",
       " \"SELECT ?T1_acronym WHERE { ?T1 a :projects . ?T13 a :project_members . ?T13 :project_members\\\\#ref-project ?T1 .  ?T1 :projects\\\\#acronym ?T1_acronym . ?T2 :countries\\\\#country_name ?T2_country_name . ?T14 a :institutions . ?T13 :project_members\\\\#ref-institution_id ?T14 .  ?T1 :projects\\\\#acronym ?T1_acronym . ?T2 :countries\\\\#country_name ?T2_country_name . ?T2 a :countries . ?T14 :institutions\\\\#ref-country_id ?T2 .  ?T1 :projects\\\\#acronym ?T1_acronym . ?T2 :countries\\\\#country_name ?T2_country_name . FILTER(?T2_country_name = 'Greece') .        }\",\n",
       " \"SELECT ?T1_institutions_name WHERE { ?T1 a :institutions . ?T2 a :countries . ?T1 :institutions\\\\#ref-country_id ?T2 .  ?T1 :institutions\\\\#institutions_name ?T1_institutions_name . ?T2 :countries\\\\#country_name ?T2_country_name . ?T2 :countries\\\\#country_name ?T2_country_name . FILTER(?T2_country_name = 'France' || ?T2_country_name = 'Germany') .        }\",\n",
       " \"SELECT ?T1_institutions_name WHERE { ?T1 a :institutions . ?T2 a :countries . ?T1 :institutions\\\\#ref-country_id ?T2 .  ?T1 :institutions\\\\#institutions_name ?T1_institutions_name . ?T2 :countries\\\\#country_name ?T2_country_name . FILTER(?T2_country_name != 'France') .        }\",\n",
       " 'SELECT (count( ?T1_unics_id) as ?aggregation_T1_unics_id_72 ) WHERE { ?T1 a :projects . ?T1 :projects\\\\#unics_id ?T1_unics_id . ?T1 :projects\\\\#start_year ?T1_start_year . FILTER(?T1_start_year = 2016) .        }',\n",
       " 'SELECT ?T1_title WHERE { ?T1 a :projects . ?T1 :projects\\\\#title ?T1_title . ?T1 :projects\\\\#total_cost ?T1_total_cost . FILTER(?T1_total_cost = (?aggregation_T22_total_cost_120)) .       {SELECT (max( ?T22_total_cost) as ?aggregation_T22_total_cost_120 ) WHERE { ?T22 a :projects . ?T22 :projects\\\\#total_cost ?T22_total_cost .        }    } }',\n",
       " 'SELECT ?T1_member_name WHERE { ?T1 a :project_members . ?T2 a :projects . ?T1 :project_members\\\\#ref-project ?T2 .  ?T1 :project_members\\\\#member_name ?T1_member_name . ?T2 :projects\\\\#total_cost ?T2_total_cost . FILTER(?T2_total_cost < (?aggregation_T23_total_cost_47)) .       {SELECT (avg( ?T23_total_cost) as ?aggregation_T23_total_cost_47 ) WHERE { ?T23 a :projects . ?T23 :projects\\\\#total_cost ?T23_total_cost .        }    } }',\n",
       " 'SELECT ?T1_unics_id WHERE { ?T1 a :projects . ?T2 a :project_members . ?T2 :project_members\\\\#ref-project ?T1 .  ?T1 :projects\\\\#unics_id ?T1_unics_id . ?T1 :projects\\\\#unics_id ?T1_unics_id . ?T1 :projects\\\\#unics_id ?T1_unics_id .        } GROUP BY ?T1_unics_id   HAVING(count( ?T1_unics_id) as ?aggregation_T1_unics_id_196 ) >= 100)',\n",
       " 'SELECT ?T1_code ?T1_title WHERE { ?T1 a :funding_schemes . ?T1 :funding_schemes\\\\#code ?T1_code . ?T1 :funding_schemes\\\\#title ?T1_title . ?T1 :funding_schemes\\\\#code ?T1_code . FILTER(?T1_code = (?T22_code)) .       {SELECT ?T22_code (count( *) as ?aggregation_all) WHERE { ?T22 a :funding_schemes . ?T24 a :projects . ?T24 :projects\\\\#ref-ec_fund_scheme ?T22 .  ?T22 :funding_schemes\\\\#code ?T22_code . ?T22 :funding_schemes\\\\#code ?T22_code .        } GROUP BY ?T22_code  ORDER BY DESC (?aggregation_all) LIMIT 1 } }',\n",
       " 'SELECT (sum( ?T1_total_cost) as ?aggregation_T1_total_cost_79 ) WHERE { ?T1 a :projects . ?T1 :projects\\\\#total_cost ?T1_total_cost .        }',\n",
       " 'SELECT ?T1_title WHERE { ?T1 a :projects . ?T1 :projects\\\\#title ?T1_title . ?T1 :projects\\\\#start_year ?T1_start_year . ?T1 :projects\\\\#end_year ?T1_end_year . FILTER(?T1_start_year > 2006 && ?T1_end_year > 2006) .        }',\n",
       " 'SELECT ?T1_title ?T1_end_year - ?T1_start_year WHERE { ?T1 a :projects . ?T1 :projects\\\\#title ?T1_title . ?T1 :projects\\\\#end_year ?T1_end_year . ?T1 :projects\\\\#start_year ?T1_start_year . ?T1 :projects\\\\#end_year ?T1_end_year . ?T1 :projects\\\\#start_year ?T1_start_year .        }   ORDER BY DESC (?T1_end_year - ?T1_start_year) LIMIT 1',\n",
       " \"SELECT ?T1_title WHERE { ?T1 a :topics . ?T1 :topics\\\\#title ?T1_title . ?T1 :topics\\\\#title ?T1_title . FILTER(contains (?T1_title, 'Raw materials')) .        }\",\n",
       " \"SELECT ?T1_title WHERE { ?T1 a :topics . ?T1 :topics\\\\#title ?T1_title . ?T1 :topics\\\\#title ?T1_title . FILTER(contains (?T1_title, 'climate')) .        }\",\n",
       " \"SELECT (count( *) as ?aggregation_all) WHERE { ?T1 a :projects . ?T2 a :people . ?T1 :projects\\\\#ref-principal_investigator ?T2 .  ?T2 :people\\\\#full_name ?T2_full_name . FILTER(?T2_full_name = 'Thomas Bell') .        }\",\n",
       " 'SELECT DISTINCT ?T1_full_name WHERE { ?T1 a :people . ?T1 :people\\\\#full_name ?T1_full_name .        }',\n",
       " 'SELECT ?T1_acronym WHERE { ?T1 a :projects . ?T1 :projects\\\\#acronym ?T1_acronym . ?T1 :projects\\\\#total_cost ?T1_total_cost . FILTER(?T1_total_cost >= 100000 && ?T1_total_cost <= 200000) .        }',\n",
       " 'SELECT ?T1_title WHERE { ?T1 a :projects . ?T1 :projects\\\\#title ?T1_title . ?T1 :projects\\\\#total_cost ?T1_total_cost . FILTER(?T1_total_cost > 1000000) .        }',\n",
       " 'SELECT ?T1_title WHERE { ?T1 a :projects . ?T1 :projects\\\\#title ?T1_title . ?T1 :projects\\\\#total_cost ?T1_total_cost . FILTER(?T1_total_cost > 1000000) .        }',\n",
       " \"SELECT ?T1_title ?T2_member_name WHERE { ?T1 a :projects . ?T2 a :project_members . ?T2 :project_members\\\\#ref-project ?T1 .  ?T1 :projects\\\\#title ?T1_title . ?T2 :project_members\\\\#member_name ?T2_member_name . ?T3 :project_member_roles\\\\#code ?T3_code . ?T3 a :project_member_roles . ?T2 :project_members\\\\#ref-member_role ?T3 .  ?T1 :projects\\\\#title ?T1_title . ?T2 :project_members\\\\#member_name ?T2_member_name . ?T3 :project_member_roles\\\\#code ?T3_code . FILTER(?T3_code = 'partner') .        }\",\n",
       " 'SELECT DISTINCT ?T1_description WHERE { ?T1 a :erc_research_domains . ?T1 :erc_research_domains\\\\#description ?T1_description .        }',\n",
       " 'SELECT ?T1_country_name WHERE { ?T1 a :countries . ?T2 a :institutions . ?T2 :institutions\\\\#ref-country_id ?T1 .  ?T1 :countries\\\\#country_name ?T1_country_name . ?T1 :countries\\\\#unics_id ?T1_unics_id .        }',\n",
       " 'SELECT ?T1_country_name WHERE { ?T1 a :countries . ?T2 a :institutions . ?T2 :institutions\\\\#ref-country_id ?T1 .  ?T1 :countries\\\\#country_name ?T1_country_name . ?T1 :countries\\\\#unics_id ?T1_unics_id .        }',\n",
       " \"SELECT ?T1_country_code2 ?T1_country_code3 WHERE { ?T1 a :countries . ?T1 :countries\\\\#country_code2 ?T1_country_code2 . ?T1 :countries\\\\#country_code3 ?T1_country_code3 . ?T1 :countries\\\\#country_name ?T1_country_name . FILTER(?T1_country_name = 'Andorra') .        }\",\n",
       " \"SELECT ?T1_code WHERE { ?T1 a :funding_schemes . ?T1 :funding_schemes\\\\#code ?T1_code . ?T1 :funding_schemes\\\\#title ?T1_title . FILTER(?T1_title = 'Framework Partnership Agreement') .        }\",\n",
       " \"SELECT ?T1_title WHERE { ?T1 a :programmes . ?T1 :programmes\\\\#title ?T1_title . ?T1 :programmes\\\\#short_name ?T1_short_name . FILTER(?T1_short_name = 'Transport') .        }\",\n",
       " \"SELECT ?T1_member_name ?T2_code WHERE { ?T1 a :project_members . ?T2 a :project_member_roles . ?T1 :project_members\\\\#ref-member_role ?T2 .  ?T1 :project_members\\\\#member_name ?T1_member_name . ?T2 :project_member_roles\\\\#code ?T2_code . ?T3 :projects\\\\#acronym ?T3_acronym . ?T3 a :projects . ?T1 :project_members\\\\#ref-project ?T3 .  ?T1 :project_members\\\\#member_name ?T1_member_name . ?T2 :project_member_roles\\\\#code ?T2_code . ?T3 :projects\\\\#acronym ?T3_acronym . FILTER(?T3_acronym = 'GTBB') .        }\",\n",
       " \"SELECT ?T1_member_name ?T2_code WHERE { ?T1 a :project_members . ?T2 a :project_member_roles . ?T1 :project_members\\\\#ref-member_role ?T2 .  ?T1 :project_members\\\\#member_name ?T1_member_name . ?T2 :project_member_roles\\\\#code ?T2_code . ?T3 :projects\\\\#acronym ?T3_acronym . ?T3 a :projects . ?T1 :project_members\\\\#ref-project ?T3 .  ?T1 :project_members\\\\#member_name ?T1_member_name . ?T2 :project_member_roles\\\\#code ?T2_code . ?T3 :projects\\\\#acronym ?T3_acronym . FILTER(?T3_acronym = 'GTBB') .        }\",\n",
       " \"SELECT ?T1_title WHERE { ?T1 a :programmes . ?T1 :programmes\\\\#title ?T1_title . ?T1 :programmes\\\\#parent ?T1_parent . FILTER(?T1_parent = 'FP7') .        }\",\n",
       " \"SELECT ?T1_title WHERE { ?T1 a :programmes . ?T1 :programmes\\\\#title ?T1_title . ?T1 :programmes\\\\#parent ?T1_parent . FILTER(?T1_parent = 'FP7') .        }\",\n",
       " \"SELECT ?T1_description WHERE { ?T1 a :erc_panels . ?T2 a :erc_research_domains . ?T1 :erc_panels\\\\#ref-part_of ?T2 .  ?T1 :erc_panels\\\\#description ?T1_description . ?T2 :erc_research_domains\\\\#description ?T2_description . FILTER(?T2_description = 'Life Sciences') .        }\",\n",
       " \"SELECT ?T1_description WHERE { ?T1 a :erc_panels . ?T2 a :erc_research_domains . ?T1 :erc_panels\\\\#ref-part_of ?T2 .  ?T1 :erc_panels\\\\#description ?T1_description . ?T2 :erc_research_domains\\\\#description ?T2_description . FILTER(?T2_description = 'Life Sciences') .        }\",\n",
       " \"SELECT ?T1_member_name WHERE { ?T1 a :project_members . ?T2 a :activity_types . ?T1 :project_members\\\\#ref-activity_type ?T2 .  ?T1 :project_members\\\\#member_name ?T1_member_name . ?T2 :activity_types\\\\#description ?T2_description . FILTER(?T2_description = 'Research Organisations') .        }\",\n",
       " \"SELECT ?T1_member_name WHERE { ?T1 a :project_members . ?T2 a :activity_types . ?T1 :project_members\\\\#ref-activity_type ?T2 .  ?T1 :project_members\\\\#member_name ?T1_member_name . ?T2 :activity_types\\\\#description ?T2_description . FILTER(?T2_description = 'Research Organisations') .        }\",\n",
       " \"SELECT ?T1_objective WHERE { ?T1 a :projects . ?T1 :projects\\\\#objective ?T1_objective . ?T1 :projects\\\\#acronym ?T1_acronym . FILTER(?T1_acronym = 'DEEPCARBON') .        }\",\n",
       " \"SELECT ?T1_objective WHERE { ?T1 a :projects . ?T1 :projects\\\\#objective ?T1_objective . ?T1 :projects\\\\#acronym ?T1_acronym . FILTER(?T1_acronym = 'DEEPCARBON') .        }\",\n",
       " \"SELECT ?T1_title WHERE { ?T1 a :projects . ?T1 :projects\\\\#title ?T1_title . ?T1 :projects\\\\#objective ?T1_objective . FILTER(contains (?T1_objective, 'carbon capturing')) .        }\",\n",
       " \"SELECT (count( *) as ?aggregation_all) WHERE { ?T1 a :projects . ?T1 :projects\\\\#objective ?T1_objective . FILTER(contains (?T1_objective, 'carbon capturing')) .        }\",\n",
       " \"SELECT distinct?col1 WHERE { { SELECT (?T1_institutions_name as ?col1) WHERE { ?T1 a :institutions . ?T2 a :countries . ?T1 :institutions\\\\#ref-country_id ?T2 .  ?T1 :institutions\\\\#institutions_name ?T1_institutions_name . ?T2 :countries\\\\#country_name ?T2_country_name . FILTER(?T2_country_name = 'France') .   }}  MINUS {SELECT (?T3_institutions_name as ?col1) WHERE { ?T3 a :institutions . ?T4 a :countries . ?T3 :institutions\\\\#ref-country_id ?T4 .  ?T3 :institutions\\\\#institutions_name ?T3_institutions_name . ?T4 :countries\\\\#country_name ?T4_country_name . ?T5 :eu_territorial_units\\\\#description ?T5_description . ?T5 a :eu_territorial_units . ?T3 :institutions\\\\#ref-geocode_regions_3 ?T5 .  ?T3 :institutions\\\\#institutions_name ?T3_institutions_name . ?T4 :countries\\\\#country_name ?T4_country_name . ?T5 :eu_territorial_units\\\\#description ?T5_description . FILTER(?T4_country_name = 'France' && ?T5_description = 'Paris') .        }     } }\",\n",
       " \"SELECT distinct?col1 WHERE { { SELECT (?T1_institutions_name as ?col1) WHERE { ?T1 a :institutions . ?T2 a :countries . ?T1 :institutions\\\\#ref-country_id ?T2 .  ?T1 :institutions\\\\#institutions_name ?T1_institutions_name . ?T2 :countries\\\\#country_name ?T2_country_name . FILTER(?T2_country_name = 'France') .   }}  MINUS {SELECT (?T3_institutions_name as ?col1) WHERE { ?T3 a :institutions . ?T4 a :countries . ?T3 :institutions\\\\#ref-country_id ?T4 .  ?T3 :institutions\\\\#institutions_name ?T3_institutions_name . ?T4 :countries\\\\#country_name ?T4_country_name . ?T5 :eu_territorial_units\\\\#description ?T5_description . ?T5 a :eu_territorial_units . ?T3 :institutions\\\\#ref-geocode_regions_3 ?T5 .  ?T3 :institutions\\\\#institutions_name ?T3_institutions_name . ?T4 :countries\\\\#country_name ?T4_country_name . ?T5 :eu_territorial_units\\\\#description ?T5_description . FILTER(?T4_country_name = 'France' && ?T5_description = 'Paris') .        }     } }\",\n",
       " \"SELECT DISTINCT ?T1_member_name WHERE { ?T1 a :project_members . ?T1 :project_members\\\\#member_name ?T1_member_name . ?T1 :project_members\\\\#member_name ?T1_member_name . FILTER(?T1_member_name not in (?T22_member_role)) .       {SELECT ?T22_member_name WHERE { ?T22 a :project_members . ?T22 :project_members\\\\#member_name ?T22_member_name . ?T22 :project_members\\\\#member_role ?T22_member_role . FILTER(?T22_member_role = 'coordinator') .        }    } }\",\n",
       " \"SELECT DISTINCT ?T1_member_name WHERE { ?T1 a :project_members . ?T1 :project_members\\\\#member_name ?T1_member_name . ?T1 :project_members\\\\#member_name ?T1_member_name . FILTER(?T1_member_name not in (?T22_member_role)) .       {SELECT ?T22_member_name WHERE { ?T22 a :project_members . ?T22 :project_members\\\\#member_name ?T22_member_name . ?T22 :project_members\\\\#member_role ?T22_member_role . FILTER(?T22_member_role = 'coordinator') .        }    } }\",\n",
       " \"SELECT ?T1_full_name (count( ?T2_title) as ?aggregation_T2_title_140 ) WHERE { ?T1 a :people . ?T2 a :projects . ?T2 :projects\\\\#ref-principal_investigator ?T1 .  ?T1 :people\\\\#full_name ?T1_full_name . ?T2 :projects\\\\#title ?T2_title . ?T2 :projects\\\\#title ?T2_title .        } GROUP BY ?T1_full_name   HAVING(count( ?T2_title) as ?aggregation_T2_title_17 ) > '1')\",\n",
       " \"SELECT ?T1_full_name (count( ?T2_title) as ?aggregation_T2_title_15 ) WHERE { ?T1 a :people . ?T2 a :projects . ?T2 :projects\\\\#ref-principal_investigator ?T1 .  ?T1 :people\\\\#full_name ?T1_full_name . ?T2 :projects\\\\#title ?T2_title . ?T2 :projects\\\\#title ?T2_title .        } GROUP BY ?T1_full_name   HAVING(count( ?T2_title) as ?aggregation_T2_title_85 ) > '1')\",\n",
       " 'SELECT ?T1_title (max( ?T2_ec_max_contribution) as ?aggregation_T2_ec_max_contribution_49 ) WHERE { ?T1 a :subject_areas . ?T13 a :project_subject_areas . ?T13 :project_subject_areas\\\\#ref-subject_area ?T1 .  ?T1 :subject_areas\\\\#title ?T1_title . ?T2 :projects\\\\#ec_max_contribution ?T2_ec_max_contribution . ?T2 :projects\\\\#ec_max_contribution ?T2_ec_max_contribution . ?T2 a :projects . ?T13 :project_subject_areas\\\\#ref-project ?T2 .  ?T1 :subject_areas\\\\#title ?T1_title . ?T2 :projects\\\\#ec_max_contribution ?T2_ec_max_contribution . ?T2 :projects\\\\#ec_max_contribution ?T2_ec_max_contribution .        } GROUP BY ?T1_title  ORDER BY DESC ((max( ?T2_ec_max_contribution) as ?aggregation_T2_ec_max_contribution_22 )) LIMIT 1',\n",
       " 'SELECT ?T1_title (max( ?T2_ec_max_contribution) as ?aggregation_T2_ec_max_contribution_47 ) WHERE { ?T1 a :subject_areas . ?T13 a :project_subject_areas . ?T13 :project_subject_areas\\\\#ref-subject_area ?T1 .  ?T1 :subject_areas\\\\#title ?T1_title . ?T2 :projects\\\\#ec_max_contribution ?T2_ec_max_contribution . ?T2 :projects\\\\#ec_max_contribution ?T2_ec_max_contribution . ?T2 a :projects . ?T13 :project_subject_areas\\\\#ref-project ?T2 .  ?T1 :subject_areas\\\\#title ?T1_title . ?T2 :projects\\\\#ec_max_contribution ?T2_ec_max_contribution . ?T2 :projects\\\\#ec_max_contribution ?T2_ec_max_contribution .        } GROUP BY ?T1_title  ORDER BY DESC ((max( ?T2_ec_max_contribution) as ?aggregation_T2_ec_max_contribution_17 )) LIMIT 1',\n",
       " 'SELECT ?T1_title (min( ?T2_ec_max_contribution) as ?aggregation_T2_ec_max_contribution_170 ) WHERE { ?T1 a :subject_areas . ?T13 a :project_subject_areas . ?T13 :project_subject_areas\\\\#ref-subject_area ?T1 .  ?T1 :subject_areas\\\\#title ?T1_title . ?T2 :projects\\\\#ec_max_contribution ?T2_ec_max_contribution . ?T2 :projects\\\\#ec_max_contribution ?T2_ec_max_contribution . ?T2 a :projects . ?T13 :project_subject_areas\\\\#ref-project ?T2 .  ?T1 :subject_areas\\\\#title ?T1_title . ?T2 :projects\\\\#ec_max_contribution ?T2_ec_max_contribution . ?T2 :projects\\\\#ec_max_contribution ?T2_ec_max_contribution .        } GROUP BY ?T1_title  ORDER BY DESC ((min( ?T2_ec_max_contribution) as ?aggregation_T2_ec_max_contribution_125 )) LIMIT 1',\n",
       " 'SELECT ?T1_title (min( ?T2_ec_max_contribution) as ?aggregation_T2_ec_max_contribution_12 ) WHERE { ?T1 a :subject_areas . ?T13 a :project_subject_areas . ?T13 :project_subject_areas\\\\#ref-subject_area ?T1 .  ?T1 :subject_areas\\\\#title ?T1_title . ?T2 :projects\\\\#ec_max_contribution ?T2_ec_max_contribution . ?T2 :projects\\\\#ec_max_contribution ?T2_ec_max_contribution . ?T2 a :projects . ?T13 :project_subject_areas\\\\#ref-project ?T2 .  ?T1 :subject_areas\\\\#title ?T1_title . ?T2 :projects\\\\#ec_max_contribution ?T2_ec_max_contribution . ?T2 :projects\\\\#ec_max_contribution ?T2_ec_max_contribution .        } GROUP BY ?T1_title  ORDER BY DESC ((min( ?T2_ec_max_contribution) as ?aggregation_T2_ec_max_contribution_39 )) LIMIT 1',\n",
       " 'SELECT DISTINCT ?T1_institutions_name (count( *) as ?aggregation_all) (count(DISTINCT ?T2_project) as ?aggregation_T2_project_97 ) WHERE { ?T1 a :institutions . ?T2 a :project_members . ?T2 :project_members\\\\#ref-institution_id ?T1 .  ?T1 :institutions\\\\#institutions_name ?T1_institutions_name . ?T2 :project_members\\\\#project ?T2_project . ?T2 :project_members\\\\#project ?T2_project .        } GROUP BY ?T1_institutions_name  ORDER BY DESC ((count( ?T2_project) as ?aggregation_T2_project_119 )) LIMIT 1',\n",
       " 'SELECT DISTINCT ?T1_institutions_name (count( *) as ?aggregation_all) (count(DISTINCT ?T2_project) as ?aggregation_T2_project_193 ) WHERE { ?T1 a :institutions . ?T2 a :project_members . ?T2 :project_members\\\\#ref-institution_id ?T1 .  ?T1 :institutions\\\\#institutions_name ?T1_institutions_name . ?T2 :project_members\\\\#project ?T2_project . ?T2 :project_members\\\\#project ?T2_project .        } GROUP BY ?T1_institutions_name  ORDER BY DESC ((count( ?T2_project) as ?aggregation_T2_project_98 )) LIMIT 1',\n",
       " 'SELECT DISTINCT ?T1_institutions_name (count( *) as ?aggregation_all) (count(DISTINCT ?T2_project) as ?aggregation_T2_project_126 ) WHERE { ?T1 a :institutions . ?T2 a :project_members . ?T2 :project_members\\\\#ref-institution_id ?T1 .  ?T1 :institutions\\\\#institutions_name ?T1_institutions_name . ?T2 :project_members\\\\#project ?T2_project . ?T2 :project_members\\\\#project ?T2_project .        } GROUP BY ?T1_institutions_name  ORDER BY ASC ((count( ?T2_project) as ?aggregation_T2_project_69 )) LIMIT 1',\n",
       " 'SELECT DISTINCT ?T1_institutions_name (count( *) as ?aggregation_all) (count(DISTINCT ?T2_project) as ?aggregation_T2_project_125 ) WHERE { ?T1 a :institutions . ?T2 a :project_members . ?T2 :project_members\\\\#ref-institution_id ?T1 .  ?T1 :institutions\\\\#institutions_name ?T1_institutions_name . ?T2 :project_members\\\\#project ?T2_project . ?T2 :project_members\\\\#project ?T2_project .        } GROUP BY ?T1_institutions_name  ORDER BY ASC ((count( ?T2_project) as ?aggregation_T2_project_164 )) LIMIT 1',\n",
       " 'SELECT ?T1_title (sum( ?T2_ec_max_contribution) as ?aggregation_T2_ec_max_contribution_43 ) WHERE { ?T1 a :funding_schemes . ?T2 a :projects . ?T2 :projects\\\\#ref-ec_fund_scheme ?T1 .  ?T1 :funding_schemes\\\\#title ?T1_title . ?T2 :projects\\\\#ec_max_contribution ?T2_ec_max_contribution . ?T2 :projects\\\\#ec_max_contribution ?T2_ec_max_contribution .        } GROUP BY ?T1_title  ORDER BY DESC ((sum( ?T2_ec_max_contribution) as ?aggregation_T2_ec_max_contribution_26 )) LIMIT 1',\n",
       " 'SELECT ?T1_title (sum( ?T2_ec_max_contribution) as ?aggregation_T2_ec_max_contribution_27 ) WHERE { ?T1 a :funding_schemes . ?T2 a :projects . ?T2 :projects\\\\#ref-ec_fund_scheme ?T1 .  ?T1 :funding_schemes\\\\#title ?T1_title . ?T2 :projects\\\\#ec_max_contribution ?T2_ec_max_contribution . ?T2 :projects\\\\#ec_max_contribution ?T2_ec_max_contribution .        } GROUP BY ?T1_title  ORDER BY ASC ((sum( ?T2_ec_max_contribution) as ?aggregation_T2_ec_max_contribution_130 )) LIMIT 1',\n",
       " \"SELECT ?T1_member_name ?T2_ec_max_contribution WHERE { ?T1 a :project_members . ?T2 a :projects . ?T1 :project_members\\\\#ref-project ?T2 .  ?T1 :project_members\\\\#member_name ?T1_member_name . ?T2 :projects\\\\#ec_max_contribution ?T2_ec_max_contribution . ?T2 :projects\\\\#ec_max_contribution ?T2_ec_max_contribution . ?T3 :activity_types\\\\#code ?T3_code . ?T3 a :activity_types . ?T1 :project_members\\\\#ref-activity_type ?T3 .  ?T1 :project_members\\\\#member_name ?T1_member_name . ?T2 :projects\\\\#ec_max_contribution ?T2_ec_max_contribution . ?T2 :projects\\\\#ec_max_contribution ?T2_ec_max_contribution . ?T3 :activity_types\\\\#code ?T3_code . FILTER(?T3_code = 'PRC') .        }  ORDER BY DESC (?T2_ec_max_contribution)\",\n",
       " \"SELECT ?T1_member_name ?T2_ec_max_contribution WHERE { ?T1 a :project_members . ?T2 a :projects . ?T1 :project_members\\\\#ref-project ?T2 .  ?T1 :project_members\\\\#member_name ?T1_member_name . ?T2 :projects\\\\#ec_max_contribution ?T2_ec_max_contribution . ?T2 :projects\\\\#ec_max_contribution ?T2_ec_max_contribution . ?T3 :activity_types\\\\#code ?T3_code . ?T3 a :activity_types . ?T1 :project_members\\\\#ref-activity_type ?T3 .  ?T1 :project_members\\\\#member_name ?T1_member_name . ?T2 :projects\\\\#ec_max_contribution ?T2_ec_max_contribution . ?T2 :projects\\\\#ec_max_contribution ?T2_ec_max_contribution . ?T3 :activity_types\\\\#code ?T3_code . FILTER(?T3_code = 'PRC') .        }  ORDER BY DESC (?T2_ec_max_contribution)\",\n",
       " 'SELECT ?T1_title ?T1_start_year WHERE { ?T1 a :projects . ?T1 :projects\\\\#title ?T1_title . ?T1 :projects\\\\#start_year ?T1_start_year . ?T1 :projects\\\\#start_year ?T1_start_year .        }  ORDER BY DESC (?T1_start_year)',\n",
       " 'SELECT ?T1_title ?T1_start_year WHERE { ?T1 a :projects . ?T1 :projects\\\\#title ?T1_title . ?T1 :projects\\\\#start_year ?T1_start_year . ?T1 :projects\\\\#start_year ?T1_start_year .        }  ORDER BY DESC (?T1_start_year)',\n",
       " 'SELECT ?T1_title ?T1_start_year WHERE { ?T1 a :projects . ?T1 :projects\\\\#title ?T1_title . ?T1 :projects\\\\#start_year ?T1_start_year . ?T1 :projects\\\\#start_year ?T1_start_year .        }  ORDER BY ASC (?T1_start_year)',\n",
       " 'SELECT ?T1_title ?T1_start_year WHERE { ?T1 a :projects . ?T1 :projects\\\\#title ?T1_title . ?T1 :projects\\\\#start_year ?T1_start_year . ?T1 :projects\\\\#start_year ?T1_start_year .        }  ORDER BY ASC (?T1_start_year)',\n",
       " 'SELECT ?T1_start_date WHERE { ?T1 a :projects . ?T1 :projects\\\\#start_date ?T1_start_date . ?T1 :projects\\\\#start_date ?T1_start_date .        }  ORDER BY ASC (?T1_start_date)',\n",
       " 'SELECT ?T1_start_date WHERE { ?T1 a :projects . ?T1 :projects\\\\#start_date ?T1_start_date . ?T1 :projects\\\\#start_date ?T1_start_date .        }  ORDER BY ASC (?T1_start_date)',\n",
       " \"SELECT ?T1_title WHERE { ?T1 a :projects . ?T13 a :project_subject_areas . ?T13 :project_subject_areas\\\\#ref-project ?T1 .  ?T1 :projects\\\\#title ?T1_title . ?T2 :subject_areas\\\\#title ?T2_title . ?T2 a :subject_areas . ?T13 :project_subject_areas\\\\#ref-subject_area ?T2 .  ?T1 :projects\\\\#title ?T1_title . ?T2 :subject_areas\\\\#title ?T2_title . FILTER(?T2_title = 'Climate change && Carbon cycle research') .        }\",\n",
       " \"SELECT ?T1_title WHERE { ?T1 a :projects . ?T13 a :project_subject_areas . ?T13 :project_subject_areas\\\\#ref-project ?T1 .  ?T1 :projects\\\\#title ?T1_title . ?T2 :subject_areas\\\\#title ?T2_title . ?T2 a :subject_areas . ?T13 :project_subject_areas\\\\#ref-subject_area ?T2 .  ?T1 :projects\\\\#title ?T1_title . ?T2 :subject_areas\\\\#title ?T2_title . FILTER(?T2_title = 'Climate change && Carbon cycle research') .        }\",\n",
       " 'SELECT ?T1_description WHERE { ?T1 a :project_member_roles . ?T1 :project_member_roles\\\\#description ?T1_description .        }',\n",
       " 'SELECT ?T1_description WHERE { ?T1 a :project_member_roles . ?T1 :project_member_roles\\\\#description ?T1_description .        }',\n",
       " \"SELECT (count( ?T1_description) as ?aggregation_T1_description_38 ) WHERE { ?T1 a :erc_panels . ?T2 a :erc_research_domains . ?T1 :erc_panels\\\\#ref-part_of ?T2 .  ?T1 :erc_panels\\\\#description ?T1_description . ?T2 :erc_research_domains\\\\#description ?T2_description . FILTER(?T2_description = 'Life Sciences') .        }\",\n",
       " \"SELECT (count( ?T1_description) as ?aggregation_T1_description_65 ) WHERE { ?T1 a :erc_panels . ?T2 a :erc_research_domains . ?T1 :erc_panels\\\\#ref-part_of ?T2 .  ?T1 :erc_panels\\\\#description ?T1_description . ?T2 :erc_research_domains\\\\#code ?T2_code . FILTER(?T2_code = 'LS') .        }\",\n",
       " \"SELECT ?T1_description WHERE { ?T1 a :erc_panels . ?T2 a :erc_research_domains . ?T1 :erc_panels\\\\#ref-part_of ?T2 .  ?T1 :erc_panels\\\\#description ?T1_description . ?T2 :erc_research_domains\\\\#code ?T2_code . FILTER(?T2_code = 'SH') .        }\",\n",
       " \"SELECT (count( ?T1_description) as ?aggregation_T1_description_114 ) WHERE { ?T1 a :erc_panels . ?T2 a :erc_research_domains . ?T1 :erc_panels\\\\#ref-part_of ?T2 .  ?T1 :erc_panels\\\\#description ?T1_description . ?T2 :erc_research_domains\\\\#code ?T2_code . FILTER(?T2_code = 'SH') .        }\",\n",
       " \"SELECT ?T1_member_name WHERE { ?T1 a :project_members . ?T2 a :activity_types . ?T1 :project_members\\\\#ref-activity_type ?T2 .  ?T1 :project_members\\\\#member_name ?T1_member_name . ?T2 :activity_types\\\\#code ?T2_code . FILTER(?T2_code = 'PRC') .        }\",\n",
       " \"SELECT ?T1_member_name WHERE { ?T1 a :project_members . ?T2 a :activity_types . ?T1 :project_members\\\\#ref-activity_type ?T2 .  ?T1 :project_members\\\\#member_name ?T1_member_name . ?T2 :activity_types\\\\#code ?T2_code . FILTER(?T2_code = 'PRC') .        }\",\n",
       " \"SELECT (count( ?T1_member_name) as ?aggregation_T1_member_name_19 ) WHERE { ?T1 a :project_members . ?T2 a :activity_types . ?T1 :project_members\\\\#ref-activity_type ?T2 .  ?T1 :project_members\\\\#member_name ?T1_member_name . ?T2 :activity_types\\\\#code ?T2_code . FILTER(?T2_code = 'PRC') .        }\",\n",
       " \"SELECT DISTINCT (count(DISTINCT ?T1_member_name) as ?aggregation_T1_member_name_28 ) WHERE { ?T1 a :project_members . ?T2 a :activity_types . ?T1 :project_members\\\\#ref-activity_type ?T2 .  ?T1 :project_members\\\\#member_name ?T1_member_name . ?T2 :activity_types\\\\#code ?T2_code . FILTER(?T2_code = 'HES') .        }\",\n",
       " \"SELECT DISTINCT (count(DISTINCT ?T1_member_name) as ?aggregation_T1_member_name_133 ) WHERE { ?T1 a :project_members . ?T2 a :activity_types . ?T1 :project_members\\\\#ref-activity_type ?T2 .  ?T1 :project_members\\\\#member_name ?T1_member_name . ?T2 :activity_types\\\\#description ?T2_description . FILTER(?T2_description = 'Higher || Secondary Education Establishments') .        }\",\n",
       " \"SELECT (count( ?T1_title) as ?aggregation_T1_title_171 ) WHERE { ?T1 a :projects . ?T13 a :project_subject_areas . ?T13 :project_subject_areas\\\\#ref-project ?T1 .  ?T1 :projects\\\\#title ?T1_title . ?T2 :subject_areas\\\\#title ?T2_title . ?T2 a :subject_areas . ?T13 :project_subject_areas\\\\#ref-subject_area ?T2 .  ?T1 :projects\\\\#title ?T1_title . ?T2 :subject_areas\\\\#title ?T2_title . FILTER(?T2_title = 'Robotics') .        }\",\n",
       " \"SELECT (count( ?T1_title) as ?aggregation_T1_title_159 ) WHERE { ?T1 a :projects . ?T13 a :project_subject_areas . ?T13 :project_subject_areas\\\\#ref-project ?T1 .  ?T1 :projects\\\\#title ?T1_title . ?T2 :subject_areas\\\\#title ?T2_title . ?T2 a :subject_areas . ?T13 :project_subject_areas\\\\#ref-subject_area ?T2 .  ?T1 :projects\\\\#title ?T1_title . ?T2 :subject_areas\\\\#title ?T2_title . FILTER(?T2_title = 'Robotics') .        }\",\n",
       " \"SELECT ?T1_member_name ?T2_ec_max_contribution WHERE { ?T1 a :project_members . ?T2 a :projects . ?T1 :project_members\\\\#ref-project ?T2 .  ?T1 :project_members\\\\#member_name ?T1_member_name . ?T2 :projects\\\\#ec_max_contribution ?T2_ec_max_contribution . ?T2 :projects\\\\#ec_max_contribution ?T2_ec_max_contribution . ?T1 :project_members\\\\#activity_type ?T1_activity_type . ?T1 :project_members\\\\#geocode_regions_3 ?T1_geocode_regions_3 . ?T3 a :activity_types . ?T1 :project_members\\\\#ref-activity_type ?T3 .  ?T1 :project_members\\\\#member_name ?T1_member_name . ?T2 :projects\\\\#ec_max_contribution ?T2_ec_max_contribution . ?T2 :projects\\\\#ec_max_contribution ?T2_ec_max_contribution . ?T1 :project_members\\\\#activity_type ?T1_activity_type . ?T1 :project_members\\\\#geocode_regions_3 ?T1_geocode_regions_3 . FILTER(?T1_geocode_regions_3 = 'NONEU') .        }   ORDER BY DESC (?T2_ec_max_contribution) LIMIT 1\",\n",
       " \"SELECT ?T1_member_name ?T2_ec_max_contribution WHERE { ?T1 a :project_members . ?T2 a :projects . ?T1 :project_members\\\\#ref-project ?T2 .  ?T1 :project_members\\\\#member_name ?T1_member_name . ?T2 :projects\\\\#ec_max_contribution ?T2_ec_max_contribution . ?T2 :projects\\\\#ec_max_contribution ?T2_ec_max_contribution . ?T1 :project_members\\\\#activity_type ?T1_activity_type . ?T1 :project_members\\\\#geocode_regions_3 ?T1_geocode_regions_3 . ?T3 a :activity_types . ?T1 :project_members\\\\#ref-activity_type ?T3 .  ?T1 :project_members\\\\#member_name ?T1_member_name . ?T2 :projects\\\\#ec_max_contribution ?T2_ec_max_contribution . ?T2 :projects\\\\#ec_max_contribution ?T2_ec_max_contribution . ?T1 :project_members\\\\#activity_type ?T1_activity_type . ?T1 :project_members\\\\#geocode_regions_3 ?T1_geocode_regions_3 . FILTER(?T1_geocode_regions_3 = 'NONEU') .        }   ORDER BY DESC (?T2_ec_max_contribution) LIMIT 1\",\n",
       " \"SELECT ?T1_member_name ?T2_ec_max_contribution WHERE { ?T1 a :project_members . ?T2 a :projects . ?T1 :project_members\\\\#ref-project ?T2 .  ?T1 :project_members\\\\#member_name ?T1_member_name . ?T2 :projects\\\\#ec_max_contribution ?T2_ec_max_contribution . ?T2 :projects\\\\#ec_max_contribution ?T2_ec_max_contribution . ?T1 :project_members\\\\#activity_type ?T1_activity_type . ?T1 :project_members\\\\#geocode_regions_3 ?T1_geocode_regions_3 . ?T3 a :activity_types . ?T1 :project_members\\\\#ref-activity_type ?T3 .  ?T1 :project_members\\\\#member_name ?T1_member_name . ?T2 :projects\\\\#ec_max_contribution ?T2_ec_max_contribution . ?T2 :projects\\\\#ec_max_contribution ?T2_ec_max_contribution . ?T1 :project_members\\\\#activity_type ?T1_activity_type . ?T1 :project_members\\\\#geocode_regions_3 ?T1_geocode_regions_3 . FILTER(?T1_geocode_regions_3 = 'NONEU') .        }   ORDER BY ASC (?T2_ec_max_contribution) LIMIT 1\",\n",
       " \"SELECT ?T1_member_name ?T2_ec_max_contribution WHERE { ?T1 a :project_members . ?T2 a :projects . ?T1 :project_members\\\\#ref-project ?T2 .  ?T1 :project_members\\\\#member_name ?T1_member_name . ?T2 :projects\\\\#ec_max_contribution ?T2_ec_max_contribution . ?T2 :projects\\\\#ec_max_contribution ?T2_ec_max_contribution . ?T1 :project_members\\\\#activity_type ?T1_activity_type . ?T1 :project_members\\\\#geocode_regions_3 ?T1_geocode_regions_3 . ?T3 a :activity_types . ?T1 :project_members\\\\#ref-activity_type ?T3 .  ?T1 :project_members\\\\#member_name ?T1_member_name . ?T2 :projects\\\\#ec_max_contribution ?T2_ec_max_contribution . ?T2 :projects\\\\#ec_max_contribution ?T2_ec_max_contribution . ?T1 :project_members\\\\#activity_type ?T1_activity_type . ?T1 :project_members\\\\#geocode_regions_3 ?T1_geocode_regions_3 . FILTER(?T1_geocode_regions_3 = 'NONEU') .        }   ORDER BY ASC (?T2_ec_max_contribution) LIMIT 1\",\n",
       " \"SELECT DISTINCT (count(DISTINCT ?T1_member_name) as ?aggregation_T1_member_name_132 ) WHERE { ?T1 a :project_members . ?T2 a :projects . ?T1 :project_members\\\\#ref-project ?T2 .  ?T1 :project_members\\\\#member_name ?T1_member_name . ?T1 :project_members\\\\#project ?T1_project . ?T1 :project_members\\\\#activity_type ?T1_activity_type . ?T1 :project_members\\\\#geocode_regions_3 ?T1_geocode_regions_3 . ?T3 a :activity_types . ?T1 :project_members\\\\#ref-activity_type ?T3 .  ?T1 :project_members\\\\#member_name ?T1_member_name . ?T1 :project_members\\\\#project ?T1_project . ?T1 :project_members\\\\#activity_type ?T1_activity_type . ?T1 :project_members\\\\#geocode_regions_3 ?T1_geocode_regions_3 . FILTER(?T1_geocode_regions_3 = 'NONEU') .        }\",\n",
       " \"SELECT DISTINCT ?T1_member_name WHERE { ?T1 a :project_members . ?T2 a :projects . ?T1 :project_members\\\\#ref-project ?T2 .  ?T1 :project_members\\\\#member_name ?T1_member_name . ?T1 :project_members\\\\#project ?T1_project . ?T1 :project_members\\\\#activity_type ?T1_activity_type . ?T1 :project_members\\\\#geocode_regions_3 ?T1_geocode_regions_3 . ?T3 a :activity_types . ?T1 :project_members\\\\#ref-activity_type ?T3 .  ?T1 :project_members\\\\#member_name ?T1_member_name . ?T1 :project_members\\\\#project ?T1_project . ?T1 :project_members\\\\#activity_type ?T1_activity_type . ?T1 :project_members\\\\#geocode_regions_3 ?T1_geocode_regions_3 . FILTER(?T1_geocode_regions_3 = 'NONEU') .        }\",\n",
       " \"SELECT ?T1_title WHERE { ?T1 a :programmes . ?T1 :programmes\\\\#title ?T1_title . ?T1 :programmes\\\\#title ?T1_title . FILTER(contains (?T1_title, 'climate')) .        }\",\n",
       " \"SELECT ?T1_title WHERE { ?T1 a :programmes . ?T1 :programmes\\\\#title ?T1_title . ?T1 :programmes\\\\#title ?T1_title . FILTER(contains (?T1_title, 'climate')) .        }\",\n",
       " 'SELECT ?T1_title (sum( ?T2_ec_max_contribution) as ?aggregation_T2_ec_max_contribution_106 ) WHERE { ?T1 a :programmes . ?T13 a :project_programmes . ?T13 :project_programmes\\\\#ref-programme ?T1 .  ?T1 :programmes\\\\#title ?T1_title . ?T2 :projects\\\\#ec_max_contribution ?T2_ec_max_contribution . ?T2 a :projects . ?T13 :project_programmes\\\\#ref-project ?T2 .  ?T1 :programmes\\\\#title ?T1_title . ?T2 :projects\\\\#ec_max_contribution ?T2_ec_max_contribution .        } GROUP BY ?T1_title',\n",
       " 'SELECT ?T1_title (sum( ?T2_ec_max_contribution) as ?aggregation_T2_ec_max_contribution_112 ) WHERE { ?T1 a :programmes . ?T13 a :project_programmes . ?T13 :project_programmes\\\\#ref-programme ?T1 .  ?T1 :programmes\\\\#title ?T1_title . ?T2 :projects\\\\#ec_max_contribution ?T2_ec_max_contribution . ?T2 a :projects . ?T13 :project_programmes\\\\#ref-project ?T2 .  ?T1 :programmes\\\\#title ?T1_title . ?T2 :projects\\\\#ec_max_contribution ?T2_ec_max_contribution .        } GROUP BY ?T1_title']"
      ]
     },
     "execution_count": 16,
     "metadata": {},
     "output_type": "execute_result"
    }
   ],
   "source": [
    "list(query_df['predicted_sparql'])"
   ]
  },
  {
   "cell_type": "code",
   "execution_count": 6,
   "metadata": {},
   "outputs": [],
   "source": [
    "db_ids = set()\n",
    "for query in queries:\n",
    "    db_ids.add(query['db_id'])"
   ]
  },
  {
   "cell_type": "code",
   "execution_count": 7,
   "metadata": {},
   "outputs": [
    {
     "data": {
      "text/plain": [
       "{'cordis_temporary'}"
      ]
     },
     "execution_count": 7,
     "metadata": {},
     "output_type": "execute_result"
    }
   ],
   "source": [
    "db_ids"
   ]
  },
  {
   "cell_type": "code",
   "execution_count": 9,
   "metadata": {},
   "outputs": [
    {
     "data": {
      "text/plain": [
       "'SELECT DISTINCT ?T1_description WHERE { ?T1 a dbo:erc_panels . ?T13 a dbo:project_erc_panels . ?T13 dbo:panel ?T1 . ?T1 dbo:description ?T1_description . ?T2 dbo:start_year ?T2_start_year . ?T2 a dbo:projects . ?T13 dbo:project ?T2 . ?T1 dbo:description ?T1_description . ?T2 dbo:start_year ?T2_start_year . FILTER(?T2_start_year = 2016) . } '"
      ]
     },
     "execution_count": 9,
     "metadata": {},
     "output_type": "execute_result"
    }
   ],
   "source": []
  },
  {
   "cell_type": "code",
   "execution_count": null,
   "metadata": {},
   "outputs": [],
   "source": []
  }
 ],
 "metadata": {
  "kernelspec": {
   "display_name": "env",
   "language": "python",
   "name": "python3"
  },
  "language_info": {
   "codemirror_mode": {
    "name": "ipython",
    "version": 3
   },
   "file_extension": ".py",
   "mimetype": "text/x-python",
   "name": "python",
   "nbconvert_exporter": "python",
   "pygments_lexer": "ipython3",
   "version": "3.9.18"
  },
  "orig_nbformat": 4
 },
 "nbformat": 4,
 "nbformat_minor": 2
}
