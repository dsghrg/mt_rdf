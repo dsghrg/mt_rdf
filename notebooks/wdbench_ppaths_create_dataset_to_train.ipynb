{
 "cells": [
  {
   "cell_type": "code",
   "execution_count": 1,
   "metadata": {},
   "outputs": [
    {
     "data": {
      "text/plain": [
       "'/Users/dennis/repos/study/mt/mt_rdf'"
      ]
     },
     "execution_count": 1,
     "metadata": {},
     "output_type": "execute_result"
    }
   ],
   "source": [
    "import os\n",
    "os.chdir('../')\n",
    "os.getcwd()"
   ]
  },
  {
   "cell_type": "code",
   "execution_count": 2,
   "metadata": {},
   "outputs": [],
   "source": [
    "import pandas as pd\n",
    "from tqdm import tqdm\n",
    "from functools import reduce"
   ]
  },
  {
   "cell_type": "code",
   "execution_count": 3,
   "metadata": {},
   "outputs": [],
   "source": [
    "virt_orig_df = pd.read_csv('results/wdbench/ppaths/virt/results_ppaths_original.csv')\n",
    "virt_orig_df_forced = pd.read_csv('results/wdbench/ppaths/virt/results_ppaths_original_forced.csv')\n",
    "virt_orig_df_opt = pd.read_csv('results/wdbench/ppaths/virt/results_ppaths_opt_virt.csv')\n",
    "virt_orig_df.drop('Unnamed: 0', axis=1, inplace=True)\n",
    "virt_orig_df_forced.drop('Unnamed: 0', axis=1, inplace=True)\n",
    "virt_orig_df_opt.drop('Unnamed: 0', axis=1, inplace=True)"
   ]
  },
  {
   "cell_type": "code",
   "execution_count": 4,
   "metadata": {},
   "outputs": [],
   "source": [
    "virt_merged_df = pd.merge(virt_orig_df, virt_orig_df_forced, how='left', left_on=['query_id', 'exec_n'], right_on=['query_id', 'exec_n'], suffixes=('', '_forced'))\n",
    "virt_merged_df = pd.merge(virt_merged_df, virt_orig_df_opt, how='left', left_on=['query_id', 'exec_n'], right_on=['query_id', 'exec_n'], suffixes=('', '_opt'))"
   ]
  },
  {
   "cell_type": "code",
   "execution_count": 5,
   "metadata": {},
   "outputs": [
    {
     "data": {
      "text/plain": [
       "1719.3866250514984"
      ]
     },
     "execution_count": 5,
     "metadata": {},
     "output_type": "execute_result"
    }
   ],
   "source": [
    "virt_merged_df['exec_time'].sum() / 4"
   ]
  },
  {
   "cell_type": "code",
   "execution_count": 6,
   "metadata": {},
   "outputs": [
    {
     "data": {
      "text/html": [
       "<div>\n",
       "<style scoped>\n",
       "    .dataframe tbody tr th:only-of-type {\n",
       "        vertical-align: middle;\n",
       "    }\n",
       "\n",
       "    .dataframe tbody tr th {\n",
       "        vertical-align: top;\n",
       "    }\n",
       "\n",
       "    .dataframe thead th {\n",
       "        text-align: right;\n",
       "    }\n",
       "</style>\n",
       "<table border=\"1\" class=\"dataframe\">\n",
       "  <thead>\n",
       "    <tr style=\"text-align: right;\">\n",
       "      <th></th>\n",
       "      <th>query_id</th>\n",
       "      <th>exec_n</th>\n",
       "      <th>exec_time</th>\n",
       "      <th>results</th>\n",
       "      <th>exec_time_forced</th>\n",
       "      <th>results_forced</th>\n",
       "      <th>exec_time_opt</th>\n",
       "      <th>results_opt</th>\n",
       "    </tr>\n",
       "  </thead>\n",
       "  <tbody>\n",
       "    <tr>\n",
       "      <th>0</th>\n",
       "      <td>P365</td>\n",
       "      <td>0</td>\n",
       "      <td>0.034540</td>\n",
       "      <td>NaN</td>\n",
       "      <td>50.981081</td>\n",
       "      <td>NaN</td>\n",
       "      <td>0.037571</td>\n",
       "      <td>NaN</td>\n",
       "    </tr>\n",
       "    <tr>\n",
       "      <th>1</th>\n",
       "      <td>P365</td>\n",
       "      <td>1</td>\n",
       "      <td>0.005320</td>\n",
       "      <td>NaN</td>\n",
       "      <td>50.173872</td>\n",
       "      <td>NaN</td>\n",
       "      <td>0.008669</td>\n",
       "      <td>NaN</td>\n",
       "    </tr>\n",
       "    <tr>\n",
       "      <th>2</th>\n",
       "      <td>P365</td>\n",
       "      <td>2</td>\n",
       "      <td>0.004696</td>\n",
       "      <td>NaN</td>\n",
       "      <td>50.759371</td>\n",
       "      <td>NaN</td>\n",
       "      <td>0.006482</td>\n",
       "      <td>NaN</td>\n",
       "    </tr>\n",
       "    <tr>\n",
       "      <th>3</th>\n",
       "      <td>P365</td>\n",
       "      <td>3</td>\n",
       "      <td>0.003977</td>\n",
       "      <td>NaN</td>\n",
       "      <td>50.263360</td>\n",
       "      <td>NaN</td>\n",
       "      <td>0.004403</td>\n",
       "      <td>NaN</td>\n",
       "    </tr>\n",
       "    <tr>\n",
       "      <th>4</th>\n",
       "      <td>P376</td>\n",
       "      <td>0</td>\n",
       "      <td>0.030846</td>\n",
       "      <td>NaN</td>\n",
       "      <td>49.986881</td>\n",
       "      <td>NaN</td>\n",
       "      <td>0.006958</td>\n",
       "      <td>NaN</td>\n",
       "    </tr>\n",
       "    <tr>\n",
       "      <th>...</th>\n",
       "      <td>...</td>\n",
       "      <td>...</td>\n",
       "      <td>...</td>\n",
       "      <td>...</td>\n",
       "      <td>...</td>\n",
       "      <td>...</td>\n",
       "      <td>...</td>\n",
       "      <td>...</td>\n",
       "    </tr>\n",
       "    <tr>\n",
       "      <th>851</th>\n",
       "      <td>P279</td>\n",
       "      <td>3</td>\n",
       "      <td>0.270709</td>\n",
       "      <td>NaN</td>\n",
       "      <td>432.549118</td>\n",
       "      <td>NaN</td>\n",
       "      <td>NaN</td>\n",
       "      <td>NaN</td>\n",
       "    </tr>\n",
       "    <tr>\n",
       "      <th>852</th>\n",
       "      <td>P263</td>\n",
       "      <td>0</td>\n",
       "      <td>0.540939</td>\n",
       "      <td>NaN</td>\n",
       "      <td>5.716760</td>\n",
       "      <td>NaN</td>\n",
       "      <td>NaN</td>\n",
       "      <td>NaN</td>\n",
       "    </tr>\n",
       "    <tr>\n",
       "      <th>853</th>\n",
       "      <td>P263</td>\n",
       "      <td>1</td>\n",
       "      <td>0.514997</td>\n",
       "      <td>NaN</td>\n",
       "      <td>5.554682</td>\n",
       "      <td>NaN</td>\n",
       "      <td>NaN</td>\n",
       "      <td>NaN</td>\n",
       "    </tr>\n",
       "    <tr>\n",
       "      <th>854</th>\n",
       "      <td>P263</td>\n",
       "      <td>2</td>\n",
       "      <td>0.518899</td>\n",
       "      <td>NaN</td>\n",
       "      <td>5.505023</td>\n",
       "      <td>NaN</td>\n",
       "      <td>NaN</td>\n",
       "      <td>NaN</td>\n",
       "    </tr>\n",
       "    <tr>\n",
       "      <th>855</th>\n",
       "      <td>P263</td>\n",
       "      <td>3</td>\n",
       "      <td>0.534393</td>\n",
       "      <td>NaN</td>\n",
       "      <td>5.385755</td>\n",
       "      <td>NaN</td>\n",
       "      <td>NaN</td>\n",
       "      <td>NaN</td>\n",
       "    </tr>\n",
       "  </tbody>\n",
       "</table>\n",
       "<p>856 rows × 8 columns</p>\n",
       "</div>"
      ],
      "text/plain": [
       "    query_id  exec_n  exec_time results  exec_time_forced results_forced  \\\n",
       "0       P365       0   0.034540     NaN         50.981081            NaN   \n",
       "1       P365       1   0.005320     NaN         50.173872            NaN   \n",
       "2       P365       2   0.004696     NaN         50.759371            NaN   \n",
       "3       P365       3   0.003977     NaN         50.263360            NaN   \n",
       "4       P376       0   0.030846     NaN         49.986881            NaN   \n",
       "..       ...     ...        ...     ...               ...            ...   \n",
       "851     P279       3   0.270709     NaN        432.549118            NaN   \n",
       "852     P263       0   0.540939     NaN          5.716760            NaN   \n",
       "853     P263       1   0.514997     NaN          5.554682            NaN   \n",
       "854     P263       2   0.518899     NaN          5.505023            NaN   \n",
       "855     P263       3   0.534393     NaN          5.385755            NaN   \n",
       "\n",
       "     exec_time_opt  results_opt  \n",
       "0         0.037571          NaN  \n",
       "1         0.008669          NaN  \n",
       "2         0.006482          NaN  \n",
       "3         0.004403          NaN  \n",
       "4         0.006958          NaN  \n",
       "..             ...          ...  \n",
       "851            NaN          NaN  \n",
       "852            NaN          NaN  \n",
       "853            NaN          NaN  \n",
       "854            NaN          NaN  \n",
       "855            NaN          NaN  \n",
       "\n",
       "[856 rows x 8 columns]"
      ]
     },
     "execution_count": 6,
     "metadata": {},
     "output_type": "execute_result"
    }
   ],
   "source": [
    "virt_merged_df"
   ]
  },
  {
   "cell_type": "code",
   "execution_count": 7,
   "metadata": {},
   "outputs": [
    {
     "data": {
      "text/html": [
       "<div>\n",
       "<style scoped>\n",
       "    .dataframe tbody tr th:only-of-type {\n",
       "        vertical-align: middle;\n",
       "    }\n",
       "\n",
       "    .dataframe tbody tr th {\n",
       "        vertical-align: top;\n",
       "    }\n",
       "\n",
       "    .dataframe thead th {\n",
       "        text-align: right;\n",
       "    }\n",
       "</style>\n",
       "<table border=\"1\" class=\"dataframe\">\n",
       "  <thead>\n",
       "    <tr style=\"text-align: right;\">\n",
       "      <th></th>\n",
       "      <th>query_id</th>\n",
       "      <th>exec_n</th>\n",
       "      <th>exec_time</th>\n",
       "      <th>results</th>\n",
       "      <th>exec_time_forced</th>\n",
       "      <th>results_forced</th>\n",
       "      <th>exec_time_opt</th>\n",
       "      <th>results_opt</th>\n",
       "    </tr>\n",
       "  </thead>\n",
       "  <tbody>\n",
       "    <tr>\n",
       "      <th>8</th>\n",
       "      <td>P230</td>\n",
       "      <td>0</td>\n",
       "      <td>295.505047</td>\n",
       "      <td>NaN</td>\n",
       "      <td>42.569398</td>\n",
       "      <td>NaN</td>\n",
       "      <td>NaN</td>\n",
       "      <td>NaN</td>\n",
       "    </tr>\n",
       "    <tr>\n",
       "      <th>9</th>\n",
       "      <td>P230</td>\n",
       "      <td>1</td>\n",
       "      <td>246.681965</td>\n",
       "      <td>NaN</td>\n",
       "      <td>43.057276</td>\n",
       "      <td>NaN</td>\n",
       "      <td>NaN</td>\n",
       "      <td>NaN</td>\n",
       "    </tr>\n",
       "    <tr>\n",
       "      <th>10</th>\n",
       "      <td>P230</td>\n",
       "      <td>2</td>\n",
       "      <td>246.280662</td>\n",
       "      <td>NaN</td>\n",
       "      <td>43.482172</td>\n",
       "      <td>NaN</td>\n",
       "      <td>NaN</td>\n",
       "      <td>NaN</td>\n",
       "    </tr>\n",
       "    <tr>\n",
       "      <th>11</th>\n",
       "      <td>P230</td>\n",
       "      <td>3</td>\n",
       "      <td>247.935213</td>\n",
       "      <td>NaN</td>\n",
       "      <td>44.602695</td>\n",
       "      <td>NaN</td>\n",
       "      <td>NaN</td>\n",
       "      <td>NaN</td>\n",
       "    </tr>\n",
       "    <tr>\n",
       "      <th>40</th>\n",
       "      <td>P355</td>\n",
       "      <td>0</td>\n",
       "      <td>3.443652</td>\n",
       "      <td>NaN</td>\n",
       "      <td>1.117381</td>\n",
       "      <td>NaN</td>\n",
       "      <td>0.004738</td>\n",
       "      <td>NaN</td>\n",
       "    </tr>\n",
       "    <tr>\n",
       "      <th>...</th>\n",
       "      <td>...</td>\n",
       "      <td>...</td>\n",
       "      <td>...</td>\n",
       "      <td>...</td>\n",
       "      <td>...</td>\n",
       "      <td>...</td>\n",
       "      <td>...</td>\n",
       "      <td>...</td>\n",
       "    </tr>\n",
       "    <tr>\n",
       "      <th>759</th>\n",
       "      <td>P275</td>\n",
       "      <td>3</td>\n",
       "      <td>60.404140</td>\n",
       "      <td>NaN</td>\n",
       "      <td>6.054290</td>\n",
       "      <td>NaN</td>\n",
       "      <td>NaN</td>\n",
       "      <td>NaN</td>\n",
       "    </tr>\n",
       "    <tr>\n",
       "      <th>784</th>\n",
       "      <td>P285</td>\n",
       "      <td>0</td>\n",
       "      <td>4.393668</td>\n",
       "      <td>NaN</td>\n",
       "      <td>0.192304</td>\n",
       "      <td>NaN</td>\n",
       "      <td>0.021630</td>\n",
       "      <td>NaN</td>\n",
       "    </tr>\n",
       "    <tr>\n",
       "      <th>785</th>\n",
       "      <td>P285</td>\n",
       "      <td>1</td>\n",
       "      <td>4.353490</td>\n",
       "      <td>NaN</td>\n",
       "      <td>0.167747</td>\n",
       "      <td>NaN</td>\n",
       "      <td>0.016577</td>\n",
       "      <td>NaN</td>\n",
       "    </tr>\n",
       "    <tr>\n",
       "      <th>786</th>\n",
       "      <td>P285</td>\n",
       "      <td>2</td>\n",
       "      <td>4.369842</td>\n",
       "      <td>NaN</td>\n",
       "      <td>0.170515</td>\n",
       "      <td>NaN</td>\n",
       "      <td>0.015898</td>\n",
       "      <td>NaN</td>\n",
       "    </tr>\n",
       "    <tr>\n",
       "      <th>787</th>\n",
       "      <td>P285</td>\n",
       "      <td>3</td>\n",
       "      <td>4.352727</td>\n",
       "      <td>NaN</td>\n",
       "      <td>0.168983</td>\n",
       "      <td>NaN</td>\n",
       "      <td>0.016137</td>\n",
       "      <td>NaN</td>\n",
       "    </tr>\n",
       "  </tbody>\n",
       "</table>\n",
       "<p>96 rows × 8 columns</p>\n",
       "</div>"
      ],
      "text/plain": [
       "    query_id  exec_n   exec_time results  exec_time_forced results_forced  \\\n",
       "8       P230       0  295.505047     NaN         42.569398            NaN   \n",
       "9       P230       1  246.681965     NaN         43.057276            NaN   \n",
       "10      P230       2  246.280662     NaN         43.482172            NaN   \n",
       "11      P230       3  247.935213     NaN         44.602695            NaN   \n",
       "40      P355       0    3.443652     NaN          1.117381            NaN   \n",
       "..       ...     ...         ...     ...               ...            ...   \n",
       "759     P275       3   60.404140     NaN          6.054290            NaN   \n",
       "784     P285       0    4.393668     NaN          0.192304            NaN   \n",
       "785     P285       1    4.353490     NaN          0.167747            NaN   \n",
       "786     P285       2    4.369842     NaN          0.170515            NaN   \n",
       "787     P285       3    4.352727     NaN          0.168983            NaN   \n",
       "\n",
       "     exec_time_opt  results_opt  \n",
       "8              NaN          NaN  \n",
       "9              NaN          NaN  \n",
       "10             NaN          NaN  \n",
       "11             NaN          NaN  \n",
       "40        0.004738          NaN  \n",
       "..             ...          ...  \n",
       "759            NaN          NaN  \n",
       "784       0.021630          NaN  \n",
       "785       0.016577          NaN  \n",
       "786       0.015898          NaN  \n",
       "787       0.016137          NaN  \n",
       "\n",
       "[96 rows x 8 columns]"
      ]
     },
     "execution_count": 7,
     "metadata": {},
     "output_type": "execute_result"
    }
   ],
   "source": [
    "virt_merged_df[(virt_merged_df['exec_time'] >= virt_merged_df['exec_time_forced']) & virt_merged_df['exec_time_forced'] != 0]"
   ]
  },
  {
   "cell_type": "code",
   "execution_count": 8,
   "metadata": {},
   "outputs": [],
   "source": [
    "virt_opt_not_opt = virt_merged_df[['query_id',  'exec_time', 'exec_time_forced']]"
   ]
  },
  {
   "cell_type": "code",
   "execution_count": 9,
   "metadata": {},
   "outputs": [],
   "source": [
    "virt_opt_not_opt.loc[virt_opt_not_opt['exec_time_forced'] == 0, 'exec_time_forced'] = 900"
   ]
  },
  {
   "cell_type": "code",
   "execution_count": 10,
   "metadata": {},
   "outputs": [
    {
     "data": {
      "text/html": [
       "<div>\n",
       "<style scoped>\n",
       "    .dataframe tbody tr th:only-of-type {\n",
       "        vertical-align: middle;\n",
       "    }\n",
       "\n",
       "    .dataframe tbody tr th {\n",
       "        vertical-align: top;\n",
       "    }\n",
       "\n",
       "    .dataframe thead th {\n",
       "        text-align: right;\n",
       "    }\n",
       "</style>\n",
       "<table border=\"1\" class=\"dataframe\">\n",
       "  <thead>\n",
       "    <tr style=\"text-align: right;\">\n",
       "      <th></th>\n",
       "      <th>query_id</th>\n",
       "      <th>exec_time</th>\n",
       "      <th>exec_time_forced</th>\n",
       "    </tr>\n",
       "  </thead>\n",
       "  <tbody>\n",
       "    <tr>\n",
       "      <th>32</th>\n",
       "      <td>P357</td>\n",
       "      <td>34.484950</td>\n",
       "      <td>900.0</td>\n",
       "    </tr>\n",
       "    <tr>\n",
       "      <th>33</th>\n",
       "      <td>P357</td>\n",
       "      <td>30.141387</td>\n",
       "      <td>900.0</td>\n",
       "    </tr>\n",
       "    <tr>\n",
       "      <th>34</th>\n",
       "      <td>P357</td>\n",
       "      <td>30.688312</td>\n",
       "      <td>900.0</td>\n",
       "    </tr>\n",
       "    <tr>\n",
       "      <th>35</th>\n",
       "      <td>P357</td>\n",
       "      <td>30.222399</td>\n",
       "      <td>900.0</td>\n",
       "    </tr>\n",
       "    <tr>\n",
       "      <th>44</th>\n",
       "      <td>P385</td>\n",
       "      <td>1.028157</td>\n",
       "      <td>900.0</td>\n",
       "    </tr>\n",
       "    <tr>\n",
       "      <th>...</th>\n",
       "      <td>...</td>\n",
       "      <td>...</td>\n",
       "      <td>...</td>\n",
       "    </tr>\n",
       "    <tr>\n",
       "      <th>839</th>\n",
       "      <td>P315</td>\n",
       "      <td>0.070925</td>\n",
       "      <td>900.0</td>\n",
       "    </tr>\n",
       "    <tr>\n",
       "      <th>844</th>\n",
       "      <td>P283</td>\n",
       "      <td>2.621537</td>\n",
       "      <td>900.0</td>\n",
       "    </tr>\n",
       "    <tr>\n",
       "      <th>845</th>\n",
       "      <td>P283</td>\n",
       "      <td>2.607222</td>\n",
       "      <td>900.0</td>\n",
       "    </tr>\n",
       "    <tr>\n",
       "      <th>846</th>\n",
       "      <td>P283</td>\n",
       "      <td>2.565370</td>\n",
       "      <td>900.0</td>\n",
       "    </tr>\n",
       "    <tr>\n",
       "      <th>847</th>\n",
       "      <td>P283</td>\n",
       "      <td>2.608860</td>\n",
       "      <td>900.0</td>\n",
       "    </tr>\n",
       "  </tbody>\n",
       "</table>\n",
       "<p>300 rows × 3 columns</p>\n",
       "</div>"
      ],
      "text/plain": [
       "    query_id  exec_time  exec_time_forced\n",
       "32      P357  34.484950             900.0\n",
       "33      P357  30.141387             900.0\n",
       "34      P357  30.688312             900.0\n",
       "35      P357  30.222399             900.0\n",
       "44      P385   1.028157             900.0\n",
       "..       ...        ...               ...\n",
       "839     P315   0.070925             900.0\n",
       "844     P283   2.621537             900.0\n",
       "845     P283   2.607222             900.0\n",
       "846     P283   2.565370             900.0\n",
       "847     P283   2.608860             900.0\n",
       "\n",
       "[300 rows x 3 columns]"
      ]
     },
     "execution_count": 10,
     "metadata": {},
     "output_type": "execute_result"
    }
   ],
   "source": [
    "virt_opt_not_opt[virt_opt_not_opt['exec_time_forced'] == 900]"
   ]
  },
  {
   "cell_type": "code",
   "execution_count": 11,
   "metadata": {},
   "outputs": [
    {
     "data": {
      "text/plain": [
       "query_id\n",
       "P180    False\n",
       "P181     True\n",
       "P182    False\n",
       "P183    False\n",
       "P184    False\n",
       "        ...  \n",
       "P399    False\n",
       "P400    False\n",
       "P401    False\n",
       "P402    False\n",
       "P403    False\n",
       "Length: 214, dtype: bool"
      ]
     },
     "execution_count": 11,
     "metadata": {},
     "output_type": "execute_result"
    }
   ],
   "source": [
    "virt_opt_not_opt.groupby('query_id').apply(lambda x: x['exec_time'].mean() >= x['exec_time_forced'].mean())"
   ]
  },
  {
   "cell_type": "code",
   "execution_count": 12,
   "metadata": {},
   "outputs": [],
   "source": [
    "dataset = virt_opt_not_opt.groupby('query_id').apply(lambda x: x['exec_time'].mean() >= x['exec_time_forced'].mean())"
   ]
  },
  {
   "cell_type": "code",
   "execution_count": 13,
   "metadata": {},
   "outputs": [],
   "source": [
    "ds = dataset.to_frame().reset_index().rename(columns={0: 'label'})"
   ]
  },
  {
   "cell_type": "code",
   "execution_count": 14,
   "metadata": {},
   "outputs": [],
   "source": [
    "ds['label'] = ds['label'].astype(int)"
   ]
  },
  {
   "cell_type": "code",
   "execution_count": 15,
   "metadata": {},
   "outputs": [
    {
     "data": {
      "text/html": [
       "<div>\n",
       "<style scoped>\n",
       "    .dataframe tbody tr th:only-of-type {\n",
       "        vertical-align: middle;\n",
       "    }\n",
       "\n",
       "    .dataframe tbody tr th {\n",
       "        vertical-align: top;\n",
       "    }\n",
       "\n",
       "    .dataframe thead th {\n",
       "        text-align: right;\n",
       "    }\n",
       "</style>\n",
       "<table border=\"1\" class=\"dataframe\">\n",
       "  <thead>\n",
       "    <tr style=\"text-align: right;\">\n",
       "      <th></th>\n",
       "      <th>query_id</th>\n",
       "      <th>label</th>\n",
       "    </tr>\n",
       "  </thead>\n",
       "  <tbody>\n",
       "    <tr>\n",
       "      <th>0</th>\n",
       "      <td>P180</td>\n",
       "      <td>0</td>\n",
       "    </tr>\n",
       "    <tr>\n",
       "      <th>1</th>\n",
       "      <td>P181</td>\n",
       "      <td>1</td>\n",
       "    </tr>\n",
       "    <tr>\n",
       "      <th>2</th>\n",
       "      <td>P182</td>\n",
       "      <td>0</td>\n",
       "    </tr>\n",
       "    <tr>\n",
       "      <th>3</th>\n",
       "      <td>P183</td>\n",
       "      <td>0</td>\n",
       "    </tr>\n",
       "    <tr>\n",
       "      <th>4</th>\n",
       "      <td>P184</td>\n",
       "      <td>0</td>\n",
       "    </tr>\n",
       "    <tr>\n",
       "      <th>...</th>\n",
       "      <td>...</td>\n",
       "      <td>...</td>\n",
       "    </tr>\n",
       "    <tr>\n",
       "      <th>209</th>\n",
       "      <td>P399</td>\n",
       "      <td>0</td>\n",
       "    </tr>\n",
       "    <tr>\n",
       "      <th>210</th>\n",
       "      <td>P400</td>\n",
       "      <td>0</td>\n",
       "    </tr>\n",
       "    <tr>\n",
       "      <th>211</th>\n",
       "      <td>P401</td>\n",
       "      <td>0</td>\n",
       "    </tr>\n",
       "    <tr>\n",
       "      <th>212</th>\n",
       "      <td>P402</td>\n",
       "      <td>0</td>\n",
       "    </tr>\n",
       "    <tr>\n",
       "      <th>213</th>\n",
       "      <td>P403</td>\n",
       "      <td>0</td>\n",
       "    </tr>\n",
       "  </tbody>\n",
       "</table>\n",
       "<p>214 rows × 2 columns</p>\n",
       "</div>"
      ],
      "text/plain": [
       "    query_id  label\n",
       "0       P180      0\n",
       "1       P181      1\n",
       "2       P182      0\n",
       "3       P183      0\n",
       "4       P184      0\n",
       "..       ...    ...\n",
       "209     P399      0\n",
       "210     P400      0\n",
       "211     P401      0\n",
       "212     P402      0\n",
       "213     P403      0\n",
       "\n",
       "[214 rows x 2 columns]"
      ]
     },
     "execution_count": 15,
     "metadata": {},
     "output_type": "execute_result"
    }
   ],
   "source": [
    "ds"
   ]
  },
  {
   "cell_type": "code",
   "execution_count": 13,
   "metadata": {},
   "outputs": [],
   "source": [
    "def add_query_to_df(df, nl=False):\n",
    "    ds_dict = {'query_id': [], 'query': [], 'label': []}\n",
    "    for index, row in tqdm(df.iterrows()):\n",
    "        filename = f'{row[\"query_id\"]}.sparql'\n",
    "\n",
    "        with open(os.path.join(f'data/raw/wdbench/ppaths/{\"nl\" if nl else \"original\"}', filename), 'r') as file:\n",
    "            query = file.read()\n",
    "            if nl:\n",
    "                query = query.split('NL-QUESTION:')[1].strip()\n",
    "                # print(repr(query))\n",
    "            ds_dict['query'].append(query)\n",
    "            ds_dict['query_id'].append(row['query_id'])\n",
    "            ds_dict['label'].append(row['label'])\n",
    "        \n",
    "    final_ds = pd.DataFrame(ds_dict)\n",
    "    return final_ds"
   ]
  },
  {
   "cell_type": "code",
   "execution_count": 20,
   "metadata": {},
   "outputs": [
    {
     "name": "stderr",
     "output_type": "stream",
     "text": [
      "214it [00:00, 9866.89it/s]\n"
     ]
    }
   ],
   "source": [
    "nl_ds = add_query_to_df(ds, nl=True)"
   ]
  },
  {
   "cell_type": "code",
   "execution_count": 21,
   "metadata": {},
   "outputs": [
    {
     "data": {
      "text/html": [
       "<div>\n",
       "<style scoped>\n",
       "    .dataframe tbody tr th:only-of-type {\n",
       "        vertical-align: middle;\n",
       "    }\n",
       "\n",
       "    .dataframe tbody tr th {\n",
       "        vertical-align: top;\n",
       "    }\n",
       "\n",
       "    .dataframe thead th {\n",
       "        text-align: right;\n",
       "    }\n",
       "</style>\n",
       "<table border=\"1\" class=\"dataframe\">\n",
       "  <thead>\n",
       "    <tr style=\"text-align: right;\">\n",
       "      <th></th>\n",
       "      <th>query_id</th>\n",
       "      <th>query</th>\n",
       "      <th>label</th>\n",
       "    </tr>\n",
       "  </thead>\n",
       "  <tbody>\n",
       "    <tr>\n",
       "      <th>0</th>\n",
       "      <td>P180</td>\n",
       "      <td>Which municipal arrondissements are located in...</td>\n",
       "      <td>0</td>\n",
       "    </tr>\n",
       "    <tr>\n",
       "      <th>1</th>\n",
       "      <td>P181</td>\n",
       "      <td>What is the field of occupation of Stéphane Du...</td>\n",
       "      <td>1</td>\n",
       "    </tr>\n",
       "    <tr>\n",
       "      <th>2</th>\n",
       "      <td>P182</td>\n",
       "      <td>Which administrative territorial entities are ...</td>\n",
       "      <td>0</td>\n",
       "    </tr>\n",
       "    <tr>\n",
       "      <th>3</th>\n",
       "      <td>P183</td>\n",
       "      <td>What is the ISO 3166-2 code of the administrat...</td>\n",
       "      <td>0</td>\n",
       "    </tr>\n",
       "    <tr>\n",
       "      <th>4</th>\n",
       "      <td>P184</td>\n",
       "      <td>What is the ISO 3166-2 code of the administrat...</td>\n",
       "      <td>0</td>\n",
       "    </tr>\n",
       "    <tr>\n",
       "      <th>...</th>\n",
       "      <td>...</td>\n",
       "      <td>...</td>\n",
       "      <td>...</td>\n",
       "    </tr>\n",
       "    <tr>\n",
       "      <th>209</th>\n",
       "      <td>P399</td>\n",
       "      <td>Which paintings created by a member of the Roy...</td>\n",
       "      <td>0</td>\n",
       "    </tr>\n",
       "    <tr>\n",
       "      <th>210</th>\n",
       "      <td>P400</td>\n",
       "      <td>What are the locations and types of mountains ...</td>\n",
       "      <td>0</td>\n",
       "    </tr>\n",
       "    <tr>\n",
       "      <th>211</th>\n",
       "      <td>P401</td>\n",
       "      <td>What are the different types of musical instru...</td>\n",
       "      <td>0</td>\n",
       "    </tr>\n",
       "    <tr>\n",
       "      <th>212</th>\n",
       "      <td>P402</td>\n",
       "      <td>In which administrative territorial entities d...</td>\n",
       "      <td>0</td>\n",
       "    </tr>\n",
       "    <tr>\n",
       "      <th>213</th>\n",
       "      <td>P403</td>\n",
       "      <td>What countries are first-level administrative ...</td>\n",
       "      <td>0</td>\n",
       "    </tr>\n",
       "  </tbody>\n",
       "</table>\n",
       "<p>214 rows × 3 columns</p>\n",
       "</div>"
      ],
      "text/plain": [
       "    query_id                                              query  label\n",
       "0       P180  Which municipal arrondissements are located in...      0\n",
       "1       P181  What is the field of occupation of Stéphane Du...      1\n",
       "2       P182  Which administrative territorial entities are ...      0\n",
       "3       P183  What is the ISO 3166-2 code of the administrat...      0\n",
       "4       P184  What is the ISO 3166-2 code of the administrat...      0\n",
       "..       ...                                                ...    ...\n",
       "209     P399  Which paintings created by a member of the Roy...      0\n",
       "210     P400  What are the locations and types of mountains ...      0\n",
       "211     P401  What are the different types of musical instru...      0\n",
       "212     P402  In which administrative territorial entities d...      0\n",
       "213     P403  What countries are first-level administrative ...      0\n",
       "\n",
       "[214 rows x 3 columns]"
      ]
     },
     "execution_count": 21,
     "metadata": {},
     "output_type": "execute_result"
    }
   ],
   "source": [
    "nl_ds"
   ]
  },
  {
   "cell_type": "code",
   "execution_count": 22,
   "metadata": {},
   "outputs": [
    {
     "name": "stderr",
     "output_type": "stream",
     "text": [
      "214it [00:00, 10473.77it/s]\n"
     ]
    }
   ],
   "source": [
    "final_ds = add_query_to_df(ds, nl=False)"
   ]
  },
  {
   "cell_type": "code",
   "execution_count": 23,
   "metadata": {},
   "outputs": [],
   "source": [
    "final_ds['query_len'] = final_ds.apply(lambda x: len(x['query']), axis=1)\n",
    "nl_ds['query_len'] = nl_ds.apply(lambda x: len(x['query']), axis=1)"
   ]
  },
  {
   "cell_type": "code",
   "execution_count": 26,
   "metadata": {},
   "outputs": [
    {
     "data": {
      "text/plain": [
       "214"
      ]
     },
     "execution_count": 26,
     "metadata": {},
     "output_type": "execute_result"
    }
   ],
   "source": [
    "nl_ds['query_len'].max()"
   ]
  },
  {
   "cell_type": "code",
   "execution_count": 48,
   "metadata": {},
   "outputs": [
    {
     "data": {
      "text/plain": [
       "247.07009345794393"
      ]
     },
     "execution_count": 48,
     "metadata": {},
     "output_type": "execute_result"
    }
   ],
   "source": [
    "final_ds['query_len'].mean()"
   ]
  },
  {
   "cell_type": "code",
   "execution_count": 49,
   "metadata": {},
   "outputs": [
    {
     "data": {
      "text/plain": [
       "684"
      ]
     },
     "execution_count": 49,
     "metadata": {},
     "output_type": "execute_result"
    }
   ],
   "source": [
    "final_ds['query_len'].max()"
   ]
  },
  {
   "cell_type": "code",
   "execution_count": 55,
   "metadata": {},
   "outputs": [
    {
     "data": {
      "text/html": [
       "<div>\n",
       "<style scoped>\n",
       "    .dataframe tbody tr th:only-of-type {\n",
       "        vertical-align: middle;\n",
       "    }\n",
       "\n",
       "    .dataframe tbody tr th {\n",
       "        vertical-align: top;\n",
       "    }\n",
       "\n",
       "    .dataframe thead th {\n",
       "        text-align: right;\n",
       "    }\n",
       "</style>\n",
       "<table border=\"1\" class=\"dataframe\">\n",
       "  <thead>\n",
       "    <tr style=\"text-align: right;\">\n",
       "      <th></th>\n",
       "      <th>query_id</th>\n",
       "      <th>query</th>\n",
       "      <th>label</th>\n",
       "      <th>query_len</th>\n",
       "    </tr>\n",
       "  </thead>\n",
       "  <tbody>\n",
       "  </tbody>\n",
       "</table>\n",
       "</div>"
      ],
      "text/plain": [
       "Empty DataFrame\n",
       "Columns: [query_id, query, label, query_len]\n",
       "Index: []"
      ]
     },
     "execution_count": 55,
     "metadata": {},
     "output_type": "execute_result"
    }
   ],
   "source": [
    "nl_ds[nl_ds['query_len'] >= 512]"
   ]
  },
  {
   "cell_type": "code",
   "execution_count": 32,
   "metadata": {},
   "outputs": [
    {
     "data": {
      "text/plain": [
       "'SELECT * WHERE {\\n\\t?x1 <http://www.wikidata.org/prop/direct/P105> ?x2 .\\n\\t?x3 <http://www.wikidata.org/prop/direct/P105> ?x4 .\\n\\t?x1 <http://www.wikidata.org/prop/direct/P171> ?x3 .\\n\\t?x1 <http://www.wikidata.org/prop/direct/P31> <http://www.wikidata.org/entity/Q16521> .\\n\\t?x3 <http://www.wikidata.org/prop/direct/P31> <http://www.wikidata.org/entity/Q16521> .\\n\\t?x2 <http://www.wikidata.org/prop/direct/P31> <http://www.wikidata.org/entity/Q427626> .\\n\\t?x4 <http://www.wikidata.org/prop/direct/P31> <http://www.wikidata.org/entity/Q427626> .\\n\\t?x4 <http://www.wikidata.org/prop/direct/P361> ?x2 .\\n\\t?x1 <http://www.wikidata.org/prop/direct/P171>+ <http://www.wikidata.org/entity/Q130942> .\\n}'"
      ]
     },
     "execution_count": 32,
     "metadata": {},
     "output_type": "execute_result"
    }
   ],
   "source": [
    "final_ds[final_ds['query_len'] > 512].loc[80, 'query']"
   ]
  },
  {
   "cell_type": "code",
   "execution_count": 33,
   "metadata": {},
   "outputs": [
    {
     "data": {
      "text/html": [
       "<div>\n",
       "<style scoped>\n",
       "    .dataframe tbody tr th:only-of-type {\n",
       "        vertical-align: middle;\n",
       "    }\n",
       "\n",
       "    .dataframe tbody tr th {\n",
       "        vertical-align: top;\n",
       "    }\n",
       "\n",
       "    .dataframe thead th {\n",
       "        text-align: right;\n",
       "    }\n",
       "</style>\n",
       "<table border=\"1\" class=\"dataframe\">\n",
       "  <thead>\n",
       "    <tr style=\"text-align: right;\">\n",
       "      <th></th>\n",
       "      <th>query_id</th>\n",
       "      <th>query</th>\n",
       "      <th>label</th>\n",
       "      <th>query_len</th>\n",
       "    </tr>\n",
       "  </thead>\n",
       "  <tbody>\n",
       "    <tr>\n",
       "      <th>0</th>\n",
       "      <td>P180</td>\n",
       "      <td>SELECT * WHERE {\\n\\t?x1 &lt;http://www.wikidata.o...</td>\n",
       "      <td>0</td>\n",
       "      <td>196</td>\n",
       "    </tr>\n",
       "    <tr>\n",
       "      <th>1</th>\n",
       "      <td>P181</td>\n",
       "      <td>SELECT * WHERE {\\n\\t&lt;http://www.wikidata.org/e...</td>\n",
       "      <td>1</td>\n",
       "      <td>223</td>\n",
       "    </tr>\n",
       "    <tr>\n",
       "      <th>2</th>\n",
       "      <td>P182</td>\n",
       "      <td>SELECT * WHERE {\\n\\t?x1 &lt;http://www.wikidata.o...</td>\n",
       "      <td>0</td>\n",
       "      <td>308</td>\n",
       "    </tr>\n",
       "    <tr>\n",
       "      <th>3</th>\n",
       "      <td>P183</td>\n",
       "      <td>SELECT * WHERE {\\n\\t?x1 &lt;http://www.wikidata.o...</td>\n",
       "      <td>0</td>\n",
       "      <td>166</td>\n",
       "    </tr>\n",
       "    <tr>\n",
       "      <th>4</th>\n",
       "      <td>P184</td>\n",
       "      <td>SELECT * WHERE {\\n\\t?x1 &lt;http://www.wikidata.o...</td>\n",
       "      <td>0</td>\n",
       "      <td>164</td>\n",
       "    </tr>\n",
       "    <tr>\n",
       "      <th>...</th>\n",
       "      <td>...</td>\n",
       "      <td>...</td>\n",
       "      <td>...</td>\n",
       "      <td>...</td>\n",
       "    </tr>\n",
       "    <tr>\n",
       "      <th>209</th>\n",
       "      <td>P399</td>\n",
       "      <td>SELECT * WHERE {\\n\\t?x1 &lt;http://www.wikidata.o...</td>\n",
       "      <td>0</td>\n",
       "      <td>456</td>\n",
       "    </tr>\n",
       "    <tr>\n",
       "      <th>210</th>\n",
       "      <td>P400</td>\n",
       "      <td>SELECT * WHERE {\\n\\t?x1 &lt;http://www.wikidata.o...</td>\n",
       "      <td>0</td>\n",
       "      <td>219</td>\n",
       "    </tr>\n",
       "    <tr>\n",
       "      <th>211</th>\n",
       "      <td>P401</td>\n",
       "      <td>SELECT * WHERE {\\n\\t?x1 &lt;http://www.wikidata.o...</td>\n",
       "      <td>0</td>\n",
       "      <td>163</td>\n",
       "    </tr>\n",
       "    <tr>\n",
       "      <th>212</th>\n",
       "      <td>P402</td>\n",
       "      <td>SELECT * WHERE {\\n\\t?x1 &lt;http://www.wikidata.o...</td>\n",
       "      <td>0</td>\n",
       "      <td>164</td>\n",
       "    </tr>\n",
       "    <tr>\n",
       "      <th>213</th>\n",
       "      <td>P403</td>\n",
       "      <td>SELECT * WHERE {\\n\\t?x1 &lt;http://www.wikidata.o...</td>\n",
       "      <td>0</td>\n",
       "      <td>310</td>\n",
       "    </tr>\n",
       "  </tbody>\n",
       "</table>\n",
       "<p>214 rows × 4 columns</p>\n",
       "</div>"
      ],
      "text/plain": [
       "    query_id                                              query  label  \\\n",
       "0       P180  SELECT * WHERE {\\n\\t?x1 <http://www.wikidata.o...      0   \n",
       "1       P181  SELECT * WHERE {\\n\\t<http://www.wikidata.org/e...      1   \n",
       "2       P182  SELECT * WHERE {\\n\\t?x1 <http://www.wikidata.o...      0   \n",
       "3       P183  SELECT * WHERE {\\n\\t?x1 <http://www.wikidata.o...      0   \n",
       "4       P184  SELECT * WHERE {\\n\\t?x1 <http://www.wikidata.o...      0   \n",
       "..       ...                                                ...    ...   \n",
       "209     P399  SELECT * WHERE {\\n\\t?x1 <http://www.wikidata.o...      0   \n",
       "210     P400  SELECT * WHERE {\\n\\t?x1 <http://www.wikidata.o...      0   \n",
       "211     P401  SELECT * WHERE {\\n\\t?x1 <http://www.wikidata.o...      0   \n",
       "212     P402  SELECT * WHERE {\\n\\t?x1 <http://www.wikidata.o...      0   \n",
       "213     P403  SELECT * WHERE {\\n\\t?x1 <http://www.wikidata.o...      0   \n",
       "\n",
       "     query_len  \n",
       "0          196  \n",
       "1          223  \n",
       "2          308  \n",
       "3          166  \n",
       "4          164  \n",
       "..         ...  \n",
       "209        456  \n",
       "210        219  \n",
       "211        163  \n",
       "212        164  \n",
       "213        310  \n",
       "\n",
       "[214 rows x 4 columns]"
      ]
     },
     "execution_count": 33,
     "metadata": {},
     "output_type": "execute_result"
    }
   ],
   "source": [
    "final_ds"
   ]
  },
  {
   "cell_type": "code",
   "execution_count": 29,
   "metadata": {},
   "outputs": [],
   "source": [
    "final_ds[['query_id', 'query', 'label']].to_csv('data/raw/ppaths_join.csv', index=False)"
   ]
  },
  {
   "cell_type": "code",
   "execution_count": 34,
   "metadata": {},
   "outputs": [],
   "source": [
    "nl_ds[['query_id', 'query', 'label']].to_csv('data/raw/ppaths_join_nl_sparql.csv', index=False)"
   ]
  },
  {
   "cell_type": "code",
   "execution_count": 4,
   "metadata": {},
   "outputs": [],
   "source": [
    "join_nl = pd.read_csv('data/raw/ppaths_join_nl.csv')"
   ]
  },
  {
   "cell_type": "code",
   "execution_count": 5,
   "metadata": {},
   "outputs": [],
   "source": [
    "import torch"
   ]
  },
  {
   "cell_type": "code",
   "execution_count": 6,
   "metadata": {},
   "outputs": [],
   "source": [
    "encodings = torch.load('data/processed/ppaths_join/ppaths_join_nl_encoded.pt')"
   ]
  },
  {
   "cell_type": "code",
   "execution_count": 10,
   "metadata": {},
   "outputs": [
    {
     "data": {
      "text/plain": [
       "(214, 214)"
      ]
     },
     "execution_count": 10,
     "metadata": {},
     "output_type": "execute_result"
    }
   ],
   "source": [
    "len(encodings), len(join_nl)"
   ]
  },
  {
   "cell_type": "code",
   "execution_count": 11,
   "metadata": {},
   "outputs": [],
   "source": [
    "join_nl['encoding'] = encodings"
   ]
  },
  {
   "cell_type": "code",
   "execution_count": 12,
   "metadata": {},
   "outputs": [
    {
     "data": {
      "text/html": [
       "<div>\n",
       "<style scoped>\n",
       "    .dataframe tbody tr th:only-of-type {\n",
       "        vertical-align: middle;\n",
       "    }\n",
       "\n",
       "    .dataframe tbody tr th {\n",
       "        vertical-align: top;\n",
       "    }\n",
       "\n",
       "    .dataframe thead th {\n",
       "        text-align: right;\n",
       "    }\n",
       "</style>\n",
       "<table border=\"1\" class=\"dataframe\">\n",
       "  <thead>\n",
       "    <tr style=\"text-align: right;\">\n",
       "      <th></th>\n",
       "      <th>query_id</th>\n",
       "      <th>query</th>\n",
       "      <th>label</th>\n",
       "      <th>encoding</th>\n",
       "    </tr>\n",
       "  </thead>\n",
       "  <tbody>\n",
       "    <tr>\n",
       "      <th>0</th>\n",
       "      <td>P180</td>\n",
       "      <td>Which municipal arrondissements are located in...</td>\n",
       "      <td>0</td>\n",
       "      <td>[tensor(0.0038), tensor(-0.0119), tensor(-0.00...</td>\n",
       "    </tr>\n",
       "    <tr>\n",
       "      <th>1</th>\n",
       "      <td>P181</td>\n",
       "      <td>What is the field of occupation of Stéphane Du...</td>\n",
       "      <td>1</td>\n",
       "      <td>[tensor(-0.0194), tensor(-0.0055), tensor(-0.0...</td>\n",
       "    </tr>\n",
       "    <tr>\n",
       "      <th>2</th>\n",
       "      <td>P182</td>\n",
       "      <td>Which administrative territorial entities are ...</td>\n",
       "      <td>0</td>\n",
       "      <td>[tensor(-0.0324), tensor(0.0054), tensor(0.005...</td>\n",
       "    </tr>\n",
       "    <tr>\n",
       "      <th>3</th>\n",
       "      <td>P183</td>\n",
       "      <td>What is the ISO 3166-2 code of the administrat...</td>\n",
       "      <td>0</td>\n",
       "      <td>[tensor(0.0134), tensor(0.0178), tensor(0.0019...</td>\n",
       "    </tr>\n",
       "    <tr>\n",
       "      <th>4</th>\n",
       "      <td>P184</td>\n",
       "      <td>What is the ISO 3166-2 code of the administrat...</td>\n",
       "      <td>0</td>\n",
       "      <td>[tensor(-0.0121), tensor(0.0084), tensor(0.005...</td>\n",
       "    </tr>\n",
       "    <tr>\n",
       "      <th>...</th>\n",
       "      <td>...</td>\n",
       "      <td>...</td>\n",
       "      <td>...</td>\n",
       "      <td>...</td>\n",
       "    </tr>\n",
       "    <tr>\n",
       "      <th>209</th>\n",
       "      <td>P399</td>\n",
       "      <td>Which paintings created by a member of the Roy...</td>\n",
       "      <td>0</td>\n",
       "      <td>[tensor(-0.0147), tensor(0.0059), tensor(0.002...</td>\n",
       "    </tr>\n",
       "    <tr>\n",
       "      <th>210</th>\n",
       "      <td>P400</td>\n",
       "      <td>What are the locations and types of mountains ...</td>\n",
       "      <td>0</td>\n",
       "      <td>[tensor(-0.0180), tensor(0.0007), tensor(-0.00...</td>\n",
       "    </tr>\n",
       "    <tr>\n",
       "      <th>211</th>\n",
       "      <td>P401</td>\n",
       "      <td>What are the different types of musical instru...</td>\n",
       "      <td>0</td>\n",
       "      <td>[tensor(0.0032), tensor(0.0048), tensor(-0.012...</td>\n",
       "    </tr>\n",
       "    <tr>\n",
       "      <th>212</th>\n",
       "      <td>P402</td>\n",
       "      <td>In which administrative territorial entities d...</td>\n",
       "      <td>0</td>\n",
       "      <td>[tensor(-0.0276), tensor(0.0100), tensor(-0.01...</td>\n",
       "    </tr>\n",
       "    <tr>\n",
       "      <th>213</th>\n",
       "      <td>P403</td>\n",
       "      <td>What countries are first-level administrative ...</td>\n",
       "      <td>0</td>\n",
       "      <td>[tensor(-0.0158), tensor(0.0238), tensor(-0.00...</td>\n",
       "    </tr>\n",
       "  </tbody>\n",
       "</table>\n",
       "<p>214 rows × 4 columns</p>\n",
       "</div>"
      ],
      "text/plain": [
       "    query_id                                              query  label  \\\n",
       "0       P180  Which municipal arrondissements are located in...      0   \n",
       "1       P181  What is the field of occupation of Stéphane Du...      1   \n",
       "2       P182  Which administrative territorial entities are ...      0   \n",
       "3       P183  What is the ISO 3166-2 code of the administrat...      0   \n",
       "4       P184  What is the ISO 3166-2 code of the administrat...      0   \n",
       "..       ...                                                ...    ...   \n",
       "209     P399  Which paintings created by a member of the Roy...      0   \n",
       "210     P400  What are the locations and types of mountains ...      0   \n",
       "211     P401  What are the different types of musical instru...      0   \n",
       "212     P402  In which administrative territorial entities d...      0   \n",
       "213     P403  What countries are first-level administrative ...      0   \n",
       "\n",
       "                                              encoding  \n",
       "0    [tensor(0.0038), tensor(-0.0119), tensor(-0.00...  \n",
       "1    [tensor(-0.0194), tensor(-0.0055), tensor(-0.0...  \n",
       "2    [tensor(-0.0324), tensor(0.0054), tensor(0.005...  \n",
       "3    [tensor(0.0134), tensor(0.0178), tensor(0.0019...  \n",
       "4    [tensor(-0.0121), tensor(0.0084), tensor(0.005...  \n",
       "..                                                 ...  \n",
       "209  [tensor(-0.0147), tensor(0.0059), tensor(0.002...  \n",
       "210  [tensor(-0.0180), tensor(0.0007), tensor(-0.00...  \n",
       "211  [tensor(0.0032), tensor(0.0048), tensor(-0.012...  \n",
       "212  [tensor(-0.0276), tensor(0.0100), tensor(-0.01...  \n",
       "213  [tensor(-0.0158), tensor(0.0238), tensor(-0.00...  \n",
       "\n",
       "[214 rows x 4 columns]"
      ]
     },
     "execution_count": 12,
     "metadata": {},
     "output_type": "execute_result"
    }
   ],
   "source": [
    "join_nl"
   ]
  },
  {
   "cell_type": "code",
   "execution_count": 13,
   "metadata": {},
   "outputs": [
    {
     "data": {
      "text/plain": [
       "torch.Tensor"
      ]
     },
     "execution_count": 13,
     "metadata": {},
     "output_type": "execute_result"
    }
   ],
   "source": [
    "type(join_nl.iloc[0]['encoding'])"
   ]
  },
  {
   "cell_type": "code",
   "execution_count": 14,
   "metadata": {},
   "outputs": [],
   "source": [
    "join_nl.to_csv('data/processed/ppaths_join/ppaths_join_nl_encoded.csv', index=False)"
   ]
  },
  {
   "cell_type": "code",
   "execution_count": 15,
   "metadata": {},
   "outputs": [
    {
     "data": {
      "text/plain": [
       "4096"
      ]
     },
     "execution_count": 15,
     "metadata": {},
     "output_type": "execute_result"
    }
   ],
   "source": [
    "len(encodings[0])"
   ]
  },
  {
   "cell_type": "code",
   "execution_count": 16,
   "metadata": {},
   "outputs": [],
   "source": [
    "asdf = pd.read_csv('data/processed/wdbench/wdbench_nl_encoded.csv')"
   ]
  },
  {
   "cell_type": "code",
   "execution_count": 18,
   "metadata": {},
   "outputs": [
    {
     "data": {
      "text/plain": [
       "<bound method NDFrame.head of       query_id                                              query  \\\n",
       "0            1  What information is available about the movie ...   \n",
       "1            2  What are the family name, date of birth, place...   \n",
       "2            3  What are the dates of birth, places of birth, ...   \n",
       "3            4  Which painters have a father who is also a pai...   \n",
       "4            5  What are the male ski jumpers from Poland and ...   \n",
       "...        ...                                                ...   \n",
       "2653       677  What are the coordinates of airports located i...   \n",
       "2654       678  What is the image, spouse, and date of birth o...   \n",
       "2655       679          Which humans have published in something?   \n",
       "2656       680            What films are instances of Ari Folman?   \n",
       "2657       681         What is the library's coordinate location?   \n",
       "\n",
       "         query_type  label                                           encoding  \n",
       "0              opts     -1  tensor([-0.0022,  0.0454,  0.0139,  ...,  0.00...  \n",
       "1              opts     -1  tensor([-0.0191,  0.0182, -0.0105,  ...,  0.01...  \n",
       "2              opts     -1  tensor([-0.0073,  0.0138, -0.0135,  ..., -0.01...  \n",
       "3              opts     -1  tensor([-0.0227, -0.0154,  0.0055,  ...,  0.00...  \n",
       "4              opts     -1  tensor([-0.0159,  0.0058, -0.0372,  ..., -0.01...  \n",
       "...             ...    ...                                                ...  \n",
       "2653  multiple_bgps     -1  tensor([-0.0076, -0.0131, -0.0109,  ..., -0.02...  \n",
       "2654  multiple_bgps     -1  tensor([-0.0444, -0.0048, -0.0153,  ..., -0.01...  \n",
       "2655  multiple_bgps     -1  tensor([-0.0298, -0.0123, -0.0038,  ..., -0.00...  \n",
       "2656  multiple_bgps     -1  tensor([-0.0359,  0.0091, -0.0108,  ..., -0.00...  \n",
       "2657  multiple_bgps     -1  tensor([-0.0092, -0.0101, -0.0067,  ..., -0.02...  \n",
       "\n",
       "[2658 rows x 5 columns]>"
      ]
     },
     "execution_count": 18,
     "metadata": {},
     "output_type": "execute_result"
    }
   ],
   "source": [
    "asdf.head"
   ]
  },
  {
   "cell_type": "code",
   "execution_count": 22,
   "metadata": {},
   "outputs": [
    {
     "data": {
      "text/plain": [
       "'tensor([-0.0022,  0.0454,  0.0139,  ...,  0.0002, -0.0323,  0.0227])'"
      ]
     },
     "execution_count": 22,
     "metadata": {},
     "output_type": "execute_result"
    }
   ],
   "source": [
    "asdf.iloc[0]['encoding']"
   ]
  },
  {
   "cell_type": "code",
   "execution_count": 23,
   "metadata": {},
   "outputs": [],
   "source": [
    "wdbench_encodings = torch.load('data/processed/wdbench/wdbench_nl_encoding.pt')"
   ]
  },
  {
   "cell_type": "code",
   "execution_count": 24,
   "metadata": {},
   "outputs": [
    {
     "data": {
      "text/plain": [
       "tensor([-0.0022,  0.0454,  0.0139,  ...,  0.0002, -0.0323,  0.0227])"
      ]
     },
     "execution_count": 24,
     "metadata": {},
     "output_type": "execute_result"
    }
   ],
   "source": [
    "wdbench_encodings[0]"
   ]
  },
  {
   "cell_type": "code",
   "execution_count": 25,
   "metadata": {},
   "outputs": [],
   "source": [
    "asdf['encoding'] = wdbench_encodings"
   ]
  },
  {
   "cell_type": "code",
   "execution_count": 26,
   "metadata": {},
   "outputs": [
    {
     "data": {
      "text/plain": [
       "tensor([-0.0022,  0.0454,  0.0139,  ...,  0.0002, -0.0323,  0.0227])"
      ]
     },
     "execution_count": 26,
     "metadata": {},
     "output_type": "execute_result"
    }
   ],
   "source": [
    "asdf.iloc[0]['encoding']"
   ]
  },
  {
   "cell_type": "code",
   "execution_count": 27,
   "metadata": {},
   "outputs": [],
   "source": [
    "asdf.to_csv('data/processed/wdbench/wdbench_nl_encoded.csv', index=False)"
   ]
  },
  {
   "cell_type": "code",
   "execution_count": 28,
   "metadata": {},
   "outputs": [
    {
     "ename": "RuntimeError",
     "evalue": "Boolean value of Tensor with more than one value is ambiguous",
     "output_type": "error",
     "traceback": [
      "\u001b[0;31m---------------------------------------------------------------------------\u001b[0m",
      "\u001b[0;31mRuntimeError\u001b[0m                              Traceback (most recent call last)",
      "Cell \u001b[0;32mIn[28], line 1\u001b[0m\n\u001b[0;32m----> 1\u001b[0m \u001b[43masdf\u001b[49m\u001b[43m[\u001b[49m\u001b[38;5;124;43m'\u001b[39;49m\u001b[38;5;124;43mencoding\u001b[39;49m\u001b[38;5;124;43m'\u001b[39;49m\u001b[43m]\u001b[49m\u001b[38;5;241;43m.\u001b[39;49m\u001b[43mmax\u001b[49m\u001b[43m(\u001b[49m\u001b[43m)\u001b[49m\n",
      "File \u001b[0;32m~/repos/study/mt/mt_rdf/env/lib/python3.9/site-packages/pandas/core/series.py:6189\u001b[0m, in \u001b[0;36mSeries.max\u001b[0;34m(self, axis, skipna, numeric_only, **kwargs)\u001b[0m\n\u001b[1;32m   6181\u001b[0m \u001b[38;5;129m@doc\u001b[39m(make_doc(\u001b[38;5;124m\"\u001b[39m\u001b[38;5;124mmax\u001b[39m\u001b[38;5;124m\"\u001b[39m, ndim\u001b[38;5;241m=\u001b[39m\u001b[38;5;241m1\u001b[39m))\n\u001b[1;32m   6182\u001b[0m \u001b[38;5;28;01mdef\u001b[39;00m \u001b[38;5;21mmax\u001b[39m(\n\u001b[1;32m   6183\u001b[0m     \u001b[38;5;28mself\u001b[39m,\n\u001b[0;32m   (...)\u001b[0m\n\u001b[1;32m   6187\u001b[0m     \u001b[38;5;241m*\u001b[39m\u001b[38;5;241m*\u001b[39mkwargs,\n\u001b[1;32m   6188\u001b[0m ):\n\u001b[0;32m-> 6189\u001b[0m     \u001b[38;5;28;01mreturn\u001b[39;00m \u001b[43mNDFrame\u001b[49m\u001b[38;5;241;43m.\u001b[39;49m\u001b[43mmax\u001b[49m\u001b[43m(\u001b[49m\u001b[38;5;28;43mself\u001b[39;49m\u001b[43m,\u001b[49m\u001b[43m \u001b[49m\u001b[43maxis\u001b[49m\u001b[43m,\u001b[49m\u001b[43m \u001b[49m\u001b[43mskipna\u001b[49m\u001b[43m,\u001b[49m\u001b[43m \u001b[49m\u001b[43mnumeric_only\u001b[49m\u001b[43m,\u001b[49m\u001b[43m \u001b[49m\u001b[38;5;241;43m*\u001b[39;49m\u001b[38;5;241;43m*\u001b[39;49m\u001b[43mkwargs\u001b[49m\u001b[43m)\u001b[49m\n",
      "File \u001b[0;32m~/repos/study/mt/mt_rdf/env/lib/python3.9/site-packages/pandas/core/generic.py:11962\u001b[0m, in \u001b[0;36mNDFrame.max\u001b[0;34m(self, axis, skipna, numeric_only, **kwargs)\u001b[0m\n\u001b[1;32m  11955\u001b[0m \u001b[38;5;28;01mdef\u001b[39;00m \u001b[38;5;21mmax\u001b[39m(\n\u001b[1;32m  11956\u001b[0m     \u001b[38;5;28mself\u001b[39m,\n\u001b[1;32m  11957\u001b[0m     axis: Axis \u001b[38;5;241m|\u001b[39m \u001b[38;5;28;01mNone\u001b[39;00m \u001b[38;5;241m=\u001b[39m \u001b[38;5;241m0\u001b[39m,\n\u001b[0;32m   (...)\u001b[0m\n\u001b[1;32m  11960\u001b[0m     \u001b[38;5;241m*\u001b[39m\u001b[38;5;241m*\u001b[39mkwargs,\n\u001b[1;32m  11961\u001b[0m ):\n\u001b[0;32m> 11962\u001b[0m     \u001b[38;5;28;01mreturn\u001b[39;00m \u001b[38;5;28;43mself\u001b[39;49m\u001b[38;5;241;43m.\u001b[39;49m\u001b[43m_stat_function\u001b[49m\u001b[43m(\u001b[49m\n\u001b[1;32m  11963\u001b[0m \u001b[43m        \u001b[49m\u001b[38;5;124;43m\"\u001b[39;49m\u001b[38;5;124;43mmax\u001b[39;49m\u001b[38;5;124;43m\"\u001b[39;49m\u001b[43m,\u001b[49m\n\u001b[1;32m  11964\u001b[0m \u001b[43m        \u001b[49m\u001b[43mnanops\u001b[49m\u001b[38;5;241;43m.\u001b[39;49m\u001b[43mnanmax\u001b[49m\u001b[43m,\u001b[49m\n\u001b[1;32m  11965\u001b[0m \u001b[43m        \u001b[49m\u001b[43maxis\u001b[49m\u001b[43m,\u001b[49m\n\u001b[1;32m  11966\u001b[0m \u001b[43m        \u001b[49m\u001b[43mskipna\u001b[49m\u001b[43m,\u001b[49m\n\u001b[1;32m  11967\u001b[0m \u001b[43m        \u001b[49m\u001b[43mnumeric_only\u001b[49m\u001b[43m,\u001b[49m\n\u001b[1;32m  11968\u001b[0m \u001b[43m        \u001b[49m\u001b[38;5;241;43m*\u001b[39;49m\u001b[38;5;241;43m*\u001b[39;49m\u001b[43mkwargs\u001b[49m\u001b[43m,\u001b[49m\n\u001b[1;32m  11969\u001b[0m \u001b[43m    \u001b[49m\u001b[43m)\u001b[49m\n",
      "File \u001b[0;32m~/repos/study/mt/mt_rdf/env/lib/python3.9/site-packages/pandas/core/generic.py:11935\u001b[0m, in \u001b[0;36mNDFrame._stat_function\u001b[0;34m(self, name, func, axis, skipna, numeric_only, **kwargs)\u001b[0m\n\u001b[1;32m  11931\u001b[0m nv\u001b[38;5;241m.\u001b[39mvalidate_func(name, (), kwargs)\n\u001b[1;32m  11933\u001b[0m validate_bool_kwarg(skipna, \u001b[38;5;124m\"\u001b[39m\u001b[38;5;124mskipna\u001b[39m\u001b[38;5;124m\"\u001b[39m, none_allowed\u001b[38;5;241m=\u001b[39m\u001b[38;5;28;01mFalse\u001b[39;00m)\n\u001b[0;32m> 11935\u001b[0m \u001b[38;5;28;01mreturn\u001b[39;00m \u001b[38;5;28;43mself\u001b[39;49m\u001b[38;5;241;43m.\u001b[39;49m\u001b[43m_reduce\u001b[49m\u001b[43m(\u001b[49m\n\u001b[1;32m  11936\u001b[0m \u001b[43m    \u001b[49m\u001b[43mfunc\u001b[49m\u001b[43m,\u001b[49m\u001b[43m \u001b[49m\u001b[43mname\u001b[49m\u001b[38;5;241;43m=\u001b[39;49m\u001b[43mname\u001b[49m\u001b[43m,\u001b[49m\u001b[43m \u001b[49m\u001b[43maxis\u001b[49m\u001b[38;5;241;43m=\u001b[39;49m\u001b[43maxis\u001b[49m\u001b[43m,\u001b[49m\u001b[43m \u001b[49m\u001b[43mskipna\u001b[49m\u001b[38;5;241;43m=\u001b[39;49m\u001b[43mskipna\u001b[49m\u001b[43m,\u001b[49m\u001b[43m \u001b[49m\u001b[43mnumeric_only\u001b[49m\u001b[38;5;241;43m=\u001b[39;49m\u001b[43mnumeric_only\u001b[49m\n\u001b[1;32m  11937\u001b[0m \u001b[43m\u001b[49m\u001b[43m)\u001b[49m\n",
      "File \u001b[0;32m~/repos/study/mt/mt_rdf/env/lib/python3.9/site-packages/pandas/core/series.py:6129\u001b[0m, in \u001b[0;36mSeries._reduce\u001b[0;34m(self, op, name, axis, skipna, numeric_only, filter_type, **kwds)\u001b[0m\n\u001b[1;32m   6124\u001b[0m     \u001b[38;5;66;03m# GH#47500 - change to TypeError to match other methods\u001b[39;00m\n\u001b[1;32m   6125\u001b[0m     \u001b[38;5;28;01mraise\u001b[39;00m \u001b[38;5;167;01mTypeError\u001b[39;00m(\n\u001b[1;32m   6126\u001b[0m         \u001b[38;5;124mf\u001b[39m\u001b[38;5;124m\"\u001b[39m\u001b[38;5;124mSeries.\u001b[39m\u001b[38;5;132;01m{\u001b[39;00mname\u001b[38;5;132;01m}\u001b[39;00m\u001b[38;5;124m does not allow \u001b[39m\u001b[38;5;132;01m{\u001b[39;00mkwd_name\u001b[38;5;132;01m}\u001b[39;00m\u001b[38;5;124m=\u001b[39m\u001b[38;5;132;01m{\u001b[39;00mnumeric_only\u001b[38;5;132;01m}\u001b[39;00m\u001b[38;5;124m \u001b[39m\u001b[38;5;124m\"\u001b[39m\n\u001b[1;32m   6127\u001b[0m         \u001b[38;5;124m\"\u001b[39m\u001b[38;5;124mwith non-numeric dtypes.\u001b[39m\u001b[38;5;124m\"\u001b[39m\n\u001b[1;32m   6128\u001b[0m     )\n\u001b[0;32m-> 6129\u001b[0m \u001b[38;5;28;01mreturn\u001b[39;00m \u001b[43mop\u001b[49m\u001b[43m(\u001b[49m\u001b[43mdelegate\u001b[49m\u001b[43m,\u001b[49m\u001b[43m \u001b[49m\u001b[43mskipna\u001b[49m\u001b[38;5;241;43m=\u001b[39;49m\u001b[43mskipna\u001b[49m\u001b[43m,\u001b[49m\u001b[43m \u001b[49m\u001b[38;5;241;43m*\u001b[39;49m\u001b[38;5;241;43m*\u001b[39;49m\u001b[43mkwds\u001b[49m\u001b[43m)\u001b[49m\n",
      "File \u001b[0;32m~/repos/study/mt/mt_rdf/env/lib/python3.9/site-packages/pandas/core/nanops.py:147\u001b[0m, in \u001b[0;36mbottleneck_switch.__call__.<locals>.f\u001b[0;34m(values, axis, skipna, **kwds)\u001b[0m\n\u001b[1;32m    145\u001b[0m         result \u001b[38;5;241m=\u001b[39m alt(values, axis\u001b[38;5;241m=\u001b[39maxis, skipna\u001b[38;5;241m=\u001b[39mskipna, \u001b[38;5;241m*\u001b[39m\u001b[38;5;241m*\u001b[39mkwds)\n\u001b[1;32m    146\u001b[0m \u001b[38;5;28;01melse\u001b[39;00m:\n\u001b[0;32m--> 147\u001b[0m     result \u001b[38;5;241m=\u001b[39m \u001b[43malt\u001b[49m\u001b[43m(\u001b[49m\u001b[43mvalues\u001b[49m\u001b[43m,\u001b[49m\u001b[43m \u001b[49m\u001b[43maxis\u001b[49m\u001b[38;5;241;43m=\u001b[39;49m\u001b[43maxis\u001b[49m\u001b[43m,\u001b[49m\u001b[43m \u001b[49m\u001b[43mskipna\u001b[49m\u001b[38;5;241;43m=\u001b[39;49m\u001b[43mskipna\u001b[49m\u001b[43m,\u001b[49m\u001b[43m \u001b[49m\u001b[38;5;241;43m*\u001b[39;49m\u001b[38;5;241;43m*\u001b[39;49m\u001b[43mkwds\u001b[49m\u001b[43m)\u001b[49m\n\u001b[1;32m    149\u001b[0m \u001b[38;5;28;01mreturn\u001b[39;00m result\n",
      "File \u001b[0;32m~/repos/study/mt/mt_rdf/env/lib/python3.9/site-packages/pandas/core/nanops.py:404\u001b[0m, in \u001b[0;36m_datetimelike_compat.<locals>.new_func\u001b[0;34m(values, axis, skipna, mask, **kwargs)\u001b[0m\n\u001b[1;32m    401\u001b[0m \u001b[38;5;28;01mif\u001b[39;00m datetimelike \u001b[38;5;129;01mand\u001b[39;00m mask \u001b[38;5;129;01mis\u001b[39;00m \u001b[38;5;28;01mNone\u001b[39;00m:\n\u001b[1;32m    402\u001b[0m     mask \u001b[38;5;241m=\u001b[39m isna(values)\n\u001b[0;32m--> 404\u001b[0m result \u001b[38;5;241m=\u001b[39m \u001b[43mfunc\u001b[49m\u001b[43m(\u001b[49m\u001b[43mvalues\u001b[49m\u001b[43m,\u001b[49m\u001b[43m \u001b[49m\u001b[43maxis\u001b[49m\u001b[38;5;241;43m=\u001b[39;49m\u001b[43maxis\u001b[49m\u001b[43m,\u001b[49m\u001b[43m \u001b[49m\u001b[43mskipna\u001b[49m\u001b[38;5;241;43m=\u001b[39;49m\u001b[43mskipna\u001b[49m\u001b[43m,\u001b[49m\u001b[43m \u001b[49m\u001b[43mmask\u001b[49m\u001b[38;5;241;43m=\u001b[39;49m\u001b[43mmask\u001b[49m\u001b[43m,\u001b[49m\u001b[43m \u001b[49m\u001b[38;5;241;43m*\u001b[39;49m\u001b[38;5;241;43m*\u001b[39;49m\u001b[43mkwargs\u001b[49m\u001b[43m)\u001b[49m\n\u001b[1;32m    406\u001b[0m \u001b[38;5;28;01mif\u001b[39;00m datetimelike:\n\u001b[1;32m    407\u001b[0m     result \u001b[38;5;241m=\u001b[39m _wrap_results(result, orig_values\u001b[38;5;241m.\u001b[39mdtype, fill_value\u001b[38;5;241m=\u001b[39miNaT)\n",
      "File \u001b[0;32m~/repos/study/mt/mt_rdf/env/lib/python3.9/site-packages/pandas/core/nanops.py:1092\u001b[0m, in \u001b[0;36m_nanminmax.<locals>.reduction\u001b[0;34m(values, axis, skipna, mask)\u001b[0m\n\u001b[1;32m   1087\u001b[0m     \u001b[38;5;28;01mreturn\u001b[39;00m _na_for_min_count(values, axis)\n\u001b[1;32m   1089\u001b[0m values, mask \u001b[38;5;241m=\u001b[39m _get_values(\n\u001b[1;32m   1090\u001b[0m     values, skipna, fill_value_typ\u001b[38;5;241m=\u001b[39mfill_value_typ, mask\u001b[38;5;241m=\u001b[39mmask\n\u001b[1;32m   1091\u001b[0m )\n\u001b[0;32m-> 1092\u001b[0m result \u001b[38;5;241m=\u001b[39m \u001b[38;5;28;43mgetattr\u001b[39;49m\u001b[43m(\u001b[49m\u001b[43mvalues\u001b[49m\u001b[43m,\u001b[49m\u001b[43m \u001b[49m\u001b[43mmeth\u001b[49m\u001b[43m)\u001b[49m\u001b[43m(\u001b[49m\u001b[43maxis\u001b[49m\u001b[43m)\u001b[49m\n\u001b[1;32m   1093\u001b[0m result \u001b[38;5;241m=\u001b[39m _maybe_null_out(result, axis, mask, values\u001b[38;5;241m.\u001b[39mshape)\n\u001b[1;32m   1094\u001b[0m \u001b[38;5;28;01mreturn\u001b[39;00m result\n",
      "File \u001b[0;32m~/repos/study/mt/mt_rdf/env/lib/python3.9/site-packages/numpy/core/_methods.py:41\u001b[0m, in \u001b[0;36m_amax\u001b[0;34m(a, axis, out, keepdims, initial, where)\u001b[0m\n\u001b[1;32m     39\u001b[0m \u001b[38;5;28;01mdef\u001b[39;00m \u001b[38;5;21m_amax\u001b[39m(a, axis\u001b[38;5;241m=\u001b[39m\u001b[38;5;28;01mNone\u001b[39;00m, out\u001b[38;5;241m=\u001b[39m\u001b[38;5;28;01mNone\u001b[39;00m, keepdims\u001b[38;5;241m=\u001b[39m\u001b[38;5;28;01mFalse\u001b[39;00m,\n\u001b[1;32m     40\u001b[0m           initial\u001b[38;5;241m=\u001b[39m_NoValue, where\u001b[38;5;241m=\u001b[39m\u001b[38;5;28;01mTrue\u001b[39;00m):\n\u001b[0;32m---> 41\u001b[0m     \u001b[38;5;28;01mreturn\u001b[39;00m \u001b[43mumr_maximum\u001b[49m\u001b[43m(\u001b[49m\u001b[43ma\u001b[49m\u001b[43m,\u001b[49m\u001b[43m \u001b[49m\u001b[43maxis\u001b[49m\u001b[43m,\u001b[49m\u001b[43m \u001b[49m\u001b[38;5;28;43;01mNone\u001b[39;49;00m\u001b[43m,\u001b[49m\u001b[43m \u001b[49m\u001b[43mout\u001b[49m\u001b[43m,\u001b[49m\u001b[43m \u001b[49m\u001b[43mkeepdims\u001b[49m\u001b[43m,\u001b[49m\u001b[43m \u001b[49m\u001b[43minitial\u001b[49m\u001b[43m,\u001b[49m\u001b[43m \u001b[49m\u001b[43mwhere\u001b[49m\u001b[43m)\u001b[49m\n",
      "\u001b[0;31mRuntimeError\u001b[0m: Boolean value of Tensor with more than one value is ambiguous"
     ]
    }
   ],
   "source": [
    "asdf['encoding'].max()"
   ]
  },
  {
   "cell_type": "code",
   "execution_count": 29,
   "metadata": {},
   "outputs": [],
   "source": [
    "asdf['query_len'] = asdf.apply(lambda x: len(x['query']), axis=1)"
   ]
  },
  {
   "cell_type": "code",
   "execution_count": 30,
   "metadata": {},
   "outputs": [
    {
     "data": {
      "text/plain": [
       "294"
      ]
     },
     "execution_count": 30,
     "metadata": {},
     "output_type": "execute_result"
    }
   ],
   "source": [
    "asdf['query_len'].max()"
   ]
  },
  {
   "cell_type": "code",
   "execution_count": 32,
   "metadata": {},
   "outputs": [],
   "source": [
    "join_nl['query_len'] = join_nl.apply(lambda x: len(x['query']), axis=1)"
   ]
  },
  {
   "cell_type": "code",
   "execution_count": 33,
   "metadata": {},
   "outputs": [
    {
     "data": {
      "text/plain": [
       "214"
      ]
     },
     "execution_count": 33,
     "metadata": {},
     "output_type": "execute_result"
    }
   ],
   "source": [
    "join_nl['query_len'].max()"
   ]
  },
  {
   "cell_type": "code",
   "execution_count": 34,
   "metadata": {},
   "outputs": [
    {
     "data": {
      "text/html": [
       "<div>\n",
       "<style scoped>\n",
       "    .dataframe tbody tr th:only-of-type {\n",
       "        vertical-align: middle;\n",
       "    }\n",
       "\n",
       "    .dataframe tbody tr th {\n",
       "        vertical-align: top;\n",
       "    }\n",
       "\n",
       "    .dataframe thead th {\n",
       "        text-align: right;\n",
       "    }\n",
       "</style>\n",
       "<table border=\"1\" class=\"dataframe\">\n",
       "  <thead>\n",
       "    <tr style=\"text-align: right;\">\n",
       "      <th></th>\n",
       "      <th>query_id</th>\n",
       "      <th>query</th>\n",
       "      <th>query_type</th>\n",
       "      <th>label</th>\n",
       "      <th>encoding</th>\n",
       "      <th>query_len</th>\n",
       "    </tr>\n",
       "  </thead>\n",
       "  <tbody>\n",
       "    <tr>\n",
       "      <th>0</th>\n",
       "      <td>1</td>\n",
       "      <td>What information is available about the movie ...</td>\n",
       "      <td>opts</td>\n",
       "      <td>-1</td>\n",
       "      <td>[tensor(-0.0022), tensor(0.0454), tensor(0.013...</td>\n",
       "      <td>107</td>\n",
       "    </tr>\n",
       "    <tr>\n",
       "      <th>1</th>\n",
       "      <td>2</td>\n",
       "      <td>What are the family name, date of birth, place...</td>\n",
       "      <td>opts</td>\n",
       "      <td>-1</td>\n",
       "      <td>[tensor(-0.0191), tensor(0.0182), tensor(-0.01...</td>\n",
       "      <td>128</td>\n",
       "    </tr>\n",
       "    <tr>\n",
       "      <th>2</th>\n",
       "      <td>3</td>\n",
       "      <td>What are the dates of birth, places of birth, ...</td>\n",
       "      <td>opts</td>\n",
       "      <td>-1</td>\n",
       "      <td>[tensor(-0.0073), tensor(0.0138), tensor(-0.01...</td>\n",
       "      <td>158</td>\n",
       "    </tr>\n",
       "    <tr>\n",
       "      <th>3</th>\n",
       "      <td>4</td>\n",
       "      <td>Which painters have a father who is also a pai...</td>\n",
       "      <td>opts</td>\n",
       "      <td>-1</td>\n",
       "      <td>[tensor(-0.0227), tensor(-0.0154), tensor(0.00...</td>\n",
       "      <td>107</td>\n",
       "    </tr>\n",
       "    <tr>\n",
       "      <th>4</th>\n",
       "      <td>5</td>\n",
       "      <td>What are the male ski jumpers from Poland and ...</td>\n",
       "      <td>opts</td>\n",
       "      <td>-1</td>\n",
       "      <td>[tensor(-0.0159), tensor(0.0058), tensor(-0.03...</td>\n",
       "      <td>73</td>\n",
       "    </tr>\n",
       "    <tr>\n",
       "      <th>...</th>\n",
       "      <td>...</td>\n",
       "      <td>...</td>\n",
       "      <td>...</td>\n",
       "      <td>...</td>\n",
       "      <td>...</td>\n",
       "      <td>...</td>\n",
       "    </tr>\n",
       "    <tr>\n",
       "      <th>2653</th>\n",
       "      <td>677</td>\n",
       "      <td>What are the coordinates of airports located i...</td>\n",
       "      <td>multiple_bgps</td>\n",
       "      <td>-1</td>\n",
       "      <td>[tensor(-0.0076), tensor(-0.0131), tensor(-0.0...</td>\n",
       "      <td>56</td>\n",
       "    </tr>\n",
       "    <tr>\n",
       "      <th>2654</th>\n",
       "      <td>678</td>\n",
       "      <td>What is the image, spouse, and date of birth o...</td>\n",
       "      <td>multiple_bgps</td>\n",
       "      <td>-1</td>\n",
       "      <td>[tensor(-0.0444), tensor(-0.0048), tensor(-0.0...</td>\n",
       "      <td>76</td>\n",
       "    </tr>\n",
       "    <tr>\n",
       "      <th>2655</th>\n",
       "      <td>679</td>\n",
       "      <td>Which humans have published in something?</td>\n",
       "      <td>multiple_bgps</td>\n",
       "      <td>-1</td>\n",
       "      <td>[tensor(-0.0298), tensor(-0.0123), tensor(-0.0...</td>\n",
       "      <td>41</td>\n",
       "    </tr>\n",
       "    <tr>\n",
       "      <th>2656</th>\n",
       "      <td>680</td>\n",
       "      <td>What films are instances of Ari Folman?</td>\n",
       "      <td>multiple_bgps</td>\n",
       "      <td>-1</td>\n",
       "      <td>[tensor(-0.0359), tensor(0.0091), tensor(-0.01...</td>\n",
       "      <td>39</td>\n",
       "    </tr>\n",
       "    <tr>\n",
       "      <th>2657</th>\n",
       "      <td>681</td>\n",
       "      <td>What is the library's coordinate location?</td>\n",
       "      <td>multiple_bgps</td>\n",
       "      <td>-1</td>\n",
       "      <td>[tensor(-0.0092), tensor(-0.0101), tensor(-0.0...</td>\n",
       "      <td>42</td>\n",
       "    </tr>\n",
       "  </tbody>\n",
       "</table>\n",
       "<p>2658 rows × 6 columns</p>\n",
       "</div>"
      ],
      "text/plain": [
       "      query_id                                              query  \\\n",
       "0            1  What information is available about the movie ...   \n",
       "1            2  What are the family name, date of birth, place...   \n",
       "2            3  What are the dates of birth, places of birth, ...   \n",
       "3            4  Which painters have a father who is also a pai...   \n",
       "4            5  What are the male ski jumpers from Poland and ...   \n",
       "...        ...                                                ...   \n",
       "2653       677  What are the coordinates of airports located i...   \n",
       "2654       678  What is the image, spouse, and date of birth o...   \n",
       "2655       679          Which humans have published in something?   \n",
       "2656       680            What films are instances of Ari Folman?   \n",
       "2657       681         What is the library's coordinate location?   \n",
       "\n",
       "         query_type  label                                           encoding  \\\n",
       "0              opts     -1  [tensor(-0.0022), tensor(0.0454), tensor(0.013...   \n",
       "1              opts     -1  [tensor(-0.0191), tensor(0.0182), tensor(-0.01...   \n",
       "2              opts     -1  [tensor(-0.0073), tensor(0.0138), tensor(-0.01...   \n",
       "3              opts     -1  [tensor(-0.0227), tensor(-0.0154), tensor(0.00...   \n",
       "4              opts     -1  [tensor(-0.0159), tensor(0.0058), tensor(-0.03...   \n",
       "...             ...    ...                                                ...   \n",
       "2653  multiple_bgps     -1  [tensor(-0.0076), tensor(-0.0131), tensor(-0.0...   \n",
       "2654  multiple_bgps     -1  [tensor(-0.0444), tensor(-0.0048), tensor(-0.0...   \n",
       "2655  multiple_bgps     -1  [tensor(-0.0298), tensor(-0.0123), tensor(-0.0...   \n",
       "2656  multiple_bgps     -1  [tensor(-0.0359), tensor(0.0091), tensor(-0.01...   \n",
       "2657  multiple_bgps     -1  [tensor(-0.0092), tensor(-0.0101), tensor(-0.0...   \n",
       "\n",
       "      query_len  \n",
       "0           107  \n",
       "1           128  \n",
       "2           158  \n",
       "3           107  \n",
       "4            73  \n",
       "...         ...  \n",
       "2653         56  \n",
       "2654         76  \n",
       "2655         41  \n",
       "2656         39  \n",
       "2657         42  \n",
       "\n",
       "[2658 rows x 6 columns]"
      ]
     },
     "execution_count": 34,
     "metadata": {},
     "output_type": "execute_result"
    }
   ],
   "source": [
    "asdf"
   ]
  },
  {
   "cell_type": "code",
   "execution_count": 4,
   "metadata": {},
   "outputs": [
    {
     "ename": "NameError",
     "evalue": "name 'pd' is not defined",
     "output_type": "error",
     "traceback": [
      "\u001b[0;31m---------------------------------------------------------------------------\u001b[0m",
      "\u001b[0;31mNameError\u001b[0m                                 Traceback (most recent call last)",
      "Cell \u001b[0;32mIn[4], line 1\u001b[0m\n\u001b[0;32m----> 1\u001b[0m qwerty \u001b[38;5;241m=\u001b[39m \u001b[43mpd\u001b[49m\u001b[38;5;241m.\u001b[39mread_csv(\u001b[38;5;124m'\u001b[39m\u001b[38;5;124mdata/processed/wdbench/wdbench_nl_encoded.csv\u001b[39m\u001b[38;5;124m'\u001b[39m)\n",
      "\u001b[0;31mNameError\u001b[0m: name 'pd' is not defined"
     ]
    }
   ],
   "source": [
    "qwerty = pd.read_csv('data/processed/wdbench/wdbench_nl_encoded.csv')"
   ]
  },
  {
   "cell_type": "code",
   "execution_count": 37,
   "metadata": {},
   "outputs": [
    {
     "data": {
      "text/plain": [
       "'tensor([-0.0022,  0.0454,  0.0139,  ...,  0.0002, -0.0323,  0.0227])'"
      ]
     },
     "execution_count": 37,
     "metadata": {},
     "output_type": "execute_result"
    }
   ],
   "source": [
    "qwerty.iloc[0]['encoding']"
   ]
  },
  {
   "cell_type": "code",
   "execution_count": 2,
   "metadata": {},
   "outputs": [],
   "source": [
    "import torch"
   ]
  },
  {
   "cell_type": "code",
   "execution_count": 7,
   "metadata": {},
   "outputs": [
    {
     "data": {
      "text/plain": [
       "4096"
      ]
     },
     "execution_count": 7,
     "metadata": {},
     "output_type": "execute_result"
    }
   ],
   "source": [
    "len(torch.load('data/processed/wdbench/wdbench_nl_encoding.pt')[0])"
   ]
  },
  {
   "cell_type": "code",
   "execution_count": null,
   "metadata": {},
   "outputs": [],
   "source": []
  }
 ],
 "metadata": {
  "kernelspec": {
   "display_name": "env",
   "language": "python",
   "name": "python3"
  },
  "language_info": {
   "codemirror_mode": {
    "name": "ipython",
    "version": 3
   },
   "file_extension": ".py",
   "mimetype": "text/x-python",
   "name": "python",
   "nbconvert_exporter": "python",
   "pygments_lexer": "ipython3",
   "version": "3.9.18"
  }
 },
 "nbformat": 4,
 "nbformat_minor": 2
}
